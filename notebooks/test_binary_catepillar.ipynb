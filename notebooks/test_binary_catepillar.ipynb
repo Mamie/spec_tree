{
 "cells": [
  {
   "cell_type": "markdown",
   "metadata": {},
   "source": [
    "# Simulate binary and catepillar tree\n",
    "\n",
    "Mamie Wang 05/11/20\n",
    "\n",
    "Goal: \n",
    "\n",
    "- Additional test of the spectral tree method on two simulated datasets\n",
    "- plot the influenza tree as an example\n",
    "- organize the result from influenza tree"
   ]
  },
  {
   "cell_type": "code",
   "execution_count": 1,
   "metadata": {},
   "outputs": [],
   "source": [
    "import sys, os\n",
    "\n",
    "sys.path.append(os.path.join(os.path.dirname(sys.path[0]),'../spectral-tree-inference/spectraltree'))\n",
    "\n",
    "import numpy as np\n",
    "import utils\n",
    "import generation\n",
    "import reconstruct_tree\n",
    "import dendropy\n",
    "import scipy\n",
    "import time\n",
    "from itertools import product\n",
    "import matplotlib.pyplot as plt\n",
    "\n",
    "from dendropy.model.discrete import simulate_discrete_chars, Jc69, Hky85\n",
    "from dendropy.calculate.treecompare import symmetric_difference"
   ]
  },
  {
   "cell_type": "markdown",
   "metadata": {},
   "source": [
    "## Binary tree\n",
    "\n",
    "\n",
    "A complete binary tree of 512 terminal nodes and n=1000 samples\n",
    "\n",
    "- compare between 1. RAXML, 2. deep+RAXML, 3. deep+NJ, 4. deep+SNJ, 5. NJ and SNJ"
   ]
  },
  {
   "cell_type": "code",
   "execution_count": 2,
   "metadata": {},
   "outputs": [],
   "source": [
    "m = 128\n",
    "n = 1000\n",
    "\n",
    "binary_tree = utils.balanced_binary(m)"
   ]
  },
  {
   "cell_type": "code",
   "execution_count": 3,
   "metadata": {},
   "outputs": [],
   "source": [
    "binary_tree.write(path='/gpfs/ysm/project/kleinstein/mw957/repos/spectral-tree-inference/data/binary_tree.newick',\n",
    "                     schema = \"newick\")"
   ]
  },
  {
   "cell_type": "code",
   "execution_count": 2,
   "metadata": {},
   "outputs": [
    {
     "data": {
      "text/html": [
       "<div>\n",
       "<style scoped>\n",
       "    .dataframe tbody tr th:only-of-type {\n",
       "        vertical-align: middle;\n",
       "    }\n",
       "\n",
       "    .dataframe tbody tr th {\n",
       "        vertical-align: top;\n",
       "    }\n",
       "\n",
       "    .dataframe thead tr th {\n",
       "        text-align: left;\n",
       "    }\n",
       "\n",
       "    .dataframe thead tr:last-of-type th {\n",
       "        text-align: right;\n",
       "    }\n",
       "</style>\n",
       "<table border=\"1\" class=\"dataframe\">\n",
       "  <thead>\n",
       "    <tr>\n",
       "      <th></th>\n",
       "      <th colspan=\"2\" halign=\"left\">runtime</th>\n",
       "      <th colspan=\"2\" halign=\"left\">RF</th>\n",
       "      <th colspan=\"2\" halign=\"left\">F1</th>\n",
       "    </tr>\n",
       "    <tr>\n",
       "      <th></th>\n",
       "      <th>mean</th>\n",
       "      <th>std</th>\n",
       "      <th>mean</th>\n",
       "      <th>std</th>\n",
       "      <th>mean</th>\n",
       "      <th>std</th>\n",
       "    </tr>\n",
       "    <tr>\n",
       "      <th>method</th>\n",
       "      <th></th>\n",
       "      <th></th>\n",
       "      <th></th>\n",
       "      <th></th>\n",
       "      <th></th>\n",
       "      <th></th>\n",
       "    </tr>\n",
       "  </thead>\n",
       "  <tbody>\n",
       "    <tr>\n",
       "      <th>raxml</th>\n",
       "      <td>763.20</td>\n",
       "      <td>37.44</td>\n",
       "      <td>41.9</td>\n",
       "      <td>6.97</td>\n",
       "      <td>97.95</td>\n",
       "      <td>0.34</td>\n",
       "    </tr>\n",
       "    <tr>\n",
       "      <th>raxml sp deep 64</th>\n",
       "      <td>254.41</td>\n",
       "      <td>7.96</td>\n",
       "      <td>52.8</td>\n",
       "      <td>9.23</td>\n",
       "      <td>97.42</td>\n",
       "      <td>0.45</td>\n",
       "    </tr>\n",
       "    <tr>\n",
       "      <th>raxml sp deep 32</th>\n",
       "      <td>152.95</td>\n",
       "      <td>4.13</td>\n",
       "      <td>66.6</td>\n",
       "      <td>10.01</td>\n",
       "      <td>96.74</td>\n",
       "      <td>0.49</td>\n",
       "    </tr>\n",
       "    <tr>\n",
       "      <th>nj sp deep 32</th>\n",
       "      <td>56.10</td>\n",
       "      <td>1.65</td>\n",
       "      <td>79.0</td>\n",
       "      <td>7.99</td>\n",
       "      <td>96.14</td>\n",
       "      <td>0.39</td>\n",
       "    </tr>\n",
       "    <tr>\n",
       "      <th>raxml sp deep 16</th>\n",
       "      <td>88.56</td>\n",
       "      <td>2.25</td>\n",
       "      <td>80.2</td>\n",
       "      <td>7.54</td>\n",
       "      <td>96.08</td>\n",
       "      <td>0.37</td>\n",
       "    </tr>\n",
       "    <tr>\n",
       "      <th>nj sp deep 64</th>\n",
       "      <td>56.13</td>\n",
       "      <td>1.69</td>\n",
       "      <td>80.4</td>\n",
       "      <td>6.95</td>\n",
       "      <td>96.07</td>\n",
       "      <td>0.34</td>\n",
       "    </tr>\n",
       "    <tr>\n",
       "      <th>nj sp deep 16</th>\n",
       "      <td>56.31</td>\n",
       "      <td>1.71</td>\n",
       "      <td>88.7</td>\n",
       "      <td>10.08</td>\n",
       "      <td>95.66</td>\n",
       "      <td>0.49</td>\n",
       "    </tr>\n",
       "    <tr>\n",
       "      <th>nj</th>\n",
       "      <td>76.27</td>\n",
       "      <td>2.81</td>\n",
       "      <td>99.8</td>\n",
       "      <td>7.62</td>\n",
       "      <td>95.12</td>\n",
       "      <td>0.37</td>\n",
       "    </tr>\n",
       "    <tr>\n",
       "      <th>snj</th>\n",
       "      <td>78.61</td>\n",
       "      <td>2.03</td>\n",
       "      <td>264.6</td>\n",
       "      <td>15.22</td>\n",
       "      <td>87.05</td>\n",
       "      <td>0.74</td>\n",
       "    </tr>\n",
       "  </tbody>\n",
       "</table>\n",
       "</div>"
      ],
      "text/plain": [
       "                 runtime            RF            F1      \n",
       "                    mean    std   mean    std   mean   std\n",
       "method                                                    \n",
       "raxml             763.20  37.44   41.9   6.97  97.95  0.34\n",
       "raxml sp deep 64  254.41   7.96   52.8   9.23  97.42  0.45\n",
       "raxml sp deep 32  152.95   4.13   66.6  10.01  96.74  0.49\n",
       "nj sp deep 32      56.10   1.65   79.0   7.99  96.14  0.39\n",
       "raxml sp deep 16   88.56   2.25   80.2   7.54  96.08  0.37\n",
       "nj sp deep 64      56.13   1.69   80.4   6.95  96.07  0.34\n",
       "nj sp deep 16      56.31   1.71   88.7  10.08  95.66  0.49\n",
       "nj                 76.27   2.81   99.8   7.62  95.12  0.37\n",
       "snj                78.61   2.03  264.6  15.22  87.05  0.74"
      ]
     },
     "execution_count": 2,
     "metadata": {},
     "output_type": "execute_result"
    }
   ],
   "source": [
    "# results from the catepillar tree\n",
    "import pandas as pd\n",
    "perf_metrics = pd.read_csv(\"/gpfs/ysm/project/kleinstein/mw957/repos/spec_tree/script/binary_angle.csv\")\n",
    "perf_metrics = perf_metrics.loc[:, [\"method\", \"threshold\", \"runtime\", \"RF\", \"F1\"]]\n",
    "has_threshold = perf_metrics.threshold != \"None\"\n",
    "perf_metrics.loc[has_threshold,'method'] = perf_metrics.loc[has_threshold,'method'] + \" \" + perf_metrics.loc[has_threshold,'threshold']\n",
    "perf_summarized = perf_metrics.groupby(\"method\").agg(['mean', 'std']).round(2).sort_values([('F1', 'mean')], ascending=False)\n",
    "perf_summarized"
   ]
  },
  {
   "cell_type": "markdown",
   "metadata": {},
   "source": [
    "## Catepillar tree\n",
    "\n",
    "A caterpillar tree with m=128 terminal nodes and 1000 samples\n",
    "\n",
    "- compare between 1. RAXML, 2. deep+RAXML, 3. deep+NJ, 4. deep+SNJ, 5. NJ and SNJ"
   ]
  },
  {
   "cell_type": "code",
   "execution_count": 3,
   "metadata": {},
   "outputs": [],
   "source": [
    "m = 128\n",
    "n = 1000\n",
    "catepillar_tree = utils.lopsided_tree(m, edge_length = 1)"
   ]
  },
  {
   "cell_type": "code",
   "execution_count": 4,
   "metadata": {},
   "outputs": [],
   "source": [
    "catepillar_tree.write(path='/gpfs/ysm/project/kleinstein/mw957/repos/spectral-tree-inference/data/catepillar.newick',\n",
    "                     schema = \"newick\")"
   ]
  },
  {
   "cell_type": "code",
   "execution_count": 1,
   "metadata": {},
   "outputs": [
    {
     "data": {
      "text/html": [
       "<div>\n",
       "<style scoped>\n",
       "    .dataframe tbody tr th:only-of-type {\n",
       "        vertical-align: middle;\n",
       "    }\n",
       "\n",
       "    .dataframe tbody tr th {\n",
       "        vertical-align: top;\n",
       "    }\n",
       "\n",
       "    .dataframe thead tr th {\n",
       "        text-align: left;\n",
       "    }\n",
       "\n",
       "    .dataframe thead tr:last-of-type th {\n",
       "        text-align: right;\n",
       "    }\n",
       "</style>\n",
       "<table border=\"1\" class=\"dataframe\">\n",
       "  <thead>\n",
       "    <tr>\n",
       "      <th></th>\n",
       "      <th colspan=\"2\" halign=\"left\">runtime</th>\n",
       "      <th colspan=\"2\" halign=\"left\">RF</th>\n",
       "      <th colspan=\"2\" halign=\"left\">F1</th>\n",
       "    </tr>\n",
       "    <tr>\n",
       "      <th></th>\n",
       "      <th>mean</th>\n",
       "      <th>std</th>\n",
       "      <th>mean</th>\n",
       "      <th>std</th>\n",
       "      <th>mean</th>\n",
       "      <th>std</th>\n",
       "    </tr>\n",
       "    <tr>\n",
       "      <th>method</th>\n",
       "      <th></th>\n",
       "      <th></th>\n",
       "      <th></th>\n",
       "      <th></th>\n",
       "      <th></th>\n",
       "      <th></th>\n",
       "    </tr>\n",
       "  </thead>\n",
       "  <tbody>\n",
       "    <tr>\n",
       "      <th>raxml sp deep 32</th>\n",
       "      <td>33.79</td>\n",
       "      <td>2.08</td>\n",
       "      <td>42.8</td>\n",
       "      <td>53.62</td>\n",
       "      <td>91.57</td>\n",
       "      <td>10.56</td>\n",
       "    </tr>\n",
       "    <tr>\n",
       "      <th>raxml sp deep 16</th>\n",
       "      <td>18.86</td>\n",
       "      <td>1.72</td>\n",
       "      <td>49.7</td>\n",
       "      <td>57.38</td>\n",
       "      <td>90.22</td>\n",
       "      <td>11.29</td>\n",
       "    </tr>\n",
       "    <tr>\n",
       "      <th>nj sp deep 16</th>\n",
       "      <td>3.42</td>\n",
       "      <td>0.04</td>\n",
       "      <td>51.1</td>\n",
       "      <td>59.09</td>\n",
       "      <td>89.94</td>\n",
       "      <td>11.63</td>\n",
       "    </tr>\n",
       "    <tr>\n",
       "      <th>raxml sp deep 64</th>\n",
       "      <td>42.57</td>\n",
       "      <td>2.14</td>\n",
       "      <td>54.7</td>\n",
       "      <td>69.14</td>\n",
       "      <td>89.23</td>\n",
       "      <td>13.61</td>\n",
       "    </tr>\n",
       "    <tr>\n",
       "      <th>nj sp deep 32</th>\n",
       "      <td>3.38</td>\n",
       "      <td>0.03</td>\n",
       "      <td>80.4</td>\n",
       "      <td>81.93</td>\n",
       "      <td>84.17</td>\n",
       "      <td>16.13</td>\n",
       "    </tr>\n",
       "    <tr>\n",
       "      <th>raxml</th>\n",
       "      <td>56.51</td>\n",
       "      <td>10.30</td>\n",
       "      <td>103.7</td>\n",
       "      <td>81.96</td>\n",
       "      <td>79.59</td>\n",
       "      <td>16.13</td>\n",
       "    </tr>\n",
       "    <tr>\n",
       "      <th>nj sp deep 64</th>\n",
       "      <td>3.36</td>\n",
       "      <td>0.04</td>\n",
       "      <td>124.6</td>\n",
       "      <td>55.86</td>\n",
       "      <td>75.47</td>\n",
       "      <td>11.00</td>\n",
       "    </tr>\n",
       "    <tr>\n",
       "      <th>snj</th>\n",
       "      <td>4.02</td>\n",
       "      <td>0.07</td>\n",
       "      <td>227.3</td>\n",
       "      <td>3.26</td>\n",
       "      <td>55.26</td>\n",
       "      <td>0.64</td>\n",
       "    </tr>\n",
       "    <tr>\n",
       "      <th>nj</th>\n",
       "      <td>3.54</td>\n",
       "      <td>0.02</td>\n",
       "      <td>231.1</td>\n",
       "      <td>23.58</td>\n",
       "      <td>54.51</td>\n",
       "      <td>4.64</td>\n",
       "    </tr>\n",
       "  </tbody>\n",
       "</table>\n",
       "</div>"
      ],
      "text/plain": [
       "                 runtime            RF            F1       \n",
       "                    mean    std   mean    std   mean    std\n",
       "method                                                     \n",
       "raxml sp deep 32   33.79   2.08   42.8  53.62  91.57  10.56\n",
       "raxml sp deep 16   18.86   1.72   49.7  57.38  90.22  11.29\n",
       "nj sp deep 16       3.42   0.04   51.1  59.09  89.94  11.63\n",
       "raxml sp deep 64   42.57   2.14   54.7  69.14  89.23  13.61\n",
       "nj sp deep 32       3.38   0.03   80.4  81.93  84.17  16.13\n",
       "raxml              56.51  10.30  103.7  81.96  79.59  16.13\n",
       "nj sp deep 64       3.36   0.04  124.6  55.86  75.47  11.00\n",
       "snj                 4.02   0.07  227.3   3.26  55.26   0.64\n",
       "nj                  3.54   0.02  231.1  23.58  54.51   4.64"
      ]
     },
     "execution_count": 1,
     "metadata": {},
     "output_type": "execute_result"
    }
   ],
   "source": [
    "# results from the catepillar tree\n",
    "import pandas as pd\n",
    "perf_metrics = pd.read_csv(\"/gpfs/ysm/project/kleinstein/mw957/repos/spec_tree/script/catepillar_angle.csv\")\n",
    "perf_metrics = perf_metrics.loc[:, [\"method\", \"threshold\", \"runtime\", \"RF\", \"F1\"]]\n",
    "has_threshold = perf_metrics.threshold != \"None\"\n",
    "perf_metrics.loc[has_threshold,'method'] = perf_metrics.loc[has_threshold,'method'] + \" \" + perf_metrics.loc[has_threshold,'threshold']\n",
    "perf_summarized = perf_metrics.groupby(\"method\").agg(['mean', 'std']).round(2).sort_values([('F1', 'mean')], ascending=False)\n",
    "perf_summarized"
   ]
  },
  {
   "cell_type": "markdown",
   "metadata": {},
   "source": [
    "## Plot the trees"
   ]
  },
  {
   "cell_type": "code",
   "execution_count": 1,
   "metadata": {},
   "outputs": [],
   "source": [
    "library(ape)"
   ]
  },
  {
   "cell_type": "code",
   "execution_count": 2,
   "metadata": {},
   "outputs": [],
   "source": [
    "H3N2_path = \"/gpfs/ysm/project/kleinstein/mw957/repos/spectral-tree-inference/data/NY_H3N2.newick\"\n",
    "catepillar_path = \"/gpfs/ysm/project/kleinstein/mw957/repos/spectral-tree-inference/data/catepillar.newick\"\n",
    "binary_tree_path = '/gpfs/ysm/project/kleinstein/mw957/repos/spectral-tree-inference/data/binary_tree.newick'"
   ]
  },
  {
   "cell_type": "code",
   "execution_count": 3,
   "metadata": {},
   "outputs": [],
   "source": [
    "H3N2_tree = read.tree(H3N2_path)\n",
    "catepillar_tree = read.tree(catepillar_path)\n",
    "binary_tree = read.tree(binary_tree_path)"
   ]
  },
  {
   "cell_type": "code",
   "execution_count": 5,
   "metadata": {},
   "outputs": [
    {
     "data": {
      "text/html": [
       "<strong>png:</strong> 2"
      ],
      "text/latex": [
       "\\textbf{png:} 2"
      ],
      "text/markdown": [
       "**png:** 2"
      ],
      "text/plain": [
       "png \n",
       "  2 "
      ]
     },
     "metadata": {},
     "output_type": "display_data"
    },
    {
     "data": {
      "image/png": "[encoded data removed]",
      "text/plain": [
       "plot without title"
      ]
     },
     "metadata": {},
     "output_type": "display_data"
    }
   ],
   "source": [
    "plot(ladderize(binary_tree), show.tip.label = F,  use.edge.length = T)\n",
    "\n",
    "svg(\"/gpfs/ysm/project/kleinstein/mw957/repos/spec_tree/figs/binary_tree.svg\")\n",
    "plot(ladderize(binary_tree), show.tip.label = F)\n",
    "dev.off()"
   ]
  },
  {
   "cell_type": "code",
   "execution_count": 6,
   "metadata": {},
   "outputs": [
    {
     "data": {
      "text/html": [
       "<strong>png:</strong> 2"
      ],
      "text/latex": [
       "\\textbf{png:} 2"
      ],
      "text/markdown": [
       "**png:** 2"
      ],
      "text/plain": [
       "png \n",
       "  2 "
      ]
     },
     "metadata": {},
     "output_type": "display_data"
    },
    {
     "data": {
      "image/png": "[encoded data removed]",
      "text/plain": [
       "plot without title"
      ]
     },
     "metadata": {},
     "output_type": "display_data"
    }
   ],
   "source": [
    "plot(catepillar_tree, show.tip.label = F,  use.edge.length = T)\n",
    "\n",
    "svg(\"/gpfs/ysm/project/kleinstein/mw957/repos/spec_tree/figs/catepillar_tree.svg\")\n",
    "plot(ladderize(catepillar_tree), show.tip.label = F)\n",
    "dev.off()"
   ]
  },
  {
   "cell_type": "code",
   "execution_count": 7,
   "metadata": {},
   "outputs": [
    {
     "data": {
      "text/html": [
       "<strong>png:</strong> 2"
      ],
      "text/latex": [
       "\\textbf{png:} 2"
      ],
      "text/markdown": [
       "**png:** 2"
      ],
      "text/plain": [
       "png \n",
       "  2 "
      ]
     },
     "metadata": {},
     "output_type": "display_data"
    },
    {
     "data": {
      "image/png": "[encoded data removed]",
      "text/plain": [
       "plot without title"
      ]
     },
     "metadata": {},
     "output_type": "display_data"
    }
   ],
   "source": [
    "# plot the beast tree\n",
    "plot(ladderize(H3N2_tree), show.tip.label = F)\n",
    "\n",
    "# save the plot\n",
    "svg(\"/gpfs/ysm/project/kleinstein/mw957/repos/spec_tree/figs/H3N2_tree.svg\")\n",
    "plot(ladderize(H3N2_tree), show.tip.label = F)\n",
    "dev.off()"
   ]
  },
  {
   "cell_type": "code",
   "execution_count": null,
   "metadata": {},
   "outputs": [],
   "source": []
  }
 ],
 "metadata": {
  "kernelspec": {
   "display_name": "Python 3",
   "language": "python",
   "name": "python3"
  },
  "language_info": {
   "codemirror_mode": {
    "name": "ipython",
    "version": 3
   },
   "file_extension": ".py",
   "mimetype": "text/x-python",
   "name": "python",
   "nbconvert_exporter": "python",
   "pygments_lexer": "ipython3",
   "version": "3.7.6"
  }
 },
 "nbformat": 4,
 "nbformat_minor": 4
}
