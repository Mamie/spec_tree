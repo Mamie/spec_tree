{
 "cells": [
  {
   "cell_type": "markdown",
   "metadata": {},
   "source": [
    "# Simulate binary and catepillar tree\n",
    "\n",
    "Mamie Wang 05/11/20\n",
    "\n",
    "Goal: \n",
    "\n",
    "- Additional test of the spectral tree method on two simulated datasets\n",
    "- plot the influenza tree as an example\n",
    "- organize the result from influenza tree"
   ]
  },
  {
   "cell_type": "code",
   "execution_count": 1,
   "metadata": {},
   "outputs": [],
   "source": [
    "import sys, os\n",
    "\n",
    "sys.path.append(os.path.join(os.path.dirname(sys.path[0]),'../spectral-tree-inference/spectraltree'))\n",
    "\n",
    "import numpy as np\n",
    "import utils\n",
    "import generation\n",
    "import reconstruct_tree\n",
    "import dendropy\n",
    "import scipy\n",
    "import time\n",
    "from itertools import product\n",
    "import matplotlib.pyplot as plt\n",
    "\n",
    "from dendropy.model.discrete import simulate_discrete_chars, Jc69, Hky85\n",
    "from dendropy.calculate.treecompare import symmetric_difference"
   ]
  },
  {
   "cell_type": "code",
   "execution_count": 121,
   "metadata": {},
   "outputs": [],
   "source": [
    "m = 4\n",
    "binary_tree = utils.balanced_binary(m, edge_length = 0.5)\n",
    "data_HKY = simulate_discrete_chars(100000, binary_tree, Hky85(kappa = 1), mutation_rate=0.1)"
   ]
  },
  {
   "cell_type": "code",
   "execution_count": 136,
   "metadata": {},
   "outputs": [
    {
     "name": "stdout",
     "output_type": "stream",
     "text": [
      "                                      /-------------------------------------- 0\n",
      "/-------------------------------------+                                        \n",
      "|                                     \\-------------------------------------- 1\n",
      "+                                                                              \n",
      "|                                     /-------------------------------------- 2\n",
      "\\-------------------------------------+                                        \n",
      "                                      \\-------------------------------------- 3\n",
      "                                                                               \n",
      "                                                                               \n"
     ]
    }
   ],
   "source": [
    "binary_tree.print_plot()"
   ]
  },
  {
   "cell_type": "code",
   "execution_count": 122,
   "metadata": {},
   "outputs": [],
   "source": [
    "ch_list = list()\n",
    "for t in data_HKY.taxon_namespace:\n",
    "    ch_list.append([x.symbol for x in data_HKY[t]])\n",
    "ch_arr = np.array(ch_list)"
   ]
  },
  {
   "cell_type": "code",
   "execution_count": 129,
   "metadata": {},
   "outputs": [],
   "source": [
    "seq_1_is_A = ch_arr[0,:] == 'A'\n",
    "seq_2_given_A = ch_arr[2,:][seq_1_is_A]"
   ]
  },
  {
   "cell_type": "code",
   "execution_count": 130,
   "metadata": {},
   "outputs": [
    {
     "data": {
      "text/plain": [
       "0.06049807815502883"
      ]
     },
     "execution_count": 130,
     "metadata": {},
     "output_type": "execute_result"
    }
   ],
   "source": [
    "np.mean(seq_2_given_A == \"C\")"
   ]
  },
  {
   "cell_type": "code",
   "execution_count": 131,
   "metadata": {},
   "outputs": [],
   "source": [
    "seq_1_is_C = ch_arr[0,:] == 'C'\n",
    "seq_2_given_C = ch_arr[2,:][seq_1_is_C]"
   ]
  },
  {
   "cell_type": "code",
   "execution_count": 132,
   "metadata": {},
   "outputs": [
    {
     "data": {
      "text/plain": [
       "0.06283433133732536"
      ]
     },
     "execution_count": 132,
     "metadata": {},
     "output_type": "execute_result"
    }
   ],
   "source": [
    "np.mean(seq_2_given_C == \"A\")"
   ]
  },
  {
   "cell_type": "code",
   "execution_count": 137,
   "metadata": {},
   "outputs": [],
   "source": [
    "seq_1_is_A = ch_arr[0,:] == 'A'\n",
    "seq_2_given_A = ch_arr[2,:][seq_1_is_A]"
   ]
  },
  {
   "cell_type": "code",
   "execution_count": 138,
   "metadata": {},
   "outputs": [
    {
     "data": {
      "text/plain": [
       "0.06005765534913517"
      ]
     },
     "execution_count": 138,
     "metadata": {},
     "output_type": "execute_result"
    }
   ],
   "source": [
    "np.mean(seq_2_given_A == \"G\")"
   ]
  },
  {
   "cell_type": "markdown",
   "metadata": {},
   "source": [
    "## Binary tree\n",
    "\n",
    "\n",
    "A complete binary tree of 512 terminal nodes and n=1000 samples\n",
    "\n",
    "- compare between 1. RAXML, 2. deep+RAXML, 3. deep+NJ, 4. deep+SNJ, 5. NJ and SNJ"
   ]
  },
  {
   "cell_type": "code",
   "execution_count": 3,
   "metadata": {},
   "outputs": [],
   "source": [
    "m = 1024\n",
    "n = 1000\n",
    "\n",
    "binary_tree = utils.balanced_binary(m)\n",
    "\n",
    "binary_tree.write(path='/gpfs/ysm/project/kleinstein/mw957/repos/spectral-tree-inference/data/binary_tree_1024.newick',\n",
    "                     schema = \"newick\")"
   ]
  },
  {
   "cell_type": "code",
   "execution_count": 2,
   "metadata": {},
   "outputs": [
    {
     "data": {
      "text/html": [
       "<div>\n",
       "<style scoped>\n",
       "    .dataframe tbody tr th:only-of-type {\n",
       "        vertical-align: middle;\n",
       "    }\n",
       "\n",
       "    .dataframe tbody tr th {\n",
       "        vertical-align: top;\n",
       "    }\n",
       "\n",
       "    .dataframe thead tr th {\n",
       "        text-align: left;\n",
       "    }\n",
       "\n",
       "    .dataframe thead tr:last-of-type th {\n",
       "        text-align: right;\n",
       "    }\n",
       "</style>\n",
       "<table border=\"1\" class=\"dataframe\">\n",
       "  <thead>\n",
       "    <tr>\n",
       "      <th></th>\n",
       "      <th colspan=\"2\" halign=\"left\">runtime</th>\n",
       "      <th colspan=\"2\" halign=\"left\">RF</th>\n",
       "      <th colspan=\"2\" halign=\"left\">F1</th>\n",
       "    </tr>\n",
       "    <tr>\n",
       "      <th></th>\n",
       "      <th>mean</th>\n",
       "      <th>std</th>\n",
       "      <th>mean</th>\n",
       "      <th>std</th>\n",
       "      <th>mean</th>\n",
       "      <th>std</th>\n",
       "    </tr>\n",
       "    <tr>\n",
       "      <th>method</th>\n",
       "      <th></th>\n",
       "      <th></th>\n",
       "      <th></th>\n",
       "      <th></th>\n",
       "      <th></th>\n",
       "      <th></th>\n",
       "    </tr>\n",
       "  </thead>\n",
       "  <tbody>\n",
       "    <tr>\n",
       "      <th>raxml</th>\n",
       "      <td>811.07</td>\n",
       "      <td>9.70</td>\n",
       "      <td>0.0</td>\n",
       "      <td>0.00</td>\n",
       "      <td>100.00</td>\n",
       "      <td>0.00</td>\n",
       "    </tr>\n",
       "    <tr>\n",
       "      <th>raxml sp deep 256</th>\n",
       "      <td>764.20</td>\n",
       "      <td>8.48</td>\n",
       "      <td>5.4</td>\n",
       "      <td>2.60</td>\n",
       "      <td>99.74</td>\n",
       "      <td>0.13</td>\n",
       "    </tr>\n",
       "    <tr>\n",
       "      <th>nj sp deep 64</th>\n",
       "      <td>58.94</td>\n",
       "      <td>1.93</td>\n",
       "      <td>5.8</td>\n",
       "      <td>1.82</td>\n",
       "      <td>99.72</td>\n",
       "      <td>0.09</td>\n",
       "    </tr>\n",
       "    <tr>\n",
       "      <th>nj sp deep 128</th>\n",
       "      <td>59.44</td>\n",
       "      <td>1.14</td>\n",
       "      <td>5.9</td>\n",
       "      <td>2.94</td>\n",
       "      <td>99.71</td>\n",
       "      <td>0.14</td>\n",
       "    </tr>\n",
       "    <tr>\n",
       "      <th>raxml sp deep 64</th>\n",
       "      <td>354.13</td>\n",
       "      <td>2.17</td>\n",
       "      <td>6.4</td>\n",
       "      <td>2.21</td>\n",
       "      <td>99.69</td>\n",
       "      <td>0.11</td>\n",
       "    </tr>\n",
       "    <tr>\n",
       "      <th>raxml sp deep 128</th>\n",
       "      <td>599.65</td>\n",
       "      <td>7.84</td>\n",
       "      <td>6.8</td>\n",
       "      <td>3.81</td>\n",
       "      <td>99.67</td>\n",
       "      <td>0.19</td>\n",
       "    </tr>\n",
       "    <tr>\n",
       "      <th>nj sp deep 256</th>\n",
       "      <td>63.02</td>\n",
       "      <td>0.40</td>\n",
       "      <td>7.0</td>\n",
       "      <td>2.55</td>\n",
       "      <td>99.66</td>\n",
       "      <td>0.12</td>\n",
       "    </tr>\n",
       "    <tr>\n",
       "      <th>nj</th>\n",
       "      <td>80.44</td>\n",
       "      <td>0.76</td>\n",
       "      <td>32.7</td>\n",
       "      <td>15.90</td>\n",
       "      <td>98.40</td>\n",
       "      <td>0.78</td>\n",
       "    </tr>\n",
       "    <tr>\n",
       "      <th>snj</th>\n",
       "      <td>82.41</td>\n",
       "      <td>0.64</td>\n",
       "      <td>292.9</td>\n",
       "      <td>24.68</td>\n",
       "      <td>85.67</td>\n",
       "      <td>1.21</td>\n",
       "    </tr>\n",
       "  </tbody>\n",
       "</table>\n",
       "</div>"
      ],
      "text/plain": [
       "                  runtime           RF             F1      \n",
       "                     mean   std   mean    std    mean   std\n",
       "method                                                     \n",
       "raxml              811.07  9.70    0.0   0.00  100.00  0.00\n",
       "raxml sp deep 256  764.20  8.48    5.4   2.60   99.74  0.13\n",
       "nj sp deep 64       58.94  1.93    5.8   1.82   99.72  0.09\n",
       "nj sp deep 128      59.44  1.14    5.9   2.94   99.71  0.14\n",
       "raxml sp deep 64   354.13  2.17    6.4   2.21   99.69  0.11\n",
       "raxml sp deep 128  599.65  7.84    6.8   3.81   99.67  0.19\n",
       "nj sp deep 256      63.02  0.40    7.0   2.55   99.66  0.12\n",
       "nj                  80.44  0.76   32.7  15.90   98.40  0.78\n",
       "snj                 82.41  0.64  292.9  24.68   85.67  1.21"
      ]
     },
     "execution_count": 2,
     "metadata": {},
     "output_type": "execute_result"
    }
   ],
   "source": [
    "# results from the catepillar tree\n",
    "import pandas as pd\n",
    "perf_metrics = pd.read_csv(\"/gpfs/ysm/project/kleinstein/mw957/repos/spec_tree/script/binary_angle.csv\")\n",
    "perf_metrics = perf_metrics.loc[:, [\"method\", \"threshold\", \"runtime\", \"RF\", \"F1\"]]\n",
    "has_threshold = perf_metrics.threshold != \"None\"\n",
    "perf_metrics.loc[has_threshold,'method'] = perf_metrics.loc[has_threshold,'method'] + \" \" + perf_metrics.loc[has_threshold,'threshold']\n",
    "perf_summarized = perf_metrics.groupby(\"method\").agg(['mean', 'std']).round(2).sort_values([('F1', 'mean')], ascending=False)\n",
    "perf_summarized"
   ]
  },
  {
   "cell_type": "code",
   "execution_count": 171,
   "metadata": {},
   "outputs": [
    {
     "data": {
      "image/png": "[encoded data removed]",
      "text/plain": [
       "<Figure size 432x288 with 1 Axes>"
      ]
     },
     "metadata": {
      "needs_background": "light"
     },
     "output_type": "display_data"
    }
   ],
   "source": [
    "# plot the second eigenvector of the binary tree\n",
    "tree_path = \"/gpfs/ysm/project/kleinstein/mw957/repos/spectral-tree-inference/data/binary_tree.newick\"\n",
    "binary_tree = dendropy.Tree.get(path=tree_path, schema=\"newick\")\n",
    "data_HKY = simulate_discrete_chars(1000, binary_tree, Hky85(kappa = 2), mutation_rate=0.1)\n",
    "\n",
    "ch_list = list()\n",
    "for t in data_HKY.taxon_namespace:\n",
    "    ch_list.append([x.symbol for x in data_HKY[t]])\n",
    "ch_arr = np.array(ch_list)\n",
    "\n",
    "HKY_sim = reconstruct_tree.HKY_similarity_matrix(ch_arr)\n",
    "\n",
    "# compute the second eigenvector of the similarity matrix and plot it\n",
    "w, v = np.linalg.eigh(HKY_sim)\n",
    "\n",
    "plt.plot(v[:,-2], \".\")\n",
    "plt.savefig(\"/gpfs/ysm/project/kleinstein/mw957/repos/spec_tree/figs/2nd_eigvec_binary.eps\")"
   ]
  },
  {
   "cell_type": "markdown",
   "metadata": {},
   "source": [
    "## Catepillar tree\n",
    "\n",
    "A caterpillar tree with m=128 terminal nodes and 1000 samples\n",
    "\n",
    "- compare between 1. RAXML, 2. deep+RAXML, 3. deep+NJ, 4. deep+SNJ, 5. NJ and SNJ"
   ]
  },
  {
   "cell_type": "code",
   "execution_count": 3,
   "metadata": {},
   "outputs": [],
   "source": [
    "m = 128\n",
    "n = 1000\n",
    "catepillar_tree = utils.lopsided_tree(m, edge_length = 1)"
   ]
  },
  {
   "cell_type": "code",
   "execution_count": 4,
   "metadata": {},
   "outputs": [],
   "source": [
    "catepillar_tree.write(path='/gpfs/ysm/project/kleinstein/mw957/repos/spectral-tree-inference/data/catepillar.newick',\n",
    "                     schema = \"newick\")"
   ]
  },
  {
   "cell_type": "code",
   "execution_count": 3,
   "metadata": {},
   "outputs": [],
   "source": [
    "m = 32\n",
    "n = 1000\n",
    "catepillar_tree = utils.lopsided_tree(m, edge_length = 1)\n",
    "catepillar_tree.write(path='/gpfs/ysm/project/kleinstein/mw957/repos/spectral-tree-inference/data/catepillar_32_leaves.newick',\n",
    "                     schema = \"newick\")"
   ]
  },
  {
   "cell_type": "code",
   "execution_count": 1,
   "metadata": {},
   "outputs": [
    {
     "data": {
      "text/html": [
       "<div>\n",
       "<style scoped>\n",
       "    .dataframe tbody tr th:only-of-type {\n",
       "        vertical-align: middle;\n",
       "    }\n",
       "\n",
       "    .dataframe tbody tr th {\n",
       "        vertical-align: top;\n",
       "    }\n",
       "\n",
       "    .dataframe thead tr th {\n",
       "        text-align: left;\n",
       "    }\n",
       "\n",
       "    .dataframe thead tr:last-of-type th {\n",
       "        text-align: right;\n",
       "    }\n",
       "</style>\n",
       "<table border=\"1\" class=\"dataframe\">\n",
       "  <thead>\n",
       "    <tr>\n",
       "      <th></th>\n",
       "      <th colspan=\"2\" halign=\"left\">runtime</th>\n",
       "      <th colspan=\"2\" halign=\"left\">RF</th>\n",
       "      <th colspan=\"2\" halign=\"left\">F1</th>\n",
       "    </tr>\n",
       "    <tr>\n",
       "      <th></th>\n",
       "      <th>mean</th>\n",
       "      <th>std</th>\n",
       "      <th>mean</th>\n",
       "      <th>std</th>\n",
       "      <th>mean</th>\n",
       "      <th>std</th>\n",
       "    </tr>\n",
       "    <tr>\n",
       "      <th>method</th>\n",
       "      <th></th>\n",
       "      <th></th>\n",
       "      <th></th>\n",
       "      <th></th>\n",
       "      <th></th>\n",
       "      <th></th>\n",
       "    </tr>\n",
       "  </thead>\n",
       "  <tbody>\n",
       "    <tr>\n",
       "      <th>raxml sp deep 32</th>\n",
       "      <td>33.79</td>\n",
       "      <td>2.08</td>\n",
       "      <td>42.8</td>\n",
       "      <td>53.62</td>\n",
       "      <td>91.57</td>\n",
       "      <td>10.56</td>\n",
       "    </tr>\n",
       "    <tr>\n",
       "      <th>raxml sp deep 16</th>\n",
       "      <td>18.86</td>\n",
       "      <td>1.72</td>\n",
       "      <td>49.7</td>\n",
       "      <td>57.38</td>\n",
       "      <td>90.22</td>\n",
       "      <td>11.29</td>\n",
       "    </tr>\n",
       "    <tr>\n",
       "      <th>nj sp deep 16</th>\n",
       "      <td>3.42</td>\n",
       "      <td>0.04</td>\n",
       "      <td>51.1</td>\n",
       "      <td>59.09</td>\n",
       "      <td>89.94</td>\n",
       "      <td>11.63</td>\n",
       "    </tr>\n",
       "    <tr>\n",
       "      <th>raxml sp deep 64</th>\n",
       "      <td>42.57</td>\n",
       "      <td>2.14</td>\n",
       "      <td>54.7</td>\n",
       "      <td>69.14</td>\n",
       "      <td>89.23</td>\n",
       "      <td>13.61</td>\n",
       "    </tr>\n",
       "    <tr>\n",
       "      <th>nj sp deep 32</th>\n",
       "      <td>3.38</td>\n",
       "      <td>0.03</td>\n",
       "      <td>80.4</td>\n",
       "      <td>81.93</td>\n",
       "      <td>84.17</td>\n",
       "      <td>16.13</td>\n",
       "    </tr>\n",
       "    <tr>\n",
       "      <th>raxml</th>\n",
       "      <td>56.51</td>\n",
       "      <td>10.30</td>\n",
       "      <td>103.7</td>\n",
       "      <td>81.96</td>\n",
       "      <td>79.59</td>\n",
       "      <td>16.13</td>\n",
       "    </tr>\n",
       "    <tr>\n",
       "      <th>nj sp deep 64</th>\n",
       "      <td>3.36</td>\n",
       "      <td>0.04</td>\n",
       "      <td>124.6</td>\n",
       "      <td>55.86</td>\n",
       "      <td>75.47</td>\n",
       "      <td>11.00</td>\n",
       "    </tr>\n",
       "    <tr>\n",
       "      <th>snj</th>\n",
       "      <td>4.02</td>\n",
       "      <td>0.07</td>\n",
       "      <td>227.3</td>\n",
       "      <td>3.26</td>\n",
       "      <td>55.26</td>\n",
       "      <td>0.64</td>\n",
       "    </tr>\n",
       "    <tr>\n",
       "      <th>nj</th>\n",
       "      <td>3.54</td>\n",
       "      <td>0.02</td>\n",
       "      <td>231.1</td>\n",
       "      <td>23.58</td>\n",
       "      <td>54.51</td>\n",
       "      <td>4.64</td>\n",
       "    </tr>\n",
       "  </tbody>\n",
       "</table>\n",
       "</div>"
      ],
      "text/plain": [
       "                 runtime            RF            F1       \n",
       "                    mean    std   mean    std   mean    std\n",
       "method                                                     \n",
       "raxml sp deep 32   33.79   2.08   42.8  53.62  91.57  10.56\n",
       "raxml sp deep 16   18.86   1.72   49.7  57.38  90.22  11.29\n",
       "nj sp deep 16       3.42   0.04   51.1  59.09  89.94  11.63\n",
       "raxml sp deep 64   42.57   2.14   54.7  69.14  89.23  13.61\n",
       "nj sp deep 32       3.38   0.03   80.4  81.93  84.17  16.13\n",
       "raxml              56.51  10.30  103.7  81.96  79.59  16.13\n",
       "nj sp deep 64       3.36   0.04  124.6  55.86  75.47  11.00\n",
       "snj                 4.02   0.07  227.3   3.26  55.26   0.64\n",
       "nj                  3.54   0.02  231.1  23.58  54.51   4.64"
      ]
     },
     "execution_count": 1,
     "metadata": {},
     "output_type": "execute_result"
    }
   ],
   "source": [
    "# results from the catepillar tree\n",
    "import pandas as pd\n",
    "perf_metrics = pd.read_csv(\"/gpfs/ysm/project/kleinstein/mw957/repos/spec_tree/script/catepillar_angle.csv\")\n",
    "perf_metrics = perf_metrics.loc[:, [\"method\", \"threshold\", \"runtime\", \"RF\", \"F1\"]]\n",
    "has_threshold = perf_metrics.threshold != \"None\"\n",
    "perf_metrics.loc[has_threshold,'method'] = perf_metrics.loc[has_threshold,'method'] + \" \" + perf_metrics.loc[has_threshold,'threshold']\n",
    "perf_summarized = perf_metrics.groupby(\"method\").agg(['mean', 'std']).round(2).sort_values([('F1', 'mean')], ascending=False)\n",
    "perf_summarized"
   ]
  },
  {
   "cell_type": "code",
   "execution_count": 162,
   "metadata": {},
   "outputs": [],
   "source": [
    "# plot the second eigenvector of the binary tree\n",
    "m = 32\n",
    "n = 2000\n",
    "catepillar_tree = utils.lopsided_tree(m, edge_length = 1)\n",
    "data_HKY = simulate_discrete_chars(n, catepillar_tree, Hky85(kappa = 2), mutation_rate=0.05) # Jc69(),\n",
    "ch_list = list()\n",
    "for t in data_HKY.taxon_namespace:\n",
    "    ch_list.append([x.symbol for x in data_HKY[t]])\n",
    "ch_arr = np.array(ch_list)\n",
    "\n",
    "HKY_sim = reconstruct_tree.HKY_similarity_matrix(ch_arr)\n",
    "\n",
    "# compute the second eigenvector of the similarity matrix and plot it\n",
    "w, v = np.linalg.eigh(HKY_sim)"
   ]
  },
  {
   "cell_type": "code",
   "execution_count": 163,
   "metadata": {},
   "outputs": [],
   "source": [
    "import matplotlib.pyplot as plt"
   ]
  },
  {
   "cell_type": "code",
   "execution_count": 164,
   "metadata": {},
   "outputs": [
    {
     "data": {
      "text/plain": [
       "<matplotlib.image.AxesImage at 0x2b996e464950>"
      ]
     },
     "execution_count": 164,
     "metadata": {},
     "output_type": "execute_result"
    },
    {
     "data": {
      "image/png": "[encoded data removed]",
      "text/plain": [
       "<Figure size 432x288 with 1 Axes>"
      ]
     },
     "metadata": {
      "needs_background": "light"
     },
     "output_type": "display_data"
    }
   ],
   "source": [
    "plt.imshow(HKY_sim)"
   ]
  },
  {
   "cell_type": "code",
   "execution_count": 166,
   "metadata": {},
   "outputs": [
    {
     "data": {
      "image/png": "[encoded data removed]",
      "text/plain": [
       "<Figure size 432x288 with 1 Axes>"
      ]
     },
     "metadata": {
      "needs_background": "light"
     },
     "output_type": "display_data"
    }
   ],
   "source": [
    "plt.plot(v[:,-2], \".\")\n",
    "plt.savefig(\"/gpfs/ysm/project/kleinstein/mw957/repos/spec_tree/figs/2nd_eigvec_catepillar.eps\")"
   ]
  },
  {
   "cell_type": "markdown",
   "metadata": {},
   "source": [
    "## H3N2 tree"
   ]
  },
  {
   "cell_type": "code",
   "execution_count": 34,
   "metadata": {},
   "outputs": [
    {
     "data": {
      "image/png": "[encoded data removed]",
      "text/plain": [
       "<Figure size 432x288 with 1 Axes>"
      ]
     },
     "metadata": {
      "needs_background": "light"
     },
     "output_type": "display_data"
    }
   ],
   "source": [
    "# plot the second eigenvector of the binary tree\n",
    "tree_path = \"/gpfs/ysm/project/kleinstein/mw957/repos/spectral-tree-inference/data/NY_H3N2.newick\"\n",
    "H3N2_tree = dendropy.Tree.get(path=tree_path, schema=\"newick\")\n",
    "data_HKY = simulate_discrete_chars(1000, H3N2_tree, Hky85(kappa = 2), mutation_rate=0.1)\n",
    "\n",
    "ch_list = list()\n",
    "for t in data_HKY.taxon_namespace:\n",
    "    ch_list.append([x.symbol for x in data_HKY[t]])\n",
    "ch_arr = np.array(ch_list)\n",
    "\n",
    "HKY_sim = reconstruct_tree.HKY_similarity_matrix(ch_arr)\n",
    "\n",
    "# compute the second eigenvector of the similarity matrix and plot it\n",
    "w, v = np.linalg.eigh(HKY_sim)\n",
    "\n",
    "plt.plot(v[:,-2], \".\")\n",
    "plt.savefig(\"/gpfs/ysm/project/kleinstein/mw957/repos/spec_tree/figs/2nd_eigvec_H3N2.eps\")"
   ]
  },
  {
   "cell_type": "markdown",
   "metadata": {},
   "source": [
    "## H1N1 tree"
   ]
  },
  {
   "cell_type": "code",
   "execution_count": 3,
   "metadata": {},
   "outputs": [
    {
     "data": {
      "image/png": "[encoded data removed]",
      "text/plain": [
       "<Figure size 432x288 with 1 Axes>"
      ]
     },
     "metadata": {
      "needs_background": "light"
     },
     "output_type": "display_data"
    }
   ],
   "source": [
    "# plot the second eigenvector of the binary tree\n",
    "tree_path = \"/gpfs/ysm/project/kleinstein/mw957/repos/spec_tree/data/H1N1_NY_Skygrid_cutoff6.newick\"\n",
    "H1N1_tree = dendropy.Tree.get(path=tree_path, schema=\"newick\")\n",
    "data_HKY = simulate_discrete_chars(1000, H1N1_tree, Hky85(kappa = 2), mutation_rate=0.1)\n",
    "\n",
    "ch_list = list()\n",
    "for t in data_HKY.taxon_namespace:\n",
    "    ch_list.append([x.symbol for x in data_HKY[t]])\n",
    "ch_arr = np.array(ch_list)\n",
    "\n",
    "HKY_sim = reconstruct_tree.HKY_similarity_matrix(ch_arr)\n",
    "\n",
    "# compute the second eigenvector of the similarity matrix and plot it\n",
    "w, v = np.linalg.eigh(HKY_sim)\n",
    "\n",
    "plt.plot(v[:,-2], \".\")\n",
    "plt.savefig(\"/gpfs/ysm/project/kleinstein/mw957/repos/spec_tree/figs/2nd_eigvec_H1N1.eps\")"
   ]
  },
  {
   "cell_type": "code",
   "execution_count": 8,
   "metadata": {},
   "outputs": [
    {
     "data": {
      "text/html": [
       "<div>\n",
       "<style scoped>\n",
       "    .dataframe tbody tr th:only-of-type {\n",
       "        vertical-align: middle;\n",
       "    }\n",
       "\n",
       "    .dataframe tbody tr th {\n",
       "        vertical-align: top;\n",
       "    }\n",
       "\n",
       "    .dataframe thead tr th {\n",
       "        text-align: left;\n",
       "    }\n",
       "\n",
       "    .dataframe thead tr:last-of-type th {\n",
       "        text-align: right;\n",
       "    }\n",
       "</style>\n",
       "<table border=\"1\" class=\"dataframe\">\n",
       "  <thead>\n",
       "    <tr>\n",
       "      <th></th>\n",
       "      <th colspan=\"2\" halign=\"left\">runtime</th>\n",
       "      <th colspan=\"2\" halign=\"left\">RF</th>\n",
       "      <th colspan=\"2\" halign=\"left\">F1</th>\n",
       "    </tr>\n",
       "    <tr>\n",
       "      <th></th>\n",
       "      <th>mean</th>\n",
       "      <th>std</th>\n",
       "      <th>mean</th>\n",
       "      <th>std</th>\n",
       "      <th>mean</th>\n",
       "      <th>std</th>\n",
       "    </tr>\n",
       "    <tr>\n",
       "      <th>method</th>\n",
       "      <th></th>\n",
       "      <th></th>\n",
       "      <th></th>\n",
       "      <th></th>\n",
       "      <th></th>\n",
       "      <th></th>\n",
       "    </tr>\n",
       "  </thead>\n",
       "  <tbody>\n",
       "    <tr>\n",
       "      <th>raxml</th>\n",
       "      <td>175.71</td>\n",
       "      <td>6.64</td>\n",
       "      <td>40.2</td>\n",
       "      <td>6.49</td>\n",
       "      <td>96.50</td>\n",
       "      <td>0.57</td>\n",
       "    </tr>\n",
       "    <tr>\n",
       "      <th>raxml sp deep 64</th>\n",
       "      <td>53.68</td>\n",
       "      <td>1.34</td>\n",
       "      <td>40.4</td>\n",
       "      <td>5.06</td>\n",
       "      <td>96.48</td>\n",
       "      <td>0.44</td>\n",
       "    </tr>\n",
       "    <tr>\n",
       "      <th>raxml sp deep 128</th>\n",
       "      <td>89.19</td>\n",
       "      <td>2.63</td>\n",
       "      <td>46.4</td>\n",
       "      <td>5.95</td>\n",
       "      <td>95.96</td>\n",
       "      <td>0.52</td>\n",
       "    </tr>\n",
       "    <tr>\n",
       "      <th>nj sp deep 256</th>\n",
       "      <td>17.72</td>\n",
       "      <td>0.05</td>\n",
       "      <td>51.6</td>\n",
       "      <td>11.03</td>\n",
       "      <td>95.51</td>\n",
       "      <td>0.96</td>\n",
       "    </tr>\n",
       "    <tr>\n",
       "      <th>nj sp deep 128</th>\n",
       "      <td>17.30</td>\n",
       "      <td>0.06</td>\n",
       "      <td>52.6</td>\n",
       "      <td>4.43</td>\n",
       "      <td>95.42</td>\n",
       "      <td>0.39</td>\n",
       "    </tr>\n",
       "    <tr>\n",
       "      <th>nj sp deep 64</th>\n",
       "      <td>17.36</td>\n",
       "      <td>0.09</td>\n",
       "      <td>54.4</td>\n",
       "      <td>11.99</td>\n",
       "      <td>95.26</td>\n",
       "      <td>1.04</td>\n",
       "    </tr>\n",
       "    <tr>\n",
       "      <th>nj</th>\n",
       "      <td>20.76</td>\n",
       "      <td>0.05</td>\n",
       "      <td>65.0</td>\n",
       "      <td>10.51</td>\n",
       "      <td>94.34</td>\n",
       "      <td>0.92</td>\n",
       "    </tr>\n",
       "    <tr>\n",
       "      <th>nj sp deep 35</th>\n",
       "      <td>17.58</td>\n",
       "      <td>0.23</td>\n",
       "      <td>66.4</td>\n",
       "      <td>8.98</td>\n",
       "      <td>94.22</td>\n",
       "      <td>0.78</td>\n",
       "    </tr>\n",
       "    <tr>\n",
       "      <th>snj</th>\n",
       "      <td>22.61</td>\n",
       "      <td>0.33</td>\n",
       "      <td>232.4</td>\n",
       "      <td>12.61</td>\n",
       "      <td>79.76</td>\n",
       "      <td>1.10</td>\n",
       "    </tr>\n",
       "  </tbody>\n",
       "</table>\n",
       "</div>"
      ],
      "text/plain": [
       "                  runtime           RF            F1      \n",
       "                     mean   std   mean    std   mean   std\n",
       "method                                                    \n",
       "raxml              175.71  6.64   40.2   6.49  96.50  0.57\n",
       "raxml sp deep 64    53.68  1.34   40.4   5.06  96.48  0.44\n",
       "raxml sp deep 128   89.19  2.63   46.4   5.95  95.96  0.52\n",
       "nj sp deep 256      17.72  0.05   51.6  11.03  95.51  0.96\n",
       "nj sp deep 128      17.30  0.06   52.6   4.43  95.42  0.39\n",
       "nj sp deep 64       17.36  0.09   54.4  11.99  95.26  1.04\n",
       "nj                  20.76  0.05   65.0  10.51  94.34  0.92\n",
       "nj sp deep 35       17.58  0.23   66.4   8.98  94.22  0.78\n",
       "snj                 22.61  0.33  232.4  12.61  79.76  1.10"
      ]
     },
     "execution_count": 8,
     "metadata": {},
     "output_type": "execute_result"
    }
   ],
   "source": [
    "# results from the H1N1 tree\n",
    "import pandas as pd\n",
    "perf_metrics = pd.read_csv(\"/gpfs/ysm/project/kleinstein/mw957/repos/spec_tree/script/h1n1_angle.csv\")\n",
    "perf_metrics = perf_metrics.loc[:, [\"method\", \"threshold\", \"runtime\", \"RF\", \"F1\"]]\n",
    "has_threshold = perf_metrics.threshold != \"None\"\n",
    "perf_metrics.loc[has_threshold,'method'] = perf_metrics.loc[has_threshold,'method'] + \" \" + perf_metrics.loc[has_threshold,'threshold']\n",
    "perf_summarized = perf_metrics.groupby(\"method\").agg(['mean', 'std']).round(2).sort_values([('F1', 'mean')], ascending=False)\n",
    "perf_summarized"
   ]
  },
  {
   "cell_type": "markdown",
   "metadata": {},
   "source": [
    "## Plot the trees"
   ]
  },
  {
   "cell_type": "code",
   "execution_count": 1,
   "metadata": {},
   "outputs": [],
   "source": [
    "library(ape)"
   ]
  },
  {
   "cell_type": "code",
   "execution_count": 2,
   "metadata": {},
   "outputs": [],
   "source": [
    "H3N2_path = \"/gpfs/ysm/project/kleinstein/mw957/repos/spectral-tree-inference/data/NY_H3N2.newick\"\n",
    "H1N1_path = \"/gpfs/ysm/project/kleinstein/mw957/repos/spec_tree/data/H1N1_NY_Skygrid_cutoff6.newick\"\n",
    "catepillar_path = \"/gpfs/ysm/project/kleinstein/mw957/repos/spectral-tree-inference/data/catepillar_32_leaves.newick\"\n",
    "binary_tree_path = '/gpfs/ysm/project/kleinstein/mw957/repos/spectral-tree-inference/data/binary_tree.newick'"
   ]
  },
  {
   "cell_type": "code",
   "execution_count": 4,
   "metadata": {},
   "outputs": [],
   "source": [
    "H3N2_tree = read.tree(H3N2_path)\n",
    "H1N1_tree = read.tree(H1N1_path)\n",
    "catepillar_tree = read.tree(catepillar_path)\n",
    "binary_tree = read.tree(binary_tree_path)\n"
   ]
  },
  {
   "cell_type": "code",
   "execution_count": 5,
   "metadata": {},
   "outputs": [
    {
     "data": {
      "text/html": [
       "<strong>png:</strong> 2"
      ],
      "text/latex": [
       "\\textbf{png:} 2"
      ],
      "text/markdown": [
       "**png:** 2"
      ],
      "text/plain": [
       "png \n",
       "  2 "
      ]
     },
     "metadata": {},
     "output_type": "display_data"
    },
    {
     "data": {
      "image/png": "[encoded data removed]",
      "text/plain": [
       "plot without title"
      ]
     },
     "metadata": {},
     "output_type": "display_data"
    }
   ],
   "source": [
    "plot(ladderize(binary_tree), show.tip.label = F,  use.edge.length = T)\n",
    "\n",
    "svg(\"/gpfs/ysm/project/kleinstein/mw957/repos/spec_tree/figs/binary_tree.svg\")\n",
    "plot(ladderize(binary_tree), show.tip.label = F)\n",
    "dev.off()"
   ]
  },
  {
   "cell_type": "code",
   "execution_count": 6,
   "metadata": {},
   "outputs": [
    {
     "data": {
      "text/html": [
       "<strong>png:</strong> 2"
      ],
      "text/latex": [
       "\\textbf{png:} 2"
      ],
      "text/markdown": [
       "**png:** 2"
      ],
      "text/plain": [
       "png \n",
       "  2 "
      ]
     },
     "metadata": {},
     "output_type": "display_data"
    },
    {
     "data": {
      "image/png": "[encoded data removed]",
      "text/plain": [
       "plot without title"
      ]
     },
     "metadata": {},
     "output_type": "display_data"
    }
   ],
   "source": [
    "plot(catepillar_tree, show.tip.label = F,  use.edge.length = T)\n",
    "\n",
    "svg(\"/gpfs/ysm/project/kleinstein/mw957/repos/spec_tree/figs/catepillar_tree.svg\")\n",
    "plot(ladderize(catepillar_tree), show.tip.label = F)\n",
    "dev.off()"
   ]
  },
  {
   "cell_type": "code",
   "execution_count": 7,
   "metadata": {},
   "outputs": [
    {
     "data": {
      "text/html": [
       "<strong>png:</strong> 2"
      ],
      "text/latex": [
       "\\textbf{png:} 2"
      ],
      "text/markdown": [
       "**png:** 2"
      ],
      "text/plain": [
       "png \n",
       "  2 "
      ]
     },
     "metadata": {},
     "output_type": "display_data"
    },
    {
     "data": {
      "image/png": "[encoded data removed]",
      "text/plain": [
       "plot without title"
      ]
     },
     "metadata": {},
     "output_type": "display_data"
    }
   ],
   "source": [
    "# plot the beast tree\n",
    "plot(ladderize(H3N2_tree), show.tip.label = F)\n",
    "\n",
    "# save the plot\n",
    "svg(\"/gpfs/ysm/project/kleinstein/mw957/repos/spec_tree/figs/H3N2_tree.svg\")\n",
    "plot(ladderize(H3N2_tree), show.tip.label = F)\n",
    "dev.off()"
   ]
  },
  {
   "cell_type": "code",
   "execution_count": 5,
   "metadata": {},
   "outputs": [
    {
     "data": {
      "text/html": [
       "<strong>png:</strong> 2"
      ],
      "text/latex": [
       "\\textbf{png:} 2"
      ],
      "text/markdown": [
       "**png:** 2"
      ],
      "text/plain": [
       "png \n",
       "  2 "
      ]
     },
     "metadata": {},
     "output_type": "display_data"
    },
    {
     "data": {
      "image/png": "[encoded data removed]",
      "text/plain": [
       "plot without title"
      ]
     },
     "metadata": {},
     "output_type": "display_data"
    }
   ],
   "source": [
    "# plot the beast tree\n",
    "plot(ladderize(H1N1_tree), show.tip.label = F)\n",
    "\n",
    "# save the plot\n",
    "svg(\"/gpfs/ysm/project/kleinstein/mw957/repos/spec_tree/figs/H1N1_tree.svg\")\n",
    "plot(ladderize(H1N1_tree), show.tip.label = F)\n",
    "dev.off()"
   ]
  },
  {
   "cell_type": "code",
   "execution_count": null,
   "metadata": {},
   "outputs": [],
   "source": []
  }
 ],
 "metadata": {
  "kernelspec": {
   "display_name": "Python 3",
   "language": "python",
   "name": "python3"
  },
  "language_info": {
   "codemirror_mode": {
    "name": "ipython",
    "version": 3
   },
   "file_extension": ".py",
   "mimetype": "text/x-python",
   "name": "python",
   "nbconvert_exporter": "python",
   "pygments_lexer": "ipython3",
   "version": "3.7.6"
  }
 },
 "nbformat": 4,
 "nbformat_minor": 4
}
