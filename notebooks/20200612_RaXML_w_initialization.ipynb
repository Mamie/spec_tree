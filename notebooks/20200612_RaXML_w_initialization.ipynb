{
 "cells": [
  {
   "cell_type": "markdown",
   "metadata": {},
   "source": [
    "# Intialize RaXML with custom tree\n",
    "\n",
    "Mamie Wang 2020/06/12\n",
    "\n",
    "The purpose of this notebook is to modify the RaXML code so that it takes input from a user-provided tree. We are interested in testing the hypothesis whether RaXML initialized with STR method performs better than the RaXML without initialization.\n",
    "\n",
    "From RaXML manual, there is an option `-t` to specify a user starting tree (https://cme.h-its.org/exelixis/resource/download/NewManual.pdf). \n",
    "\n",
    "We first want to make sure that RaXML runs with given input. We will\n",
    "- Simulate a binary tree with 128 leaves \n",
    "- Reconstruct the tree using spectral deep method with NJ\n",
    "- Use the reconstructed tree as initial tree for the RaXML method"
   ]
  },
  {
   "cell_type": "code",
   "execution_count": 1,
   "metadata": {},
   "outputs": [],
   "source": [
    "import sys, os\n",
    "\n",
    "sys.path.append(os.path.join(os.path.dirname(sys.path[0]),'../spectral-tree-inference/spectraltree'))\n",
    "\n",
    "import numpy as np\n",
    "import utils\n",
    "import generation\n",
    "import reconstruct_tree\n",
    "import dendropy\n",
    "import scipy\n",
    "import time\n",
    "from itertools import product\n",
    "import matplotlib.pyplot as plt\n",
    "\n",
    "from dendropy.model.discrete import simulate_discrete_chars, Jc69, Hky85\n",
    "from dendropy.calculate.treecompare import symmetric_difference\n",
    "import character_matrix"
   ]
  },
  {
   "cell_type": "code",
   "execution_count": 2,
   "metadata": {},
   "outputs": [],
   "source": [
    "import os, sys\n",
    "\n",
    "# https://stackoverflow.com/questions/8391411/suppress-calls-to-print-python\n",
    "class HiddenPrints:\n",
    "    def __enter__(self):\n",
    "        self._original_stdout = sys.stdout\n",
    "        sys.stdout = open(os.devnull, 'w')\n",
    "\n",
    "    def __exit__(self, exc_type, exc_val, exc_tb):\n",
    "        sys.stdout.close()\n",
    "        sys.stdout = self._original_stdout"
   ]
  },
  {
   "cell_type": "markdown",
   "metadata": {},
   "source": [
    "## Simulate sequences from a perfect binary tree"
   ]
  },
  {
   "cell_type": "code",
   "execution_count": 9,
   "metadata": {},
   "outputs": [],
   "source": [
    "m = 512\n",
    "threshold = 128\n",
    "n = 50\n",
    "binary_tree = utils.balanced_binary(m, edge_length = 0.5)\n",
    "data_HKY = simulate_discrete_chars(100, binary_tree, Hky85(kappa = 1), mutation_rate=0.1)\n",
    "ch_list = list()\n",
    "for t in data_HKY.taxon_namespace:\n",
    "    ch_list.append([x.symbol for x in data_HKY[t]])\n",
    "ch_arr = np.array(ch_list)"
   ]
  },
  {
   "cell_type": "code",
   "execution_count": 10,
   "metadata": {},
   "outputs": [],
   "source": [
    "spectral_method = reconstruct_tree.SpectralTreeReconstruction(reconstruct_tree.NeighborJoining, reconstruct_tree.HKY_similarity_matrix)\n",
    "with HiddenPrints():\n",
    "    start_time = time.time()\n",
    "    tree_rec = spectral_method.deep_spectral_tree_reonstruction(ch_arr, reconstruct_tree.HKY_similarity_matrix_missing_data, \n",
    "                                                            taxon_namespace = binary_tree.taxon_namespace, \n",
    "                                                            threshhold = threshold, min_split = 5)\n",
    "    runtime = time.time() - start_time\n",
    "\n",
    "RF,F1 = reconstruct_tree.compare_trees(tree_rec, binary_tree)"
   ]
  },
  {
   "cell_type": "code",
   "execution_count": 11,
   "metadata": {},
   "outputs": [
    {
     "name": "stdout",
     "output_type": "stream",
     "text": [
      "--- 22.228666067123413 seconds ---\n",
      "RF =  134\n",
      "F1% =  93.44422700587083\n"
     ]
    }
   ],
   "source": [
    "print(\"--- %s seconds ---\" % runtime)\n",
    "print(\"RF = \",RF)\n",
    "print(\"F1% = \",F1) "
   ]
  },
  {
   "cell_type": "markdown",
   "metadata": {},
   "source": [
    "Save the recreated tree as a Newick file. "
   ]
  },
  {
   "cell_type": "code",
   "execution_count": 12,
   "metadata": {},
   "outputs": [],
   "source": [
    "tree_rec.write(path=\"/gpfs/ysm/project/kleinstein/mw957/repos/spec_tree/data/binary_128_STR_NJ.tre\", schema=\"newick\")"
   ]
  },
  {
   "cell_type": "markdown",
   "metadata": {},
   "source": [
    "## Run RaXML without initialized tree"
   ]
  },
  {
   "cell_type": "code",
   "execution_count": 13,
   "metadata": {},
   "outputs": [
    {
     "name": "stdout",
     "output_type": "stream",
     "text": [
      "--- 112.97217106819153 seconds ---\n",
      "RF =  44\n",
      "F1% =  97.84735812133071\n"
     ]
    }
   ],
   "source": [
    "raxml_HKY = reconstruct_tree.RAxML()\n",
    "start_time = time.time()\n",
    "tree_rec = raxml_HKY(data_HKY, raxml_args=\"-T 2 --HKY85 -c 1\")  \n",
    "runtime = time.time() - start_time\n",
    "RF,F1 = reconstruct_tree.compare_trees(tree_rec, binary_tree)\n",
    "\n",
    "print(\"--- %s seconds ---\" % runtime)\n",
    "print(\"RF = \",RF)\n",
    "print(\"F1% = \",F1) "
   ]
  },
  {
   "cell_type": "code",
   "execution_count": 14,
   "metadata": {},
   "outputs": [
    {
     "name": "stdout",
     "output_type": "stream",
     "text": [
      "--- 111.95083498954773 seconds ---\n",
      "RF =  38\n",
      "F1% =  98.14090019569471\n"
     ]
    }
   ],
   "source": [
    "raxml_HKY = reconstruct_tree.RAxML()\n",
    "start_time = time.time()\n",
    "tree_rec = raxml_HKY(data_HKY, raxml_args=\"-T 2 --HKY85 -c 1 -t /gpfs/ysm/project/kleinstein/mw957/repos/spec_tree/data/binary_128_STR_NJ.tre\")  \n",
    "runtime = time.time() - start_time\n",
    "RF,F1 = reconstruct_tree.compare_trees(tree_rec, binary_tree)\n",
    "\n",
    "print(\"--- %s seconds ---\" % runtime)\n",
    "print(\"RF = \",RF)\n",
    "print(\"F1% = \",F1) "
   ]
  }
 ],
 "metadata": {
  "kernelspec": {
   "display_name": "Python 3",
   "language": "python",
   "name": "python3"
  },
  "language_info": {
   "codemirror_mode": {
    "name": "ipython",
    "version": 3
   },
   "file_extension": ".py",
   "mimetype": "text/x-python",
   "name": "python",
   "nbconvert_exporter": "python",
   "pygments_lexer": "ipython3",
   "version": "3.7.6"
  }
 },
 "nbformat": 4,
 "nbformat_minor": 4
}
