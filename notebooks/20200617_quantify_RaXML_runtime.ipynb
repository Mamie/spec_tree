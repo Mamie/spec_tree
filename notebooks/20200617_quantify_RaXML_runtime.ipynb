{
 "cells": [
  {
   "cell_type": "markdown",
   "metadata": {},
   "source": [
    "# Quantify the runtime of RaXML\n",
    "\n",
    "Mamie Wang 2020/06/18\n",
    "\n",
    "The goal of this analysis is to find where spectral tree clustering breaks and quantify the runtime of each step. "
   ]
  },
  {
   "cell_type": "code",
   "execution_count": 27,
   "metadata": {},
   "outputs": [],
   "source": [
    "import sys, os\n",
    "\n",
    "sys.path.append(os.path.join(os.path.dirname(sys.path[0]),'../spectral-tree-inference/spectraltree'))\n",
    "\n",
    "import numpy as np\n",
    "import utils\n",
    "import generation\n",
    "import reconstruct_tree\n",
    "import dendropy\n",
    "import scipy\n",
    "import time\n",
    "from itertools import product\n",
    "import matplotlib.pyplot as plt\n",
    "\n",
    "from dendropy.model.discrete import simulate_discrete_chars, Jc69, Hky85\n",
    "from dendropy.calculate.treecompare import symmetric_difference\n",
    "import character_matrix\n",
    "import copy\n",
    "import os, sys\n",
    "\n",
    "# https://stackoverflow.com/questions/8391411/suppress-calls-to-print-python\n",
    "class HiddenPrints:\n",
    "    def __enter__(self):\n",
    "        self._original_stdout = sys.stdout\n",
    "        sys.stdout = open(os.devnull, 'w')\n",
    "\n",
    "    def __exit__(self, exc_type, exc_val, exc_tb):\n",
    "        sys.stdout.close()\n",
    "        sys.stdout = self._original_stdout"
   ]
  },
  {
   "cell_type": "code",
   "execution_count": 9,
   "metadata": {},
   "outputs": [],
   "source": [
    "m = 128 # large tree: 512 nodes, mutation rate = 0.1\n",
    "catepillar_tree = utils.lopsided_tree(m, edge_length = 1)\n",
    "threshold = 64"
   ]
  },
  {
   "cell_type": "code",
   "execution_count": 10,
   "metadata": {},
   "outputs": [],
   "source": [
    "data_HKY = simulate_discrete_chars(1000, catepillar_tree, Hky85(kappa = 1), mutation_rate=0.1)\n",
    "ch_list = list()\n",
    "for t in data_HKY.taxon_namespace:\n",
    "    ch_list.append([x.symbol for x in data_HKY[t]])\n",
    "ch_arr = np.array(ch_list)"
   ]
  },
  {
   "cell_type": "code",
   "execution_count": 11,
   "metadata": {},
   "outputs": [],
   "source": [
    "spectral_method = reconstruct_tree.SpectralTreeReconstruction(reconstruct_tree.SpectralNeighborJoining, reconstruct_tree.HKY_similarity_matrix_missing_data)\n",
    "with HiddenPrints():\n",
    "    start_time = time.time()\n",
    "    tree_rec = spectral_method.deep_spectral_tree_reonstruction(ch_arr, reconstruct_tree.HKY_similarity_matrix_missing_data, \n",
    "                                                            taxon_namespace = catepillar_tree.taxon_namespace, \n",
    "                                                            threshhold = threshold, min_split = 5)\n",
    "    runtime = time.time() - start_time\n",
    "\n",
    "RF,F1 = reconstruct_tree.compare_trees(tree_rec, catepillar_tree)"
   ]
  },
  {
   "cell_type": "code",
   "execution_count": 12,
   "metadata": {},
   "outputs": [
    {
     "name": "stdout",
     "output_type": "stream",
     "text": [
      "--- 1.9397449493408203 seconds ---\n",
      "RF =  86\n",
      "F1% =  83.07086614173227\n"
     ]
    }
   ],
   "source": [
    "print(\"--- %s seconds ---\" % runtime)\n",
    "print(\"RF = \",RF)\n",
    "print(\"F1% = \",F1) "
   ]
  },
  {
   "cell_type": "markdown",
   "metadata": {},
   "source": [
    "## Check STR + RaXML time"
   ]
  },
  {
   "cell_type": "markdown",
   "metadata": {},
   "source": [
    "We need to first find a set of parameter that breaks the STR + RaXML. "
   ]
  },
  {
   "cell_type": "code",
   "execution_count": 5,
   "metadata": {},
   "outputs": [],
   "source": [
    "m = 512\n",
    "n = 200\n",
    "threshold = 256\n",
    "\n",
    "binary_tree = utils.balanced_binary(m, edge_length = 0.5)\n",
    "data_HKY = simulate_discrete_chars(n, binary_tree, Hky85(kappa = 1), mutation_rate=0.1)\n",
    "\n",
    "ch_list = list()\n",
    "for t in data_HKY.taxon_namespace:\n",
    "    ch_list.append([x.symbol for x in data_HKY[t]])\n",
    "ch_arr = np.array(ch_list)"
   ]
  },
  {
   "cell_type": "code",
   "execution_count": 6,
   "metadata": {},
   "outputs": [
    {
     "name": "stdout",
     "output_type": "stream",
     "text": [
      "partition\n",
      "L1 size:  256\n",
      "L2 size:  256\n",
      "--- 70.92654275894165 seconds ---\n",
      "--- 70.10468292236328 seconds ---\n",
      "one - merging:  128  out of:  256\n",
      "one - merging:  192  out of:  256\n",
      "--- 160.1297469139099 seconds ---\n"
     ]
    }
   ],
   "source": [
    "spectral_method = reconstruct_tree.SpectralTreeReconstruction(reconstruct_tree.RAxML,\n",
    "                                                              reconstruct_tree.HKY_similarity_matrix)\n",
    "start_time = time.time()\n",
    "tree_rec = spectral_method.deep_spectral_tree_reonstruction(ch_arr, reconstruct_tree.HKY_similarity_matrix, \n",
    "                                                            taxon_namespace = binary_tree.taxon_namespace, \n",
    "                                                            threshhold = threshold,\n",
    "                                                            raxml_args = \"-T 2 --HKY85 -c 1\", min_split = 5)\n",
    "runtime = time.time() - start_time\n",
    "print(\"--- %s seconds ---\" % runtime)"
   ]
  },
  {
   "cell_type": "code",
   "execution_count": 7,
   "metadata": {},
   "outputs": [
    {
     "name": "stdout",
     "output_type": "stream",
     "text": [
      "RF =  2\n",
      "F1% =  99.90215264187869\n"
     ]
    }
   ],
   "source": [
    "RF,F1 = reconstruct_tree.compare_trees(tree_rec, binary_tree)\n",
    "\n",
    "print(\"RF = \",RF)\n",
    "print(\"F1% = \",F1) "
   ]
  },
  {
   "cell_type": "markdown",
   "metadata": {},
   "source": [
    "The reconstructed tree have some mistakes. Let's check which part breaks. We can use previous test to test splitting and merging. "
   ]
  },
  {
   "cell_type": "markdown",
   "metadata": {},
   "source": [
    "## Splitting test"
   ]
  },
  {
   "cell_type": "code",
   "execution_count": 14,
   "metadata": {},
   "outputs": [],
   "source": [
    "def check_is_bipartition(tree, bool_partition):\n",
    "    bipartitions = [str(x)[::-1] for x in tree.encode_bipartitions()]\n",
    "    partition_1 = \"\".join(list(bool_partition.astype('int').astype('str')))\n",
    "    partition_2 = \"\".join(list((1 - bool_partition).astype('int').astype('str')))\n",
    "    is_bipartition = (partition_1 in bipartitions) or (partition_2 in bipartitions)\n",
    "    return is_bipartition\n",
    "\n",
    "def test_split(sim, tree, min_split = 5):\n",
    "    _, eigvec = np.linalg.eigh(sim)\n",
    "    partition = reconstruct_tree.partition_taxa(eigvec[:,-2], sim, 1, min_split)\n",
    "    is_bipartition = check_is_bipartition(tree, partition)\n",
    "    return partition, is_bipartition"
   ]
  },
  {
   "cell_type": "code",
   "execution_count": 15,
   "metadata": {},
   "outputs": [
    {
     "name": "stdout",
     "output_type": "stream",
     "text": [
      "--- 17.784427165985107 seconds ---\n"
     ]
    }
   ],
   "source": [
    "start_time = time.time()\n",
    "sim = reconstruct_tree.HKY_similarity_matrix(ch_arr)\n",
    "runtime = time.time() - start_time\n",
    "print(\"--- %s seconds ---\" % runtime)\n",
    "\n",
    "partition, is_biparition = test_split(sim, binary_tree)"
   ]
  },
  {
   "cell_type": "code",
   "execution_count": 17,
   "metadata": {},
   "outputs": [
    {
     "data": {
      "text/plain": [
       "True"
      ]
     },
     "execution_count": 17,
     "metadata": {},
     "output_type": "execute_result"
    }
   ],
   "source": [
    "is_biparition"
   ]
  },
  {
   "cell_type": "code",
   "execution_count": 22,
   "metadata": {},
   "outputs": [
    {
     "data": {
      "text/plain": [
       "256"
      ]
     },
     "execution_count": 22,
     "metadata": {},
     "output_type": "execute_result"
    }
   ],
   "source": [
    "np.sum(partition)"
   ]
  },
  {
   "cell_type": "markdown",
   "metadata": {},
   "source": [
    "The splitting correct and is balanced. The 30 sec of runtime has about 18 sec coming from initial computing of the HKY similarity matrix."
   ]
  },
  {
   "cell_type": "markdown",
   "metadata": {},
   "source": [
    "## Merging test"
   ]
  },
  {
   "cell_type": "code",
   "execution_count": 30,
   "metadata": {},
   "outputs": [],
   "source": [
    "def test_merge(partition, tree):\n",
    "    taxon_namespace_label = np.array([x.label for x in tree.taxon_namespace])\n",
    "    left_namespace = list(taxon_namespace_label[np.where(partition)[0]])\n",
    "    left_taxa = dendropy.TaxonNamespace([taxon for taxon in tree.taxon_namespace\n",
    "            if taxon.label in left_namespace])\n",
    "\n",
    "    T_left = copy.deepcopy(tree).extract_tree_with_taxa_labels(labels = left_namespace)\n",
    "    T_left.purge_taxon_namespace()\n",
    "    s = T_left.as_string(schema = \"newick\")\n",
    "    T_left = dendropy.Tree.get(data=s, schema=\"newick\", taxon_namespace = left_taxa)\n",
    "    \n",
    "    right_namespace = list(taxon_namespace_label[np.where(np.logical_not(partition))[0]])\n",
    "    right_taxa = dendropy.TaxonNamespace([taxon for taxon in tree.taxon_namespace\n",
    "            if taxon.label in right_namespace])\n",
    "    T_right = copy.deepcopy(tree).extract_tree_with_taxa_labels(labels = right_namespace)\n",
    "    T_right.purge_taxon_namespace()\n",
    "    s = T_right.as_string(schema = \"newick\")\n",
    "    T_right = dendropy.Tree.get(data=s,\n",
    "        schema=\"newick\", taxon_namespace = right_taxa)\n",
    "        \n",
    "    start_time = time.time()\n",
    "    joined_tree = reconstruct_tree.join_trees_with_spectral_root_finding(\n",
    "            sim, T_left, T_right, taxon_namespace = tree.taxon_namespace)\n",
    "    runtime = time.time() - start_time\n",
    "    print(\"--- %s seconds ---\" % runtime)\n",
    "    return joined_tree"
   ]
  },
  {
   "cell_type": "code",
   "execution_count": 31,
   "metadata": {},
   "outputs": [
    {
     "name": "stdout",
     "output_type": "stream",
     "text": [
      "one - merging:  128  out of:  256\n",
      "two -  merging:  1  out of:  256\n",
      "--- 9.967319011688232 seconds ---\n"
     ]
    }
   ],
   "source": [
    "joined_tree = test_merge(partition, binary_tree)"
   ]
  },
  {
   "cell_type": "code",
   "execution_count": 32,
   "metadata": {},
   "outputs": [
    {
     "name": "stdout",
     "output_type": "stream",
     "text": [
      "RF =  2\n",
      "F1% =  99.90215264187869\n"
     ]
    }
   ],
   "source": [
    "RF,F1 = reconstruct_tree.compare_trees(tree_rec, binary_tree)\n",
    "\n",
    "print(\"RF = \",RF)\n",
    "print(\"F1% = \",F1) "
   ]
  },
  {
   "cell_type": "markdown",
   "metadata": {},
   "source": [
    "The merging part have problem. "
   ]
  },
  {
   "cell_type": "code",
   "execution_count": null,
   "metadata": {},
   "outputs": [],
   "source": []
  }
 ],
 "metadata": {
  "kernelspec": {
   "display_name": "Python 3",
   "language": "python",
   "name": "python3"
  },
  "language_info": {
   "codemirror_mode": {
    "name": "ipython",
    "version": 3
   },
   "file_extension": ".py",
   "mimetype": "text/x-python",
   "name": "python",
   "nbconvert_exporter": "python",
   "pygments_lexer": "ipython3",
   "version": "3.7.6"
  }
 },
 "nbformat": 4,
 "nbformat_minor": 4
}
