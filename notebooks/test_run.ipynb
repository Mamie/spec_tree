{
 "cells": [
  {
   "cell_type": "code",
   "execution_count": 1,
   "metadata": {},
   "outputs": [],
   "source": [
    "import sys, os"
   ]
  },
  {
   "cell_type": "code",
   "execution_count": 2,
   "metadata": {},
   "outputs": [],
   "source": [
    "sys.path.append(os.path.join(os.path.dirname(sys.path[0]),'../spectral-tree-inference/spectraltree'))"
   ]
  },
  {
   "cell_type": "code",
   "execution_count": 21,
   "metadata": {},
   "outputs": [],
   "source": [
    "import numpy as np\n",
    "import utils\n",
    "import generation\n",
    "import reconstruct_tree\n",
    "import dendropy\n",
    "import scipy\n",
    "from itertools import product\n",
    "\n",
    "from dendropy.model.discrete import simulate_discrete_chars, Jc69, Hky85\n",
    "from dendropy.calculate.treecompare import symmetric_difference"
   ]
  },
  {
   "cell_type": "markdown",
   "metadata": {},
   "source": [
    "## Example for running spectral neighbor joining"
   ]
  },
  {
   "cell_type": "code",
   "execution_count": 5,
   "metadata": {},
   "outputs": [],
   "source": [
    "N = 400 # length of sequences\n",
    "num_taxa = 32 # number of taxa\n",
    "jc = generation.Jukes_Cantor() # transition matrix object\n",
    "mutation_rate = [jc.p2t(0.95)]"
   ]
  },
  {
   "cell_type": "code",
   "execution_count": 6,
   "metadata": {},
   "outputs": [],
   "source": [
    "reference_tree = utils.unrooted_birth_death_tree(num_taxa, birth_rate=1)"
   ]
  },
  {
   "cell_type": "code",
   "execution_count": 7,
   "metadata": {},
   "outputs": [],
   "source": [
    "for x in reference_tree.preorder_edge_iter():\n",
    "    x.length = 1"
   ]
  },
  {
   "cell_type": "code",
   "execution_count": 8,
   "metadata": {},
   "outputs": [],
   "source": [
    "observations = generation.simulate_sequences_ordered(N, tree_model=reference_tree, seq_model=jc, mutation_rate=mutation_rate)"
   ]
  },
  {
   "cell_type": "code",
   "execution_count": 9,
   "metadata": {},
   "outputs": [
    {
     "data": {
      "text/plain": [
       "(32, 400)"
      ]
     },
     "execution_count": 9,
     "metadata": {},
     "output_type": "execute_result"
    }
   ],
   "source": [
    "observations.shape"
   ]
  },
  {
   "cell_type": "code",
   "execution_count": 10,
   "metadata": {},
   "outputs": [],
   "source": [
    "# spectral neighbor joining\n",
    "snj = reconstruct_tree.SpectralNeighborJoining(reconstruct_tree.JC_similarity_matrix)\n",
    "tree_rec = snj(observations, reference_tree.taxon_namespace)\n",
    "RF,F1 = reconstruct_tree.compare_trees(tree_rec, reference_tree)\n",
    "print(\"SNJ: \")\n",
    "print(\"RF = \",RF)\n",
    "print(\"F1% = \",F1)\n",
    "print(\"\")"
   ]
  },
  {
   "cell_type": "code",
   "execution_count": 12,
   "metadata": {},
   "outputs": [
    {
     "name": "stdout",
     "output_type": "stream",
     "text": [
      "\n",
      "NJ: \n",
      "RF =  0\n",
      "F1% =  100.0\n",
      "\n"
     ]
    }
   ],
   "source": [
    "# neighbor joining \n",
    "nj = reconstruct_tree.NeighborJoining(reconstruct_tree.JC_similarity_matrix)\n",
    "tree_rec = nj(observations,reference_tree.taxon_namespace)\n",
    "RF,F1 = reconstruct_tree.compare_trees(tree_rec, reference_tree)\n",
    "print(\"\")\n",
    "print(\"NJ: \")\n",
    "print(\"RF = \",RF)\n",
    "print(\"F1% = \",F1)\n",
    "print(\"\")"
   ]
  },
  {
   "cell_type": "markdown",
   "metadata": {},
   "source": [
    "## Example using user-supplied tree file"
   ]
  },
  {
   "cell_type": "code",
   "execution_count": 4,
   "metadata": {},
   "outputs": [],
   "source": [
    "tree_path = \"/home/mw957/project/repos/spec_tree/data/skygrid_J2.newick\"\n",
    "fasta_path = \"/home/mw957/project/repos/spec_tree/data/H3N2_NewYork.fasta\""
   ]
  },
  {
   "cell_type": "code",
   "execution_count": 5,
   "metadata": {},
   "outputs": [],
   "source": [
    "H3N2_tree = dendropy.Tree.get(path=tree_path, schema=\"newick\")\n",
    "H3N2_dna = dendropy.DnaCharacterMatrix.get(file=open(fasta_path, \"r\"), schema=\"fasta\")"
   ]
  },
  {
   "cell_type": "code",
   "execution_count": 8,
   "metadata": {},
   "outputs": [],
   "source": [
    "ch_list = list()\n",
    "for t in H3N2_dna.taxon_namespace:\n",
    "    ch_list.append([x.symbol for x in H3N2_dna[t]])\n",
    "\n",
    "leafs_idx = [i.label[0] != \" \" for i in H3N2_dna.taxon_namespace]"
   ]
  },
  {
   "cell_type": "code",
   "execution_count": 9,
   "metadata": {},
   "outputs": [
    {
     "data": {
      "text/plain": [
       "array(['-', 'A', 'C', 'G', 'H', 'K', 'M', 'N', 'R', 'T', 'W', 'Y'],\n",
       "      dtype='<U1')"
      ]
     },
     "execution_count": 9,
     "metadata": {},
     "output_type": "execute_result"
    }
   ],
   "source": [
    "np.unique(ch_list)\n",
    "# https://www.bioinformatics.org/sms/iupac.html\n",
    "# H: A or C or T\n",
    "# K: G or T\n",
    "# M: A or C\n",
    "# N: any base\n",
    "# R: A or G\n",
    "# W: A or T\n",
    "# Y: C or T"
   ]
  },
  {
   "cell_type": "code",
   "execution_count": 10,
   "metadata": {},
   "outputs": [],
   "source": [
    "ch_list_num = np.array(ch_list)\n",
    "ch_list_num = ch_list_num[leafs_idx]\n",
    "ch_list_num = np.where(ch_list_num=='A', 1, ch_list_num)\n",
    "ch_list_num = np.where(ch_list_num=='C', 2, ch_list_num)\n",
    "ch_list_num = np.where(ch_list_num=='G', 3, ch_list_num)\n",
    "ch_list_num = np.where(ch_list_num=='T', 4, ch_list_num)\n",
    "ch_list_num = np.where(np.isin(ch_list_num, ['-', \"H\", \"K\", \"M\", \"N\", \"R\", \"W\", \"Y\"]), \n",
    "                       -1, ch_list_num)\n",
    "ch_list_num = ch_list_num.astype('int')"
   ]
  },
  {
   "cell_type": "code",
   "execution_count": 11,
   "metadata": {},
   "outputs": [
    {
     "data": {
      "text/plain": [
       "(565, 1737)"
      ]
     },
     "execution_count": 11,
     "metadata": {},
     "output_type": "execute_result"
    }
   ],
   "source": [
    "ch_list_num.shape"
   ]
  },
  {
   "cell_type": "code",
   "execution_count": 12,
   "metadata": {},
   "outputs": [],
   "source": [
    "def hamming_dist_missing_values(vals, missing_val =0):\n",
    "    hamming_matrix = scipy.spatial.distance.squareform(scipy.spatial.distance.pdist(vals, metric='hamming'))\n",
    "    missing_array = (vals==missing_val)\n",
    "    pdist_xor = scipy.spatial.distance.squareform(scipy.spatial.distance.pdist(missing_array, lambda u,v: np.sum(np.logical_xor(u,v))))\n",
    "    pdist_or = scipy.spatial.distance.squareform(scipy.spatial.distance.pdist(missing_array, lambda u,v: np.sum(np.logical_or(u,v))))\n",
    "    return (hamming_matrix*vals.shape[1] - pdist_xor) / (np.ones_like(hamming_matrix) * vals.shape[1] - pdist_or)\n",
    "\n",
    "def JC_similarity_matrix_missing_values(observations, classes=None):\n",
    "    assert classes is None\n",
    "    if classes is None:\n",
    "        classes = np.unique(observations)\n",
    "    k = len(classes)\n",
    "    hamming_matrix_corrected = hamming_dist_missing_values(observations)\n",
    "    inside_log = 1 - hamming_matrix_corrected*k/(k-1)\n",
    "    return inside_log**(k-1)\n",
    "\n",
    "nj = reconstruct_tree.NeighborJoining(JC_similarity_matrix_missing_values)\n",
    "tree_rec = nj(ch_list_num, H3N2_tree.taxon_namespace)"
   ]
  },
  {
   "cell_type": "markdown",
   "metadata": {},
   "source": [
    "## Simulate sequences from the tree"
   ]
  },
  {
   "cell_type": "code",
   "execution_count": 17,
   "metadata": {},
   "outputs": [],
   "source": [
    "N = 1000"
   ]
  },
  {
   "cell_type": "code",
   "execution_count": 120,
   "metadata": {},
   "outputs": [],
   "source": [
    "# simulate sequences from the HKY model (set transition/transversion bias = 2)\n",
    "data_HKY = simulate_discrete_chars(N, H3N2_tree, Hky85(kappa = 2), mutation_rate=0.1)\n",
    "ch_list = list()\n",
    "for t in data_HKY.taxon_namespace:\n",
    "    ch_list.append([x.symbol for x in data_HKY[t]])\n",
    "\n",
    "leafs_idx = [i.label[0] != \" \" for i in data_HKY.taxon_namespace]\n",
    "ch_arr = np.array(ch_list)\n",
    "ch_arr = ch_arr[leafs_idx]"
   ]
  },
  {
   "cell_type": "code",
   "execution_count": 147,
   "metadata": {},
   "outputs": [
    {
     "name": "stdout",
     "output_type": "stream",
     "text": [
      "--- 464.3687424659729 seconds ---\n",
      "\n",
      "HKY: \n",
      "RF =  108\n",
      "F1% =  95.21276595744682\n",
      "\n"
     ]
    }
   ],
   "source": [
    "raxml_HKY = reconstruct_tree.RAxML()\n",
    "import time\n",
    "start_time = time.time()\n",
    "raxml_HKY_tree = raxml_HKY(data_HKY, raxml_args=\"-T 2 --HKY85 -c 1\")\n",
    "print(\"--- %s seconds ---\" % (time.time() - start_time))\n",
    "\n",
    "RF,F1 = reconstruct_tree.compare_trees(raxml_HKY_tree, H3N2_tree)\n",
    "print(\"\")\n",
    "print(\"HKY: \")\n",
    "print(\"RF = \",RF)\n",
    "print(\"F1% = \",F1)\n",
    "print(\"\")\n",
    "\n",
    "####\n",
    "# python scripts/hky_raxml.py\n",
    "\n",
    "# NJ:\n",
    "# RF =  162\n",
    "# F1% =  92.81914893617022"
   ]
  },
  {
   "cell_type": "code",
   "execution_count": 125,
   "metadata": {},
   "outputs": [],
   "source": [
    "## compute the similarity matrix under HKY model\n",
    "def HKY_similarity_matrix(observations, classes=None, debug = False):\n",
    "    m, N = observations.shape\n",
    "    assert classes is None\n",
    "    if classes is None:\n",
    "        classes = np.unique(observations)\n",
    "    k = len(classes)\n",
    "    # From Tamura, K., and M. Nei. 1993\n",
    "    # for each pair of sequences, \n",
    "    # 1. estimate the base frequency\n",
    "    # 2. compute purine transition proportion P1 (A <-> G)\n",
    "    # 3. compute pyrimidine transition proportion P2 (T <-> C)\n",
    "    # 3. compute transversion proportion Q (A <-> C, A <-> T, G <-> C, G <-> T)\n",
    "    \n",
    "    # average base frequency for pairs of sequences\n",
    "    print(\"Computing the average base frequency for each possible pairs...\")\n",
    "    g = {}\n",
    "    for x in classes:\n",
    "        obs_x = observations == x\n",
    "        g[x] = np.array([np.mean(np.hstack([a, b])) for a, b in product(obs_x, repeat = 2)]).reshape((m, m))\n",
    "    \n",
    "    g[\"R\"] = g[\"A\"] + g[\"G\"]\n",
    "    g[\"Y\"] = g[\"T\"] + g[\"C\"]\n",
    "    \n",
    "    # compute counts of differences\n",
    "    print(\"Computing the counts for differences for each possible pairs...\")\n",
    "    P = {}\n",
    "    for i, x in enumerate(classes):\n",
    "        other_classes = np.delete(classes, i)\n",
    "        for y in other_classes:\n",
    "            P_x_y = np.array([np.mean(np.logical_and(a == x, b == y)) for a, b in product(observations, repeat = 2)]).reshape((m, m))\n",
    "            P[x + y] = P_x_y\n",
    "            \n",
    "    P_1 = P['AG'] + P[\"GA\"]\n",
    "    P_2 = P['CT'] + P['TC']\n",
    "    Q = P['AC'] + P['CA'] + P['AT'] + P['TA'] +\\\n",
    "        P['GC'] + P['CG'] + P['GT'] + P['TG']\n",
    "\n",
    "    # compute the similarity \n",
    "    print(\"Computing similarity matrix\")\n",
    "    R = (1 - g[\"R\"]/(2 * g[\"A\"] * g[\"G\"]) * P_1 - 1 / (2 * g[\"R\"]) * Q)\n",
    "    Y = (1 - g[\"Y\"]/(2 * g[\"T\"] * g[\"C\"]) * P_2 - 1 / (2 * g[\"Y\"]) * Q)\n",
    "    T = (1 - 1/(2 * g[\"R\"] * g[\"Y\"]) * Q)\n",
    "    S = np.sign(R) * (np.abs(R))**(2 * g[\"A\"] * g[\"G\"] / g[\"R\"])\n",
    "    S += np.sign(Y) * (np.abs(Y))**(2 * g[\"T\"] * g[\"C\"] / g[\"Y\"])\n",
    "    S += np.sign(T) * (np.abs(T))**(2 * (g[\"R\"] * g[\"Y\"] - g[\"A\"] * g[\"G\"] * g[\"Y\"] / g[\"R\"] - g[\"T\"] * g[\"C\"] * g[\"R\"] / g[\"Y\"]))\n",
    "    \n",
    "    if debug:\n",
    "        return (P_1, P_2, Q, R, Y, T, S)\n",
    "    else: \n",
    "        return S"
   ]
  },
  {
   "cell_type": "code",
   "execution_count": 133,
   "metadata": {},
   "outputs": [],
   "source": [
    "# spectral neighbor joining\n",
    "snj = reconstruct_tree.SpectralNeighborJoining(HKY_similarity_matrix)"
   ]
  },
  {
   "cell_type": "code",
   "execution_count": 141,
   "metadata": {},
   "outputs": [
    {
     "name": "stdout",
     "output_type": "stream",
     "text": [
      "Computing the average base frequency for each possible pairs...\n",
      "Computing the counts for differences for each possible pairs...\n",
      "Computing similarity matrix\n",
      "--- 210.27279615402222 seconds ---\n"
     ]
    }
   ],
   "source": [
    "import time\n",
    "start_time = time.time()\n",
    "tree_rec = snj(ch_arr, H3N2_tree.taxon_namespace)\n",
    "\n",
    "print(\"--- %s seconds ---\" % (time.time() - start_time))"
   ]
  },
  {
   "cell_type": "code",
   "execution_count": 142,
   "metadata": {},
   "outputs": [
    {
     "name": "stdout",
     "output_type": "stream",
     "text": [
      "SNJ: \n",
      "RF =  570\n",
      "F1% =  74.7340425531915\n",
      "\n"
     ]
    }
   ],
   "source": [
    "RF,F1 = reconstruct_tree.compare_trees(tree_rec, H3N2_tree)\n",
    "print(\"SNJ: \")\n",
    "print(\"RF = \", RF)\n",
    "print(\"F1% = \", F1)\n",
    "print(\"\")"
   ]
  },
  {
   "cell_type": "markdown",
   "metadata": {},
   "source": [
    "### Neighbor joining"
   ]
  },
  {
   "cell_type": "code",
   "execution_count": 129,
   "metadata": {},
   "outputs": [],
   "source": [
    "nj = reconstruct_tree.NeighborJoining(HKY_similarity_matrix)"
   ]
  },
  {
   "cell_type": "code",
   "execution_count": 143,
   "metadata": {},
   "outputs": [
    {
     "name": "stdout",
     "output_type": "stream",
     "text": [
      "Computing the average base frequency for each possible pairs...\n",
      "Computing the counts for differences for each possible pairs...\n",
      "Computing similarity matrix\n",
      "--- 205.862291097641 seconds ---\n"
     ]
    }
   ],
   "source": [
    "import time\n",
    "start_time = time.time()\n",
    "tree_rec = nj(ch_arr, H3N2_tree.taxon_namespace)\n",
    "print(\"--- %s seconds ---\" % (time.time() - start_time))"
   ]
  },
  {
   "cell_type": "code",
   "execution_count": 144,
   "metadata": {},
   "outputs": [
    {
     "name": "stdout",
     "output_type": "stream",
     "text": [
      "\n",
      "NJ: \n",
      "RF =  166\n",
      "F1% =  92.64184397163122\n",
      "\n"
     ]
    }
   ],
   "source": [
    "RF,F1 = reconstruct_tree.compare_trees(tree_rec, H3N2_tree)\n",
    "print(\"\")\n",
    "print(\"NJ: \")\n",
    "print(\"RF = \",RF)\n",
    "print(\"F1% = \",F1)\n",
    "print(\"\")"
   ]
  },
  {
   "cell_type": "markdown",
   "metadata": {},
   "source": [
    "### Deep spectal neighbor joining "
   ]
  },
  {
   "cell_type": "code",
   "execution_count": 136,
   "metadata": {},
   "outputs": [],
   "source": [
    "spectral_method = reconstruct_tree.SpectralTreeReconstruction(reconstruct_tree.NeighborJoining,\n",
    "                                                              HKY_similarity_matrix)"
   ]
  },
  {
   "cell_type": "code",
   "execution_count": 145,
   "metadata": {},
   "outputs": [
    {
     "name": "stdout",
     "output_type": "stream",
     "text": [
      "Computing the average base frequency for each possible pairs...\n",
      "Computing the counts for differences for each possible pairs...\n",
      "Computing similarity matrix\n",
      "--- 215.9519112110138 seconds ---\n"
     ]
    }
   ],
   "source": [
    "import time\n",
    "start_time = time.time()\n",
    "tree_rec = spectral_method.deep_spectral_tree_reonstruction(ch_arr, HKY_similarity_matrix, \n",
    "                                                            taxon_namespace = H3N2_tree.taxon_namespace, \n",
    "                                                            threshhold = 35)\n",
    "print(\"--- %s seconds ---\" % (time.time() - start_time))"
   ]
  },
  {
   "cell_type": "code",
   "execution_count": 146,
   "metadata": {},
   "outputs": [
    {
     "name": "stdout",
     "output_type": "stream",
     "text": [
      "Spectral deep: \n",
      "RF =  202\n",
      "F1% =  91.04609929078015\n",
      "\n"
     ]
    }
   ],
   "source": [
    "RF,F1 = reconstruct_tree.compare_trees(tree_rec, H3N2_tree)\n",
    "print(\"Spectral deep: \")\n",
    "print(\"RF = \", RF)\n",
    "print(\"F1% = \", F1)\n",
    "print(\"\")"
   ]
  }
 ],
 "metadata": {
  "kernelspec": {
   "display_name": "Python 3",
   "language": "python",
   "name": "python3"
  },
  "language_info": {
   "codemirror_mode": {
    "name": "ipython",
    "version": 3
   },
   "file_extension": ".py",
   "mimetype": "text/x-python",
   "name": "python",
   "nbconvert_exporter": "python",
   "pygments_lexer": "ipython3",
   "version": "3.7.6"
  }
 },
 "nbformat": 4,
 "nbformat_minor": 4
}
