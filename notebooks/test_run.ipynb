{
 "cells": [
  {
   "cell_type": "code",
   "execution_count": 28,
   "metadata": {},
   "outputs": [],
   "source": [
    "import sys, os"
   ]
  },
  {
   "cell_type": "code",
   "execution_count": 29,
   "metadata": {},
   "outputs": [],
   "source": [
    "sys.path.append(os.path.join(os.path.dirname(sys.path[0]),'../spectral-tree-inference/spectraltree'))"
   ]
  },
  {
   "cell_type": "code",
   "execution_count": 30,
   "metadata": {},
   "outputs": [],
   "source": [
    "import numpy as np\n",
    "import utils\n",
    "import generation\n",
    "import reconstruct_tree\n",
    "import dendropy\n",
    "import scipy\n",
    "from itertools import product\n",
    "\n",
    "from dendropy.model.discrete import simulate_discrete_chars, Jc69, Hky85\n",
    "from dendropy.calculate.treecompare import symmetric_difference"
   ]
  },
  {
   "cell_type": "markdown",
   "metadata": {},
   "source": [
    "## Example for running spectral neighbor joining"
   ]
  },
  {
   "cell_type": "code",
   "execution_count": 5,
   "metadata": {},
   "outputs": [],
   "source": [
    "N = 400 # length of sequences\n",
    "num_taxa = 32 # number of taxa\n",
    "jc = generation.Jukes_Cantor() # transition matrix object\n",
    "mutation_rate = [jc.p2t(0.95)]"
   ]
  },
  {
   "cell_type": "code",
   "execution_count": 6,
   "metadata": {},
   "outputs": [],
   "source": [
    "reference_tree = utils.unrooted_birth_death_tree(num_taxa, birth_rate=1)"
   ]
  },
  {
   "cell_type": "code",
   "execution_count": 7,
   "metadata": {},
   "outputs": [],
   "source": [
    "for x in reference_tree.preorder_edge_iter():\n",
    "    x.length = 1"
   ]
  },
  {
   "cell_type": "code",
   "execution_count": 8,
   "metadata": {},
   "outputs": [],
   "source": [
    "observations = generation.simulate_sequences_ordered(N, tree_model=reference_tree, seq_model=jc, mutation_rate=mutation_rate)"
   ]
  },
  {
   "cell_type": "code",
   "execution_count": 9,
   "metadata": {},
   "outputs": [
    {
     "data": {
      "text/plain": [
       "(32, 400)"
      ]
     },
     "execution_count": 9,
     "metadata": {},
     "output_type": "execute_result"
    }
   ],
   "source": [
    "observations.shape"
   ]
  },
  {
   "cell_type": "code",
   "execution_count": 10,
   "metadata": {},
   "outputs": [],
   "source": [
    "# spectral neighbor joining\n",
    "snj = reconstruct_tree.SpectralNeighborJoining(reconstruct_tree.JC_similarity_matrix)\n",
    "tree_rec = snj(observations, reference_tree.taxon_namespace)\n",
    "RF,F1 = reconstruct_tree.compare_trees(tree_rec, reference_tree)\n",
    "print(\"SNJ: \")\n",
    "print(\"RF = \",RF)\n",
    "print(\"F1% = \",F1)\n",
    "print(\"\")"
   ]
  },
  {
   "cell_type": "code",
   "execution_count": 12,
   "metadata": {},
   "outputs": [
    {
     "name": "stdout",
     "output_type": "stream",
     "text": [
      "\n",
      "NJ: \n",
      "RF =  0\n",
      "F1% =  100.0\n",
      "\n"
     ]
    }
   ],
   "source": [
    "# neighbor joining \n",
    "nj = reconstruct_tree.NeighborJoining(reconstruct_tree.JC_similarity_matrix)\n",
    "tree_rec = nj(observations,reference_tree.taxon_namespace)\n",
    "RF,F1 = reconstruct_tree.compare_trees(tree_rec, reference_tree)\n",
    "print(\"\")\n",
    "print(\"NJ: \")\n",
    "print(\"RF = \",RF)\n",
    "print(\"F1% = \",F1)\n",
    "print(\"\")"
   ]
  },
  {
   "cell_type": "markdown",
   "metadata": {},
   "source": [
    "## Example using user-supplied tree file"
   ]
  },
  {
   "cell_type": "code",
   "execution_count": 6,
   "metadata": {},
   "outputs": [],
   "source": [
    "tree_path = \"/home/mw957/project/repos/spec_tree/data/skygrid_J2.newick\"\n",
    "fasta_path = \"/home/mw957/project/repos/spec_tree/data/H3N2_NewYork.fasta\""
   ]
  },
  {
   "cell_type": "code",
   "execution_count": 7,
   "metadata": {},
   "outputs": [],
   "source": [
    "H3N2_tree = dendropy.Tree.get(path=tree_path, schema=\"newick\")\n",
    "H3N2_dna = dendropy.DnaCharacterMatrix.get(file=open(fasta_path, \"r\"), schema=\"fasta\")"
   ]
  },
  {
   "cell_type": "code",
   "execution_count": 71,
   "metadata": {},
   "outputs": [],
   "source": [
    "ch_list = list()\n",
    "for t in H3N2_dna.taxon_namespace:\n",
    "    ch_list.append([x.symbol for x in H3N2_dna[t]])\n",
    "\n",
    "leafs_idx = [i.label[0] != \" \" for i in H3N2_dna.taxon_namespace]"
   ]
  },
  {
   "cell_type": "code",
   "execution_count": 72,
   "metadata": {},
   "outputs": [
    {
     "data": {
      "text/plain": [
       "array(['-', 'A', 'C', 'G', 'H', 'K', 'M', 'N', 'R', 'T', 'W', 'Y'],\n",
       "      dtype='<U1')"
      ]
     },
     "execution_count": 72,
     "metadata": {},
     "output_type": "execute_result"
    }
   ],
   "source": [
    "np.unique(ch_list)\n",
    "# https://www.bioinformatics.org/sms/iupac.html\n",
    "# H: A or C or T\n",
    "# K: G or T\n",
    "# M: A or C\n",
    "# N: any base\n",
    "# R: A or G\n",
    "# W: A or T\n",
    "# Y: C or T"
   ]
  },
  {
   "cell_type": "code",
   "execution_count": 10,
   "metadata": {},
   "outputs": [],
   "source": [
    "ch_list_num = np.array(ch_list)\n",
    "ch_list_num = ch_list_num[leafs_idx]\n",
    "ch_list_num = np.where(ch_list_num=='A', 1, ch_list_num)\n",
    "ch_list_num = np.where(ch_list_num=='C', 2, ch_list_num)\n",
    "ch_list_num = np.where(ch_list_num=='G', 3, ch_list_num)\n",
    "ch_list_num = np.where(ch_list_num=='T', 4, ch_list_num)\n",
    "ch_list_num = np.where(np.isin(ch_list_num, ['-', \"H\", \"K\", \"M\", \"N\", \"R\", \"W\", \"Y\"]), \n",
    "                       -1, ch_list_num)\n",
    "ch_list_num = ch_list_num.astype('int')"
   ]
  },
  {
   "cell_type": "code",
   "execution_count": 11,
   "metadata": {},
   "outputs": [
    {
     "data": {
      "text/plain": [
       "(565, 1737)"
      ]
     },
     "execution_count": 11,
     "metadata": {},
     "output_type": "execute_result"
    }
   ],
   "source": [
    "ch_list_num.shape"
   ]
  },
  {
   "cell_type": "code",
   "execution_count": 12,
   "metadata": {},
   "outputs": [],
   "source": [
    "def hamming_dist_missing_values(vals, missing_val =0):\n",
    "    hamming_matrix = scipy.spatial.distance.squareform(scipy.spatial.distance.pdist(vals, metric='hamming'))\n",
    "    missing_array = (vals==missing_val)\n",
    "    pdist_xor = scipy.spatial.distance.squareform(scipy.spatial.distance.pdist(missing_array, lambda u,v: np.sum(np.logical_xor(u,v))))\n",
    "    pdist_or = scipy.spatial.distance.squareform(scipy.spatial.distance.pdist(missing_array, lambda u,v: np.sum(np.logical_or(u,v))))\n",
    "    return (hamming_matrix*vals.shape[1] - pdist_xor) / (np.ones_like(hamming_matrix) * vals.shape[1] - pdist_or)\n",
    "\n",
    "def JC_similarity_matrix_missing_values(observations, classes=None):\n",
    "    assert classes is None\n",
    "    if classes is None:\n",
    "        classes = np.unique(observations)\n",
    "    k = len(classes)\n",
    "    hamming_matrix_corrected = hamming_dist_missing_values(observations)\n",
    "    inside_log = 1 - hamming_matrix_corrected*k/(k-1)\n",
    "    return inside_log**(k-1)\n",
    "\n",
    "nj = reconstruct_tree.NeighborJoining(JC_similarity_matrix_missing_values)\n",
    "tree_rec = nj(ch_list_num, H3N2_tree.taxon_namespace)"
   ]
  },
  {
   "cell_type": "markdown",
   "metadata": {},
   "source": [
    "## Simulate sequences from the tree"
   ]
  },
  {
   "cell_type": "code",
   "execution_count": 8,
   "metadata": {},
   "outputs": [],
   "source": [
    "N = 1000"
   ]
  },
  {
   "cell_type": "code",
   "execution_count": 9,
   "metadata": {},
   "outputs": [],
   "source": [
    "# simulate sequences from the HKY model (set transition/transversion bias = 2)\n",
    "data_HKY = simulate_discrete_chars(N, H3N2_tree, Hky85(kappa = 2), mutation_rate=0.1)\n",
    "ch_list = list()\n",
    "for t in data_HKY.taxon_namespace:\n",
    "    ch_list.append([x.symbol for x in data_HKY[t]])\n",
    "\n",
    "leafs_idx = [i.label[0] != \" \" for i in data_HKY.taxon_namespace]\n",
    "ch_arr = np.array(ch_list)\n",
    "ch_arr = ch_arr[leafs_idx]"
   ]
  },
  {
   "cell_type": "code",
   "execution_count": 16,
   "metadata": {},
   "outputs": [],
   "source": [
    "identical = [np.mean(a == b) for a, b in product(ch_arr, repeat = 2)]"
   ]
  },
  {
   "cell_type": "code",
   "execution_count": 21,
   "metadata": {},
   "outputs": [],
   "source": [
    "identical = np.array(identical)"
   ]
  },
  {
   "cell_type": "code",
   "execution_count": 56,
   "metadata": {},
   "outputs": [
    {
     "name": "stdout",
     "output_type": "stream",
     "text": [
      "0.6758710513597821 0.682 0.408 0.999\n"
     ]
    }
   ],
   "source": [
    "print(np.mean(identical[identical != 1]), np.median(identical[identical != 1]), np.min(identical[identical != 1]), np.max(identical[identical != 1]))"
   ]
  },
  {
   "cell_type": "code",
   "execution_count": 147,
   "metadata": {},
   "outputs": [
    {
     "name": "stdout",
     "output_type": "stream",
     "text": [
      "--- 464.3687424659729 seconds ---\n",
      "\n",
      "HKY: \n",
      "RF =  108\n",
      "F1% =  95.21276595744682\n",
      "\n"
     ]
    }
   ],
   "source": [
    "raxml_HKY = reconstruct_tree.RAxML()\n",
    "import time\n",
    "start_time = time.time()\n",
    "raxml_HKY_tree = raxml_HKY(data_HKY, raxml_args=\"-T 2 --HKY85 -c 1\")\n",
    "print(\"--- %s seconds ---\" % (time.time() - start_time))\n",
    "\n",
    "RF,F1 = reconstruct_tree.compare_trees(raxml_HKY_tree, H3N2_tree)\n",
    "print(\"\")\n",
    "print(\"HKY: \")\n",
    "print(\"RF = \",RF)\n",
    "print(\"F1% = \",F1)\n",
    "print(\"\")\n",
    "\n",
    "####\n",
    "# python scripts/hky_raxml.py\n",
    "\n",
    "# NJ:\n",
    "# RF =  162\n",
    "# F1% =  92.81914893617022"
   ]
  },
  {
   "cell_type": "code",
   "execution_count": 63,
   "metadata": {},
   "outputs": [],
   "source": [
    "## compute the similarity matrix under HKY model\n",
    "def HKY_similarity_matrix(observations, classes=None, debug = False):\n",
    "    m, N = observations.shape\n",
    "    if classes is None:\n",
    "        classes = np.unique(observations)\n",
    "    k = len(classes)\n",
    "    # From Tamura, K., and M. Nei. 1993\n",
    "    # for each pair of sequences, \n",
    "    # 1. estimate the base frequency\n",
    "    # 2. compute purine transition proportion P1 (A <-> G)\n",
    "    # 3. compute pyrimidine transition proportion P2 (T <-> C)\n",
    "    # 3. compute transversion proportion Q (A <-> C, A <-> T, G <-> C, G <-> T)\n",
    "    \n",
    "    # average base frequency for pairs of sequences\n",
    "    print(\"Computing the average base frequency for each possible pairs...\")\n",
    "    g = {}\n",
    "    for x in classes:\n",
    "        obs_x = observations == x\n",
    "        g[x] = np.array([np.mean(np.hstack([a, b])) for a, b in product(obs_x, repeat = 2)]).reshape((m, m))\n",
    "    \n",
    "    g[\"R\"] = g[\"A\"] + g[\"G\"]\n",
    "    g[\"Y\"] = g[\"T\"] + g[\"C\"]\n",
    "    \n",
    "    # compute counts of differences\n",
    "    print(\"Computing the counts for differences for each possible pairs...\")\n",
    "    P = {}\n",
    "    for i, x in enumerate(classes):\n",
    "        other_classes = np.delete(classes, i)\n",
    "        for y in other_classes:\n",
    "            P_x_y = np.array([np.mean(np.logical_and(a == x, b == y)) for a, b in product(observations, repeat = 2)]).reshape((m, m))\n",
    "            P[x + y] = P_x_y\n",
    "            \n",
    "    P_1 = P['AG'] + P[\"GA\"]\n",
    "    P_2 = P['CT'] + P['TC']\n",
    "    Q = P['AC'] + P['CA'] + P['AT'] + P['TA'] +\\\n",
    "        P['GC'] + P['CG'] + P['GT'] + P['TG']\n",
    "\n",
    "    # compute the similarity \n",
    "    print(\"Computing similarity matrix\")\n",
    "    R = (1 - g[\"R\"]/(2 * g[\"A\"] * g[\"G\"]) * P_1 - 1 / (2 * g[\"R\"]) * Q)\n",
    "    Y = (1 - g[\"Y\"]/(2 * g[\"T\"] * g[\"C\"]) * P_2 - 1 / (2 * g[\"Y\"]) * Q)\n",
    "    T = (1 - 1/(2 * g[\"R\"] * g[\"Y\"]) * Q)\n",
    "    S = np.sign(R) * (np.abs(R))**(2 * g[\"A\"] * g[\"G\"] / g[\"R\"])\n",
    "    S += np.sign(Y) * (np.abs(Y))**(2 * g[\"T\"] * g[\"C\"] / g[\"Y\"])\n",
    "    S += np.sign(T) * (np.abs(T))**(2 * (g[\"R\"] * g[\"Y\"] - g[\"A\"] * g[\"G\"] * g[\"Y\"] / g[\"R\"] - g[\"T\"] * g[\"C\"] * g[\"R\"] / g[\"Y\"]))\n",
    "    \n",
    "    if debug:\n",
    "        return (P_1, P_2, Q, R, Y, T, S)\n",
    "    else: \n",
    "        return S"
   ]
  },
  {
   "cell_type": "code",
   "execution_count": 133,
   "metadata": {},
   "outputs": [],
   "source": [
    "# spectral neighbor joining\n",
    "snj = reconstruct_tree.SpectralNeighborJoining(HKY_similarity_matrix)"
   ]
  },
  {
   "cell_type": "code",
   "execution_count": 141,
   "metadata": {},
   "outputs": [
    {
     "name": "stdout",
     "output_type": "stream",
     "text": [
      "Computing the average base frequency for each possible pairs...\n",
      "Computing the counts for differences for each possible pairs...\n",
      "Computing similarity matrix\n",
      "--- 210.27279615402222 seconds ---\n"
     ]
    }
   ],
   "source": [
    "import time\n",
    "start_time = time.time()\n",
    "tree_rec = snj(ch_arr, H3N2_tree.taxon_namespace)\n",
    "\n",
    "print(\"--- %s seconds ---\" % (time.time() - start_time))"
   ]
  },
  {
   "cell_type": "code",
   "execution_count": 142,
   "metadata": {},
   "outputs": [
    {
     "name": "stdout",
     "output_type": "stream",
     "text": [
      "SNJ: \n",
      "RF =  570\n",
      "F1% =  74.7340425531915\n",
      "\n"
     ]
    }
   ],
   "source": [
    "RF,F1 = reconstruct_tree.compare_trees(tree_rec, H3N2_tree)\n",
    "print(\"SNJ: \")\n",
    "print(\"RF = \", RF)\n",
    "print(\"F1% = \", F1)\n",
    "print(\"\")"
   ]
  },
  {
   "cell_type": "markdown",
   "metadata": {},
   "source": [
    "### Neighbor joining"
   ]
  },
  {
   "cell_type": "code",
   "execution_count": 129,
   "metadata": {},
   "outputs": [],
   "source": [
    "nj = reconstruct_tree.NeighborJoining(HKY_similarity_matrix)"
   ]
  },
  {
   "cell_type": "code",
   "execution_count": 143,
   "metadata": {},
   "outputs": [
    {
     "name": "stdout",
     "output_type": "stream",
     "text": [
      "Computing the average base frequency for each possible pairs...\n",
      "Computing the counts for differences for each possible pairs...\n",
      "Computing similarity matrix\n",
      "--- 205.862291097641 seconds ---\n"
     ]
    }
   ],
   "source": [
    "import time\n",
    "start_time = time.time()\n",
    "tree_rec = nj(ch_arr, H3N2_tree.taxon_namespace)\n",
    "print(\"--- %s seconds ---\" % (time.time() - start_time))"
   ]
  },
  {
   "cell_type": "code",
   "execution_count": 144,
   "metadata": {},
   "outputs": [
    {
     "name": "stdout",
     "output_type": "stream",
     "text": [
      "\n",
      "NJ: \n",
      "RF =  166\n",
      "F1% =  92.64184397163122\n",
      "\n"
     ]
    }
   ],
   "source": [
    "RF,F1 = reconstruct_tree.compare_trees(tree_rec, H3N2_tree)\n",
    "print(\"\")\n",
    "print(\"NJ: \")\n",
    "print(\"RF = \",RF)\n",
    "print(\"F1% = \",F1)\n",
    "print(\"\")"
   ]
  },
  {
   "cell_type": "markdown",
   "metadata": {},
   "source": [
    "### Deep spectal neighbor joining "
   ]
  },
  {
   "cell_type": "code",
   "execution_count": 38,
   "metadata": {},
   "outputs": [],
   "source": [
    "spectral_method = reconstruct_tree.SpectralTreeReconstruction(reconstruct_tree.NeighborJoining,\n",
    "                                                              HKY_similarity_matrix)"
   ]
  },
  {
   "cell_type": "code",
   "execution_count": 39,
   "metadata": {},
   "outputs": [
    {
     "name": "stdout",
     "output_type": "stream",
     "text": [
      "Computing the average base frequency for each possible pairs...\n",
      "Computing the counts for differences for each possible pairs...\n",
      "Computing similarity matrix\n",
      "--- 209.564204454422 seconds ---\n"
     ]
    }
   ],
   "source": [
    "import time\n",
    "start_time = time.time()\n",
    "tree_rec = spectral_method.deep_spectral_tree_reonstruction(ch_arr, HKY_similarity_matrix, \n",
    "                                                            taxon_namespace = H3N2_tree.taxon_namespace, \n",
    "                                                            threshhold = 35)\n",
    "print(\"--- %s seconds ---\" % (time.time() - start_time))"
   ]
  },
  {
   "cell_type": "code",
   "execution_count": 40,
   "metadata": {},
   "outputs": [
    {
     "name": "stdout",
     "output_type": "stream",
     "text": [
      "Spectral deep (35): \n",
      "RF =  172\n",
      "F1% =  92.3758865248227\n",
      "\n"
     ]
    }
   ],
   "source": [
    "RF,F1 = reconstruct_tree.compare_trees(tree_rec, H3N2_tree)\n",
    "print(\"Spectral deep (35): \")\n",
    "print(\"RF = \", RF)\n",
    "print(\"F1% = \", F1)\n",
    "print(\"\")"
   ]
  },
  {
   "cell_type": "code",
   "execution_count": 33,
   "metadata": {},
   "outputs": [
    {
     "name": "stdout",
     "output_type": "stream",
     "text": [
      "Computing the average base frequency for each possible pairs...\n",
      "Computing the counts for differences for each possible pairs...\n",
      "Computing similarity matrix\n",
      "--- 197.9316599369049 seconds ---\n"
     ]
    }
   ],
   "source": [
    "# 2. Spectral deep with NJ as the sub method with a threshold of 128\n",
    "spectral_method = reconstruct_tree.SpectralTreeReconstruction(reconstruct_tree.NeighborJoining,\n",
    "                                                              HKY_similarity_matrix)\n",
    "import time\n",
    "start_time = time.time()\n",
    "tree_rec = spectral_method.deep_spectral_tree_reonstruction(ch_arr, HKY_similarity_matrix, \n",
    "                                                            taxon_namespace = H3N2_tree.taxon_namespace, \n",
    "                                                            threshhold = 128)\n",
    "print(\"--- %s seconds ---\" % (time.time() - start_time))"
   ]
  },
  {
   "cell_type": "code",
   "execution_count": 34,
   "metadata": {},
   "outputs": [
    {
     "name": "stdout",
     "output_type": "stream",
     "text": [
      "Spectral deep (128): \n",
      "RF =  148\n",
      "F1% =  93.43971631205673\n",
      "\n"
     ]
    }
   ],
   "source": [
    "RF,F1 = reconstruct_tree.compare_trees(tree_rec, H3N2_tree)\n",
    "print(\"Spectral deep (128): \")\n",
    "print(\"RF = \", RF)\n",
    "print(\"F1% = \", F1)\n",
    "print(\"\")"
   ]
  },
  {
   "cell_type": "code",
   "execution_count": 45,
   "metadata": {},
   "outputs": [
    {
     "name": "stdout",
     "output_type": "stream",
     "text": [
      "Computing the average base frequency for each possible pairs...\n",
      "Computing the counts for differences for each possible pairs...\n",
      "Computing similarity matrix\n",
      "--- 189.9345338344574 seconds ---\n"
     ]
    }
   ],
   "source": [
    "# 4. Spectral deep with NJ as the sub method with a threshold of 256\n",
    "spectral_method = reconstruct_tree.SpectralTreeReconstruction(reconstruct_tree.NeighborJoining,\n",
    "                                                              HKY_similarity_matrix)\n",
    "import time\n",
    "start_time = time.time()\n",
    "tree_rec = spectral_method.deep_spectral_tree_reonstruction(ch_arr, HKY_similarity_matrix, \n",
    "                                                            taxon_namespace = H3N2_tree.taxon_namespace, \n",
    "                                                            threshhold = 256)\n",
    "print(\"--- %s seconds ---\" % (time.time() - start_time))"
   ]
  },
  {
   "cell_type": "code",
   "execution_count": 47,
   "metadata": {},
   "outputs": [
    {
     "name": "stdout",
     "output_type": "stream",
     "text": [
      "Spectral deep (256): \n",
      "RF =  158\n",
      "F1% =  92.99645390070923\n",
      "\n"
     ]
    }
   ],
   "source": [
    "RF,F1 = reconstruct_tree.compare_trees(tree_rec, H3N2_tree)\n",
    "print(\"Spectral deep (256): \")\n",
    "print(\"RF = \", RF)\n",
    "print(\"F1% = \", F1)\n",
    "print(\"\")"
   ]
  },
  {
   "cell_type": "markdown",
   "metadata": {},
   "source": [
    "## Summary"
   ]
  },
  {
   "cell_type": "code",
   "execution_count": 49,
   "metadata": {},
   "outputs": [
    {
     "data": {
      "text/html": [
       "<div>\n",
       "<style scoped>\n",
       "    .dataframe tbody tr th:only-of-type {\n",
       "        vertical-align: middle;\n",
       "    }\n",
       "\n",
       "    .dataframe tbody tr th {\n",
       "        vertical-align: top;\n",
       "    }\n",
       "\n",
       "    .dataframe thead th {\n",
       "        text-align: right;\n",
       "    }\n",
       "</style>\n",
       "<table border=\"1\" class=\"dataframe\">\n",
       "  <thead>\n",
       "    <tr style=\"text-align: right;\">\n",
       "      <th></th>\n",
       "      <th>method</th>\n",
       "      <th>run time</th>\n",
       "      <th>RF</th>\n",
       "      <th>F1 %</th>\n",
       "    </tr>\n",
       "  </thead>\n",
       "  <tbody>\n",
       "    <tr>\n",
       "      <th>0</th>\n",
       "      <td>RaxML</td>\n",
       "      <td>464.36</td>\n",
       "      <td>108</td>\n",
       "      <td>95.21</td>\n",
       "    </tr>\n",
       "    <tr>\n",
       "      <th>3</th>\n",
       "      <td>Spectral deep (NJ): 128</td>\n",
       "      <td>197.93</td>\n",
       "      <td>148</td>\n",
       "      <td>93.44</td>\n",
       "    </tr>\n",
       "    <tr>\n",
       "      <th>4</th>\n",
       "      <td>Spectral deep (NJ): 256</td>\n",
       "      <td>189.93</td>\n",
       "      <td>158</td>\n",
       "      <td>93.00</td>\n",
       "    </tr>\n",
       "    <tr>\n",
       "      <th>1</th>\n",
       "      <td>NJ</td>\n",
       "      <td>205.86</td>\n",
       "      <td>166</td>\n",
       "      <td>92.64</td>\n",
       "    </tr>\n",
       "    <tr>\n",
       "      <th>2</th>\n",
       "      <td>Spectral deep (NJ): 35</td>\n",
       "      <td>215.95</td>\n",
       "      <td>202</td>\n",
       "      <td>91.05</td>\n",
       "    </tr>\n",
       "    <tr>\n",
       "      <th>5</th>\n",
       "      <td>SNJ</td>\n",
       "      <td>210.27</td>\n",
       "      <td>570</td>\n",
       "      <td>74.73</td>\n",
       "    </tr>\n",
       "  </tbody>\n",
       "</table>\n",
       "</div>"
      ],
      "text/plain": [
       "                    method  run time   RF   F1 %\n",
       "0                    RaxML    464.36  108  95.21\n",
       "3  Spectral deep (NJ): 128    197.93  148  93.44\n",
       "4  Spectral deep (NJ): 256    189.93  158  93.00\n",
       "1                       NJ    205.86  166  92.64\n",
       "2   Spectral deep (NJ): 35    215.95  202  91.05\n",
       "5                      SNJ    210.27  570  74.73"
      ]
     },
     "execution_count": 49,
     "metadata": {},
     "output_type": "execute_result"
    }
   ],
   "source": [
    "import pandas as pd\n",
    "pd.DataFrame({'method': [\"RaxML\", \"NJ\", \"Spectral deep (NJ): 35\", \"Spectral deep (NJ): 128\", \"Spectral deep (NJ): 256\", \"SNJ\"],\n",
    "             'run time': [ 464.36, 205.86, 215.95, 197.93, 189.93, 210.27],\n",
    "             'RF': [108, 166, 202, 148, 158, 570],\n",
    "             'F1 %': [95.21, 92.64, 91.05, 93.44, 93.00, 74.73]}).sort_values(\"F1 %\", ascending = False)"
   ]
  },
  {
   "cell_type": "markdown",
   "metadata": {},
   "source": [
    "### Try to use the data directly"
   ]
  },
  {
   "cell_type": "markdown",
   "metadata": {},
   "source": [
    "#### neighbor joining"
   ]
  },
  {
   "cell_type": "code",
   "execution_count": 64,
   "metadata": {},
   "outputs": [],
   "source": [
    "def HKY_similarity_matrix_ATCG(observations):\n",
    "    return HKY_similarity_matrix(observations, classes=[\"A\", \"T\", \"C\", \"G\"], debug = False)\n",
    "    \n",
    "nj = reconstruct_tree.NeighborJoining(HKY_similarity_matrix_ATCG)"
   ]
  },
  {
   "cell_type": "code",
   "execution_count": 65,
   "metadata": {},
   "outputs": [
    {
     "name": "stdout",
     "output_type": "stream",
     "text": [
      "Computing the average base frequency for each possible pairs...\n",
      "Computing the counts for differences for each possible pairs...\n",
      "Computing similarity matrix\n",
      "--- 203.94027876853943 seconds ---\n"
     ]
    }
   ],
   "source": [
    "import time\n",
    "start_time = time.time()\n",
    "tree_rec = nj(np.array(ch_list), H3N2_tree.taxon_namespace)\n",
    "print(\"--- %s seconds ---\" % (time.time() - start_time))"
   ]
  },
  {
   "cell_type": "code",
   "execution_count": 66,
   "metadata": {},
   "outputs": [
    {
     "name": "stdout",
     "output_type": "stream",
     "text": [
      "\n",
      "NJ: \n",
      "RF =  196\n",
      "F1% =  91.31205673758865\n",
      "\n"
     ]
    }
   ],
   "source": [
    "RF,F1 = reconstruct_tree.compare_trees(tree_rec, H3N2_tree)\n",
    "print(\"\")\n",
    "print(\"NJ: \")\n",
    "print(\"RF = \",RF)\n",
    "print(\"F1% = \",F1)\n",
    "print(\"\")"
   ]
  },
  {
   "cell_type": "code",
   "execution_count": 73,
   "metadata": {},
   "outputs": [
    {
     "name": "stdout",
     "output_type": "stream",
     "text": [
      "Computing the average base frequency for each possible pairs...\n",
      "Computing the counts for differences for each possible pairs...\n",
      "Computing similarity matrix\n"
     ]
    },
    {
     "name": "stderr",
     "output_type": "stream",
     "text": [
      "/home/mw957/project/conda_envs/r_env/lib/python3.7/site-packages/sklearn/decomposition/_truncated_svd.py:194: RuntimeWarning: divide by zero encountered in true_divide\n",
      "  self.explained_variance_ratio_ = exp_var / full_var\n",
      "/home/mw957/project/conda_envs/r_env/lib/python3.7/site-packages/sklearn/decomposition/_truncated_svd.py:194: RuntimeWarning: divide by zero encountered in true_divide\n",
      "  self.explained_variance_ratio_ = exp_var / full_var\n",
      "/home/mw957/project/conda_envs/r_env/lib/python3.7/site-packages/sklearn/decomposition/_truncated_svd.py:194: RuntimeWarning: divide by zero encountered in true_divide\n",
      "  self.explained_variance_ratio_ = exp_var / full_var\n",
      "/home/mw957/project/conda_envs/r_env/lib/python3.7/site-packages/sklearn/decomposition/_truncated_svd.py:194: RuntimeWarning: divide by zero encountered in true_divide\n",
      "  self.explained_variance_ratio_ = exp_var / full_var\n",
      "/home/mw957/project/conda_envs/r_env/lib/python3.7/site-packages/sklearn/decomposition/_truncated_svd.py:194: RuntimeWarning: divide by zero encountered in true_divide\n",
      "  self.explained_variance_ratio_ = exp_var / full_var\n",
      "/home/mw957/project/conda_envs/r_env/lib/python3.7/site-packages/sklearn/decomposition/_truncated_svd.py:194: RuntimeWarning: divide by zero encountered in true_divide\n",
      "  self.explained_variance_ratio_ = exp_var / full_var\n",
      "/home/mw957/project/conda_envs/r_env/lib/python3.7/site-packages/sklearn/decomposition/_truncated_svd.py:194: RuntimeWarning: divide by zero encountered in true_divide\n",
      "  self.explained_variance_ratio_ = exp_var / full_var\n",
      "/home/mw957/project/conda_envs/r_env/lib/python3.7/site-packages/sklearn/decomposition/_truncated_svd.py:194: RuntimeWarning: divide by zero encountered in true_divide\n",
      "  self.explained_variance_ratio_ = exp_var / full_var\n",
      "/home/mw957/project/conda_envs/r_env/lib/python3.7/site-packages/sklearn/decomposition/_truncated_svd.py:194: RuntimeWarning: divide by zero encountered in true_divide\n",
      "  self.explained_variance_ratio_ = exp_var / full_var\n",
      "/home/mw957/project/conda_envs/r_env/lib/python3.7/site-packages/sklearn/decomposition/_truncated_svd.py:194: RuntimeWarning: divide by zero encountered in true_divide\n",
      "  self.explained_variance_ratio_ = exp_var / full_var\n",
      "/home/mw957/project/conda_envs/r_env/lib/python3.7/site-packages/sklearn/decomposition/_truncated_svd.py:194: RuntimeWarning: divide by zero encountered in true_divide\n",
      "  self.explained_variance_ratio_ = exp_var / full_var\n",
      "/home/mw957/project/conda_envs/r_env/lib/python3.7/site-packages/sklearn/decomposition/_truncated_svd.py:194: RuntimeWarning: divide by zero encountered in true_divide\n",
      "  self.explained_variance_ratio_ = exp_var / full_var\n",
      "/home/mw957/project/conda_envs/r_env/lib/python3.7/site-packages/sklearn/decomposition/_truncated_svd.py:194: RuntimeWarning: divide by zero encountered in true_divide\n",
      "  self.explained_variance_ratio_ = exp_var / full_var\n",
      "/home/mw957/project/conda_envs/r_env/lib/python3.7/site-packages/sklearn/decomposition/_truncated_svd.py:194: RuntimeWarning: divide by zero encountered in true_divide\n",
      "  self.explained_variance_ratio_ = exp_var / full_var\n",
      "/home/mw957/project/conda_envs/r_env/lib/python3.7/site-packages/sklearn/decomposition/_truncated_svd.py:194: RuntimeWarning: divide by zero encountered in true_divide\n",
      "  self.explained_variance_ratio_ = exp_var / full_var\n",
      "/home/mw957/project/conda_envs/r_env/lib/python3.7/site-packages/sklearn/decomposition/_truncated_svd.py:194: RuntimeWarning: divide by zero encountered in true_divide\n",
      "  self.explained_variance_ratio_ = exp_var / full_var\n",
      "/home/mw957/project/conda_envs/r_env/lib/python3.7/site-packages/sklearn/decomposition/_truncated_svd.py:194: RuntimeWarning: invalid value encountered in true_divide\n",
      "  self.explained_variance_ratio_ = exp_var / full_var\n",
      "/home/mw957/project/conda_envs/r_env/lib/python3.7/site-packages/sklearn/decomposition/_truncated_svd.py:194: RuntimeWarning: divide by zero encountered in true_divide\n",
      "  self.explained_variance_ratio_ = exp_var / full_var\n",
      "/home/mw957/project/conda_envs/r_env/lib/python3.7/site-packages/sklearn/decomposition/_truncated_svd.py:194: RuntimeWarning: invalid value encountered in true_divide\n",
      "  self.explained_variance_ratio_ = exp_var / full_var\n",
      "/home/mw957/project/conda_envs/r_env/lib/python3.7/site-packages/sklearn/decomposition/_truncated_svd.py:194: RuntimeWarning: divide by zero encountered in true_divide\n",
      "  self.explained_variance_ratio_ = exp_var / full_var\n",
      "/home/mw957/project/conda_envs/r_env/lib/python3.7/site-packages/sklearn/decomposition/_truncated_svd.py:194: RuntimeWarning: invalid value encountered in true_divide\n",
      "  self.explained_variance_ratio_ = exp_var / full_var\n",
      "/home/mw957/project/conda_envs/r_env/lib/python3.7/site-packages/sklearn/decomposition/_truncated_svd.py:194: RuntimeWarning: divide by zero encountered in true_divide\n",
      "  self.explained_variance_ratio_ = exp_var / full_var\n",
      "/home/mw957/project/conda_envs/r_env/lib/python3.7/site-packages/sklearn/decomposition/_truncated_svd.py:194: RuntimeWarning: divide by zero encountered in true_divide\n",
      "  self.explained_variance_ratio_ = exp_var / full_var\n",
      "/home/mw957/project/conda_envs/r_env/lib/python3.7/site-packages/sklearn/decomposition/_truncated_svd.py:194: RuntimeWarning: divide by zero encountered in true_divide\n",
      "  self.explained_variance_ratio_ = exp_var / full_var\n",
      "/home/mw957/project/conda_envs/r_env/lib/python3.7/site-packages/sklearn/decomposition/_truncated_svd.py:194: RuntimeWarning: divide by zero encountered in true_divide\n",
      "  self.explained_variance_ratio_ = exp_var / full_var\n",
      "/home/mw957/project/conda_envs/r_env/lib/python3.7/site-packages/sklearn/decomposition/_truncated_svd.py:194: RuntimeWarning: divide by zero encountered in true_divide\n",
      "  self.explained_variance_ratio_ = exp_var / full_var\n",
      "/home/mw957/project/conda_envs/r_env/lib/python3.7/site-packages/sklearn/decomposition/_truncated_svd.py:194: RuntimeWarning: divide by zero encountered in true_divide\n",
      "  self.explained_variance_ratio_ = exp_var / full_var\n",
      "/home/mw957/project/conda_envs/r_env/lib/python3.7/site-packages/sklearn/decomposition/_truncated_svd.py:194: RuntimeWarning: divide by zero encountered in true_divide\n",
      "  self.explained_variance_ratio_ = exp_var / full_var\n",
      "/home/mw957/project/conda_envs/r_env/lib/python3.7/site-packages/sklearn/decomposition/_truncated_svd.py:194: RuntimeWarning: invalid value encountered in true_divide\n",
      "  self.explained_variance_ratio_ = exp_var / full_var\n",
      "/home/mw957/project/conda_envs/r_env/lib/python3.7/site-packages/sklearn/decomposition/_truncated_svd.py:194: RuntimeWarning: divide by zero encountered in true_divide\n",
      "  self.explained_variance_ratio_ = exp_var / full_var\n",
      "/home/mw957/project/conda_envs/r_env/lib/python3.7/site-packages/sklearn/decomposition/_truncated_svd.py:194: RuntimeWarning: invalid value encountered in true_divide\n",
      "  self.explained_variance_ratio_ = exp_var / full_var\n",
      "/home/mw957/project/conda_envs/r_env/lib/python3.7/site-packages/sklearn/decomposition/_truncated_svd.py:194: RuntimeWarning: divide by zero encountered in true_divide\n",
      "  self.explained_variance_ratio_ = exp_var / full_var\n",
      "/home/mw957/project/conda_envs/r_env/lib/python3.7/site-packages/sklearn/decomposition/_truncated_svd.py:194: RuntimeWarning: invalid value encountered in true_divide\n",
      "  self.explained_variance_ratio_ = exp_var / full_var\n",
      "/home/mw957/project/conda_envs/r_env/lib/python3.7/site-packages/sklearn/decomposition/_truncated_svd.py:194: RuntimeWarning: divide by zero encountered in true_divide\n",
      "  self.explained_variance_ratio_ = exp_var / full_var\n",
      "/home/mw957/project/conda_envs/r_env/lib/python3.7/site-packages/sklearn/decomposition/_truncated_svd.py:194: RuntimeWarning: divide by zero encountered in true_divide\n",
      "  self.explained_variance_ratio_ = exp_var / full_var\n",
      "/home/mw957/project/conda_envs/r_env/lib/python3.7/site-packages/sklearn/decomposition/_truncated_svd.py:194: RuntimeWarning: divide by zero encountered in true_divide\n",
      "  self.explained_variance_ratio_ = exp_var / full_var\n",
      "/home/mw957/project/conda_envs/r_env/lib/python3.7/site-packages/sklearn/decomposition/_truncated_svd.py:194: RuntimeWarning: divide by zero encountered in true_divide\n",
      "  self.explained_variance_ratio_ = exp_var / full_var\n",
      "/home/mw957/project/conda_envs/r_env/lib/python3.7/site-packages/sklearn/decomposition/_truncated_svd.py:194: RuntimeWarning: invalid value encountered in true_divide\n",
      "  self.explained_variance_ratio_ = exp_var / full_var\n",
      "/home/mw957/project/conda_envs/r_env/lib/python3.7/site-packages/sklearn/decomposition/_truncated_svd.py:194: RuntimeWarning: divide by zero encountered in true_divide\n",
      "  self.explained_variance_ratio_ = exp_var / full_var\n",
      "/home/mw957/project/conda_envs/r_env/lib/python3.7/site-packages/sklearn/decomposition/_truncated_svd.py:194: RuntimeWarning: invalid value encountered in true_divide\n",
      "  self.explained_variance_ratio_ = exp_var / full_var\n",
      "/home/mw957/project/conda_envs/r_env/lib/python3.7/site-packages/sklearn/decomposition/_truncated_svd.py:194: RuntimeWarning: divide by zero encountered in true_divide\n",
      "  self.explained_variance_ratio_ = exp_var / full_var\n",
      "/home/mw957/project/conda_envs/r_env/lib/python3.7/site-packages/sklearn/decomposition/_truncated_svd.py:194: RuntimeWarning: invalid value encountered in true_divide\n",
      "  self.explained_variance_ratio_ = exp_var / full_var\n",
      "/home/mw957/project/conda_envs/r_env/lib/python3.7/site-packages/sklearn/decomposition/_truncated_svd.py:194: RuntimeWarning: divide by zero encountered in true_divide\n",
      "  self.explained_variance_ratio_ = exp_var / full_var\n",
      "/home/mw957/project/conda_envs/r_env/lib/python3.7/site-packages/sklearn/decomposition/_truncated_svd.py:194: RuntimeWarning: divide by zero encountered in true_divide\n",
      "  self.explained_variance_ratio_ = exp_var / full_var\n",
      "/home/mw957/project/conda_envs/r_env/lib/python3.7/site-packages/sklearn/decomposition/_truncated_svd.py:194: RuntimeWarning: divide by zero encountered in true_divide\n",
      "  self.explained_variance_ratio_ = exp_var / full_var\n",
      "/home/mw957/project/conda_envs/r_env/lib/python3.7/site-packages/sklearn/decomposition/_truncated_svd.py:194: RuntimeWarning: divide by zero encountered in true_divide\n",
      "  self.explained_variance_ratio_ = exp_var / full_var\n",
      "/home/mw957/project/conda_envs/r_env/lib/python3.7/site-packages/sklearn/decomposition/_truncated_svd.py:194: RuntimeWarning: divide by zero encountered in true_divide\n",
      "  self.explained_variance_ratio_ = exp_var / full_var\n",
      "/home/mw957/project/conda_envs/r_env/lib/python3.7/site-packages/sklearn/decomposition/_truncated_svd.py:194: RuntimeWarning: divide by zero encountered in true_divide\n",
      "  self.explained_variance_ratio_ = exp_var / full_var\n",
      "/home/mw957/project/conda_envs/r_env/lib/python3.7/site-packages/sklearn/decomposition/_truncated_svd.py:194: RuntimeWarning: divide by zero encountered in true_divide\n",
      "  self.explained_variance_ratio_ = exp_var / full_var\n",
      "/home/mw957/project/conda_envs/r_env/lib/python3.7/site-packages/sklearn/decomposition/_truncated_svd.py:194: RuntimeWarning: divide by zero encountered in true_divide\n",
      "  self.explained_variance_ratio_ = exp_var / full_var\n",
      "/home/mw957/project/conda_envs/r_env/lib/python3.7/site-packages/sklearn/decomposition/_truncated_svd.py:194: RuntimeWarning: divide by zero encountered in true_divide\n",
      "  self.explained_variance_ratio_ = exp_var / full_var\n",
      "/home/mw957/project/conda_envs/r_env/lib/python3.7/site-packages/sklearn/decomposition/_truncated_svd.py:194: RuntimeWarning: divide by zero encountered in true_divide\n",
      "  self.explained_variance_ratio_ = exp_var / full_var\n",
      "/home/mw957/project/conda_envs/r_env/lib/python3.7/site-packages/sklearn/decomposition/_truncated_svd.py:194: RuntimeWarning: divide by zero encountered in true_divide\n",
      "  self.explained_variance_ratio_ = exp_var / full_var\n",
      "/home/mw957/project/conda_envs/r_env/lib/python3.7/site-packages/sklearn/decomposition/_truncated_svd.py:194: RuntimeWarning: divide by zero encountered in true_divide\n",
      "  self.explained_variance_ratio_ = exp_var / full_var\n",
      "/home/mw957/project/conda_envs/r_env/lib/python3.7/site-packages/sklearn/decomposition/_truncated_svd.py:194: RuntimeWarning: divide by zero encountered in true_divide\n",
      "  self.explained_variance_ratio_ = exp_var / full_var\n",
      "/home/mw957/project/conda_envs/r_env/lib/python3.7/site-packages/sklearn/decomposition/_truncated_svd.py:194: RuntimeWarning: divide by zero encountered in true_divide\n",
      "  self.explained_variance_ratio_ = exp_var / full_var\n",
      "/home/mw957/project/conda_envs/r_env/lib/python3.7/site-packages/sklearn/decomposition/_truncated_svd.py:194: RuntimeWarning: divide by zero encountered in true_divide\n",
      "  self.explained_variance_ratio_ = exp_var / full_var\n",
      "/home/mw957/project/conda_envs/r_env/lib/python3.7/site-packages/sklearn/decomposition/_truncated_svd.py:194: RuntimeWarning: divide by zero encountered in true_divide\n",
      "  self.explained_variance_ratio_ = exp_var / full_var\n",
      "/home/mw957/project/conda_envs/r_env/lib/python3.7/site-packages/sklearn/decomposition/_truncated_svd.py:194: RuntimeWarning: divide by zero encountered in true_divide\n",
      "  self.explained_variance_ratio_ = exp_var / full_var\n",
      "/home/mw957/project/conda_envs/r_env/lib/python3.7/site-packages/sklearn/decomposition/_truncated_svd.py:194: RuntimeWarning: divide by zero encountered in true_divide\n",
      "  self.explained_variance_ratio_ = exp_var / full_var\n",
      "/home/mw957/project/conda_envs/r_env/lib/python3.7/site-packages/sklearn/decomposition/_truncated_svd.py:194: RuntimeWarning: divide by zero encountered in true_divide\n",
      "  self.explained_variance_ratio_ = exp_var / full_var\n",
      "/home/mw957/project/conda_envs/r_env/lib/python3.7/site-packages/sklearn/decomposition/_truncated_svd.py:194: RuntimeWarning: divide by zero encountered in true_divide\n",
      "  self.explained_variance_ratio_ = exp_var / full_var\n",
      "/home/mw957/project/conda_envs/r_env/lib/python3.7/site-packages/sklearn/decomposition/_truncated_svd.py:194: RuntimeWarning: divide by zero encountered in true_divide\n",
      "  self.explained_variance_ratio_ = exp_var / full_var\n",
      "/home/mw957/project/conda_envs/r_env/lib/python3.7/site-packages/sklearn/decomposition/_truncated_svd.py:194: RuntimeWarning: divide by zero encountered in true_divide\n",
      "  self.explained_variance_ratio_ = exp_var / full_var\n",
      "/home/mw957/project/conda_envs/r_env/lib/python3.7/site-packages/sklearn/decomposition/_truncated_svd.py:194: RuntimeWarning: divide by zero encountered in true_divide\n",
      "  self.explained_variance_ratio_ = exp_var / full_var\n",
      "/home/mw957/project/conda_envs/r_env/lib/python3.7/site-packages/sklearn/decomposition/_truncated_svd.py:194: RuntimeWarning: divide by zero encountered in true_divide\n",
      "  self.explained_variance_ratio_ = exp_var / full_var\n",
      "/home/mw957/project/conda_envs/r_env/lib/python3.7/site-packages/sklearn/decomposition/_truncated_svd.py:194: RuntimeWarning: divide by zero encountered in true_divide\n",
      "  self.explained_variance_ratio_ = exp_var / full_var\n",
      "/home/mw957/project/conda_envs/r_env/lib/python3.7/site-packages/sklearn/decomposition/_truncated_svd.py:194: RuntimeWarning: divide by zero encountered in true_divide\n",
      "  self.explained_variance_ratio_ = exp_var / full_var\n",
      "/home/mw957/project/conda_envs/r_env/lib/python3.7/site-packages/sklearn/decomposition/_truncated_svd.py:194: RuntimeWarning: divide by zero encountered in true_divide\n",
      "  self.explained_variance_ratio_ = exp_var / full_var\n",
      "/home/mw957/project/conda_envs/r_env/lib/python3.7/site-packages/sklearn/decomposition/_truncated_svd.py:194: RuntimeWarning: divide by zero encountered in true_divide\n",
      "  self.explained_variance_ratio_ = exp_var / full_var\n",
      "/home/mw957/project/conda_envs/r_env/lib/python3.7/site-packages/sklearn/decomposition/_truncated_svd.py:194: RuntimeWarning: divide by zero encountered in true_divide\n",
      "  self.explained_variance_ratio_ = exp_var / full_var\n",
      "/home/mw957/project/conda_envs/r_env/lib/python3.7/site-packages/sklearn/decomposition/_truncated_svd.py:194: RuntimeWarning: divide by zero encountered in true_divide\n",
      "  self.explained_variance_ratio_ = exp_var / full_var\n",
      "/home/mw957/project/conda_envs/r_env/lib/python3.7/site-packages/sklearn/decomposition/_truncated_svd.py:194: RuntimeWarning: divide by zero encountered in true_divide\n",
      "  self.explained_variance_ratio_ = exp_var / full_var\n",
      "/home/mw957/project/conda_envs/r_env/lib/python3.7/site-packages/sklearn/decomposition/_truncated_svd.py:194: RuntimeWarning: divide by zero encountered in true_divide\n",
      "  self.explained_variance_ratio_ = exp_var / full_var\n",
      "/home/mw957/project/conda_envs/r_env/lib/python3.7/site-packages/sklearn/decomposition/_truncated_svd.py:194: RuntimeWarning: divide by zero encountered in true_divide\n",
      "  self.explained_variance_ratio_ = exp_var / full_var\n",
      "/home/mw957/project/conda_envs/r_env/lib/python3.7/site-packages/sklearn/decomposition/_truncated_svd.py:194: RuntimeWarning: divide by zero encountered in true_divide\n",
      "  self.explained_variance_ratio_ = exp_var / full_var\n",
      "/home/mw957/project/conda_envs/r_env/lib/python3.7/site-packages/sklearn/decomposition/_truncated_svd.py:194: RuntimeWarning: divide by zero encountered in true_divide\n",
      "  self.explained_variance_ratio_ = exp_var / full_var\n",
      "/home/mw957/project/conda_envs/r_env/lib/python3.7/site-packages/sklearn/decomposition/_truncated_svd.py:194: RuntimeWarning: divide by zero encountered in true_divide\n",
      "  self.explained_variance_ratio_ = exp_var / full_var\n",
      "/home/mw957/project/conda_envs/r_env/lib/python3.7/site-packages/sklearn/decomposition/_truncated_svd.py:194: RuntimeWarning: divide by zero encountered in true_divide\n",
      "  self.explained_variance_ratio_ = exp_var / full_var\n",
      "/home/mw957/project/conda_envs/r_env/lib/python3.7/site-packages/sklearn/decomposition/_truncated_svd.py:194: RuntimeWarning: divide by zero encountered in true_divide\n",
      "  self.explained_variance_ratio_ = exp_var / full_var\n",
      "/home/mw957/project/conda_envs/r_env/lib/python3.7/site-packages/sklearn/decomposition/_truncated_svd.py:194: RuntimeWarning: divide by zero encountered in true_divide\n",
      "  self.explained_variance_ratio_ = exp_var / full_var\n",
      "/home/mw957/project/conda_envs/r_env/lib/python3.7/site-packages/sklearn/decomposition/_truncated_svd.py:194: RuntimeWarning: divide by zero encountered in true_divide\n",
      "  self.explained_variance_ratio_ = exp_var / full_var\n",
      "/home/mw957/project/conda_envs/r_env/lib/python3.7/site-packages/sklearn/decomposition/_truncated_svd.py:194: RuntimeWarning: invalid value encountered in true_divide\n",
      "  self.explained_variance_ratio_ = exp_var / full_var\n",
      "/home/mw957/project/conda_envs/r_env/lib/python3.7/site-packages/sklearn/decomposition/_truncated_svd.py:194: RuntimeWarning: divide by zero encountered in true_divide\n",
      "  self.explained_variance_ratio_ = exp_var / full_var\n",
      "/home/mw957/project/conda_envs/r_env/lib/python3.7/site-packages/sklearn/decomposition/_truncated_svd.py:194: RuntimeWarning: invalid value encountered in true_divide\n",
      "  self.explained_variance_ratio_ = exp_var / full_var\n",
      "/home/mw957/project/conda_envs/r_env/lib/python3.7/site-packages/sklearn/decomposition/_truncated_svd.py:194: RuntimeWarning: divide by zero encountered in true_divide\n",
      "  self.explained_variance_ratio_ = exp_var / full_var\n",
      "/home/mw957/project/conda_envs/r_env/lib/python3.7/site-packages/sklearn/decomposition/_truncated_svd.py:194: RuntimeWarning: invalid value encountered in true_divide\n",
      "  self.explained_variance_ratio_ = exp_var / full_var\n",
      "/home/mw957/project/conda_envs/r_env/lib/python3.7/site-packages/sklearn/decomposition/_truncated_svd.py:194: RuntimeWarning: divide by zero encountered in true_divide\n",
      "  self.explained_variance_ratio_ = exp_var / full_var\n",
      "/home/mw957/project/conda_envs/r_env/lib/python3.7/site-packages/sklearn/decomposition/_truncated_svd.py:194: RuntimeWarning: divide by zero encountered in true_divide\n",
      "  self.explained_variance_ratio_ = exp_var / full_var\n",
      "/home/mw957/project/conda_envs/r_env/lib/python3.7/site-packages/sklearn/decomposition/_truncated_svd.py:194: RuntimeWarning: divide by zero encountered in true_divide\n",
      "  self.explained_variance_ratio_ = exp_var / full_var\n",
      "/home/mw957/project/conda_envs/r_env/lib/python3.7/site-packages/sklearn/decomposition/_truncated_svd.py:194: RuntimeWarning: divide by zero encountered in true_divide\n",
      "  self.explained_variance_ratio_ = exp_var / full_var\n",
      "/home/mw957/project/conda_envs/r_env/lib/python3.7/site-packages/sklearn/decomposition/_truncated_svd.py:194: RuntimeWarning: divide by zero encountered in true_divide\n",
      "  self.explained_variance_ratio_ = exp_var / full_var\n",
      "/home/mw957/project/conda_envs/r_env/lib/python3.7/site-packages/sklearn/decomposition/_truncated_svd.py:194: RuntimeWarning: divide by zero encountered in true_divide\n",
      "  self.explained_variance_ratio_ = exp_var / full_var\n",
      "/home/mw957/project/conda_envs/r_env/lib/python3.7/site-packages/sklearn/decomposition/_truncated_svd.py:194: RuntimeWarning: divide by zero encountered in true_divide\n",
      "  self.explained_variance_ratio_ = exp_var / full_var\n",
      "/home/mw957/project/conda_envs/r_env/lib/python3.7/site-packages/sklearn/decomposition/_truncated_svd.py:194: RuntimeWarning: invalid value encountered in true_divide\n",
      "  self.explained_variance_ratio_ = exp_var / full_var\n",
      "/home/mw957/project/conda_envs/r_env/lib/python3.7/site-packages/sklearn/decomposition/_truncated_svd.py:194: RuntimeWarning: divide by zero encountered in true_divide\n",
      "  self.explained_variance_ratio_ = exp_var / full_var\n",
      "/home/mw957/project/conda_envs/r_env/lib/python3.7/site-packages/sklearn/decomposition/_truncated_svd.py:194: RuntimeWarning: invalid value encountered in true_divide\n",
      "  self.explained_variance_ratio_ = exp_var / full_var\n",
      "/home/mw957/project/conda_envs/r_env/lib/python3.7/site-packages/sklearn/decomposition/_truncated_svd.py:194: RuntimeWarning: divide by zero encountered in true_divide\n",
      "  self.explained_variance_ratio_ = exp_var / full_var\n",
      "/home/mw957/project/conda_envs/r_env/lib/python3.7/site-packages/sklearn/decomposition/_truncated_svd.py:194: RuntimeWarning: invalid value encountered in true_divide\n",
      "  self.explained_variance_ratio_ = exp_var / full_var\n",
      "/home/mw957/project/conda_envs/r_env/lib/python3.7/site-packages/sklearn/decomposition/_truncated_svd.py:194: RuntimeWarning: divide by zero encountered in true_divide\n",
      "  self.explained_variance_ratio_ = exp_var / full_var\n",
      "/home/mw957/project/conda_envs/r_env/lib/python3.7/site-packages/sklearn/decomposition/_truncated_svd.py:194: RuntimeWarning: divide by zero encountered in true_divide\n",
      "  self.explained_variance_ratio_ = exp_var / full_var\n",
      "/home/mw957/project/conda_envs/r_env/lib/python3.7/site-packages/sklearn/decomposition/_truncated_svd.py:194: RuntimeWarning: divide by zero encountered in true_divide\n",
      "  self.explained_variance_ratio_ = exp_var / full_var\n",
      "/home/mw957/project/conda_envs/r_env/lib/python3.7/site-packages/sklearn/decomposition/_truncated_svd.py:194: RuntimeWarning: divide by zero encountered in true_divide\n",
      "  self.explained_variance_ratio_ = exp_var / full_var\n",
      "/home/mw957/project/conda_envs/r_env/lib/python3.7/site-packages/sklearn/decomposition/_truncated_svd.py:194: RuntimeWarning: divide by zero encountered in true_divide\n",
      "  self.explained_variance_ratio_ = exp_var / full_var\n",
      "/home/mw957/project/conda_envs/r_env/lib/python3.7/site-packages/sklearn/decomposition/_truncated_svd.py:194: RuntimeWarning: divide by zero encountered in true_divide\n",
      "  self.explained_variance_ratio_ = exp_var / full_var\n",
      "/home/mw957/project/conda_envs/r_env/lib/python3.7/site-packages/sklearn/decomposition/_truncated_svd.py:194: RuntimeWarning: divide by zero encountered in true_divide\n",
      "  self.explained_variance_ratio_ = exp_var / full_var\n",
      "/home/mw957/project/conda_envs/r_env/lib/python3.7/site-packages/sklearn/decomposition/_truncated_svd.py:194: RuntimeWarning: invalid value encountered in true_divide\n",
      "  self.explained_variance_ratio_ = exp_var / full_var\n",
      "/home/mw957/project/conda_envs/r_env/lib/python3.7/site-packages/sklearn/decomposition/_truncated_svd.py:194: RuntimeWarning: divide by zero encountered in true_divide\n",
      "  self.explained_variance_ratio_ = exp_var / full_var\n",
      "/home/mw957/project/conda_envs/r_env/lib/python3.7/site-packages/sklearn/decomposition/_truncated_svd.py:194: RuntimeWarning: invalid value encountered in true_divide\n",
      "  self.explained_variance_ratio_ = exp_var / full_var\n",
      "/home/mw957/project/conda_envs/r_env/lib/python3.7/site-packages/sklearn/decomposition/_truncated_svd.py:194: RuntimeWarning: divide by zero encountered in true_divide\n",
      "  self.explained_variance_ratio_ = exp_var / full_var\n",
      "/home/mw957/project/conda_envs/r_env/lib/python3.7/site-packages/sklearn/decomposition/_truncated_svd.py:194: RuntimeWarning: invalid value encountered in true_divide\n",
      "  self.explained_variance_ratio_ = exp_var / full_var\n",
      "/home/mw957/project/conda_envs/r_env/lib/python3.7/site-packages/sklearn/decomposition/_truncated_svd.py:194: RuntimeWarning: divide by zero encountered in true_divide\n",
      "  self.explained_variance_ratio_ = exp_var / full_var\n",
      "/home/mw957/project/conda_envs/r_env/lib/python3.7/site-packages/sklearn/decomposition/_truncated_svd.py:194: RuntimeWarning: divide by zero encountered in true_divide\n",
      "  self.explained_variance_ratio_ = exp_var / full_var\n",
      "/home/mw957/project/conda_envs/r_env/lib/python3.7/site-packages/sklearn/decomposition/_truncated_svd.py:194: RuntimeWarning: divide by zero encountered in true_divide\n",
      "  self.explained_variance_ratio_ = exp_var / full_var\n",
      "/home/mw957/project/conda_envs/r_env/lib/python3.7/site-packages/sklearn/decomposition/_truncated_svd.py:194: RuntimeWarning: divide by zero encountered in true_divide\n",
      "  self.explained_variance_ratio_ = exp_var / full_var\n",
      "/home/mw957/project/conda_envs/r_env/lib/python3.7/site-packages/sklearn/decomposition/_truncated_svd.py:194: RuntimeWarning: divide by zero encountered in true_divide\n",
      "  self.explained_variance_ratio_ = exp_var / full_var\n",
      "/home/mw957/project/conda_envs/r_env/lib/python3.7/site-packages/sklearn/decomposition/_truncated_svd.py:194: RuntimeWarning: divide by zero encountered in true_divide\n",
      "  self.explained_variance_ratio_ = exp_var / full_var\n",
      "/home/mw957/project/conda_envs/r_env/lib/python3.7/site-packages/sklearn/decomposition/_truncated_svd.py:194: RuntimeWarning: divide by zero encountered in true_divide\n",
      "  self.explained_variance_ratio_ = exp_var / full_var\n",
      "/home/mw957/project/conda_envs/r_env/lib/python3.7/site-packages/sklearn/decomposition/_truncated_svd.py:194: RuntimeWarning: divide by zero encountered in true_divide\n",
      "  self.explained_variance_ratio_ = exp_var / full_var\n",
      "/home/mw957/project/conda_envs/r_env/lib/python3.7/site-packages/sklearn/decomposition/_truncated_svd.py:194: RuntimeWarning: divide by zero encountered in true_divide\n",
      "  self.explained_variance_ratio_ = exp_var / full_var\n",
      "/home/mw957/project/conda_envs/r_env/lib/python3.7/site-packages/sklearn/decomposition/_truncated_svd.py:194: RuntimeWarning: divide by zero encountered in true_divide\n",
      "  self.explained_variance_ratio_ = exp_var / full_var\n",
      "/home/mw957/project/conda_envs/r_env/lib/python3.7/site-packages/sklearn/decomposition/_truncated_svd.py:194: RuntimeWarning: divide by zero encountered in true_divide\n",
      "  self.explained_variance_ratio_ = exp_var / full_var\n",
      "/home/mw957/project/conda_envs/r_env/lib/python3.7/site-packages/sklearn/decomposition/_truncated_svd.py:194: RuntimeWarning: divide by zero encountered in true_divide\n",
      "  self.explained_variance_ratio_ = exp_var / full_var\n",
      "/home/mw957/project/conda_envs/r_env/lib/python3.7/site-packages/sklearn/decomposition/_truncated_svd.py:194: RuntimeWarning: divide by zero encountered in true_divide\n",
      "  self.explained_variance_ratio_ = exp_var / full_var\n",
      "/home/mw957/project/conda_envs/r_env/lib/python3.7/site-packages/sklearn/decomposition/_truncated_svd.py:194: RuntimeWarning: divide by zero encountered in true_divide\n",
      "  self.explained_variance_ratio_ = exp_var / full_var\n",
      "/home/mw957/project/conda_envs/r_env/lib/python3.7/site-packages/sklearn/decomposition/_truncated_svd.py:194: RuntimeWarning: divide by zero encountered in true_divide\n",
      "  self.explained_variance_ratio_ = exp_var / full_var\n",
      "/home/mw957/project/conda_envs/r_env/lib/python3.7/site-packages/sklearn/decomposition/_truncated_svd.py:194: RuntimeWarning: divide by zero encountered in true_divide\n",
      "  self.explained_variance_ratio_ = exp_var / full_var\n",
      "/home/mw957/project/conda_envs/r_env/lib/python3.7/site-packages/sklearn/decomposition/_truncated_svd.py:194: RuntimeWarning: invalid value encountered in true_divide\n",
      "  self.explained_variance_ratio_ = exp_var / full_var\n",
      "/home/mw957/project/conda_envs/r_env/lib/python3.7/site-packages/sklearn/decomposition/_truncated_svd.py:194: RuntimeWarning: divide by zero encountered in true_divide\n",
      "  self.explained_variance_ratio_ = exp_var / full_var\n",
      "/home/mw957/project/conda_envs/r_env/lib/python3.7/site-packages/sklearn/decomposition/_truncated_svd.py:194: RuntimeWarning: invalid value encountered in true_divide\n",
      "  self.explained_variance_ratio_ = exp_var / full_var\n",
      "/home/mw957/project/conda_envs/r_env/lib/python3.7/site-packages/sklearn/decomposition/_truncated_svd.py:194: RuntimeWarning: divide by zero encountered in true_divide\n",
      "  self.explained_variance_ratio_ = exp_var / full_var\n",
      "/home/mw957/project/conda_envs/r_env/lib/python3.7/site-packages/sklearn/decomposition/_truncated_svd.py:194: RuntimeWarning: invalid value encountered in true_divide\n",
      "  self.explained_variance_ratio_ = exp_var / full_var\n",
      "/home/mw957/project/conda_envs/r_env/lib/python3.7/site-packages/sklearn/decomposition/_truncated_svd.py:194: RuntimeWarning: divide by zero encountered in true_divide\n",
      "  self.explained_variance_ratio_ = exp_var / full_var\n",
      "/home/mw957/project/conda_envs/r_env/lib/python3.7/site-packages/sklearn/decomposition/_truncated_svd.py:194: RuntimeWarning: divide by zero encountered in true_divide\n",
      "  self.explained_variance_ratio_ = exp_var / full_var\n",
      "/home/mw957/project/conda_envs/r_env/lib/python3.7/site-packages/sklearn/decomposition/_truncated_svd.py:194: RuntimeWarning: divide by zero encountered in true_divide\n",
      "  self.explained_variance_ratio_ = exp_var / full_var\n",
      "/home/mw957/project/conda_envs/r_env/lib/python3.7/site-packages/sklearn/decomposition/_truncated_svd.py:194: RuntimeWarning: divide by zero encountered in true_divide\n",
      "  self.explained_variance_ratio_ = exp_var / full_var\n",
      "/home/mw957/project/conda_envs/r_env/lib/python3.7/site-packages/sklearn/decomposition/_truncated_svd.py:194: RuntimeWarning: divide by zero encountered in true_divide\n",
      "  self.explained_variance_ratio_ = exp_var / full_var\n",
      "/home/mw957/project/conda_envs/r_env/lib/python3.7/site-packages/sklearn/decomposition/_truncated_svd.py:194: RuntimeWarning: divide by zero encountered in true_divide\n",
      "  self.explained_variance_ratio_ = exp_var / full_var\n",
      "/home/mw957/project/conda_envs/r_env/lib/python3.7/site-packages/sklearn/decomposition/_truncated_svd.py:194: RuntimeWarning: divide by zero encountered in true_divide\n",
      "  self.explained_variance_ratio_ = exp_var / full_var\n",
      "/home/mw957/project/conda_envs/r_env/lib/python3.7/site-packages/sklearn/decomposition/_truncated_svd.py:194: RuntimeWarning: divide by zero encountered in true_divide\n",
      "  self.explained_variance_ratio_ = exp_var / full_var\n",
      "/home/mw957/project/conda_envs/r_env/lib/python3.7/site-packages/sklearn/decomposition/_truncated_svd.py:194: RuntimeWarning: divide by zero encountered in true_divide\n",
      "  self.explained_variance_ratio_ = exp_var / full_var\n",
      "/home/mw957/project/conda_envs/r_env/lib/python3.7/site-packages/sklearn/decomposition/_truncated_svd.py:194: RuntimeWarning: divide by zero encountered in true_divide\n",
      "  self.explained_variance_ratio_ = exp_var / full_var\n",
      "/home/mw957/project/conda_envs/r_env/lib/python3.7/site-packages/sklearn/decomposition/_truncated_svd.py:194: RuntimeWarning: invalid value encountered in true_divide\n",
      "  self.explained_variance_ratio_ = exp_var / full_var\n",
      "/home/mw957/project/conda_envs/r_env/lib/python3.7/site-packages/sklearn/decomposition/_truncated_svd.py:194: RuntimeWarning: divide by zero encountered in true_divide\n",
      "  self.explained_variance_ratio_ = exp_var / full_var\n",
      "/home/mw957/project/conda_envs/r_env/lib/python3.7/site-packages/sklearn/decomposition/_truncated_svd.py:194: RuntimeWarning: invalid value encountered in true_divide\n",
      "  self.explained_variance_ratio_ = exp_var / full_var\n",
      "/home/mw957/project/conda_envs/r_env/lib/python3.7/site-packages/sklearn/decomposition/_truncated_svd.py:194: RuntimeWarning: divide by zero encountered in true_divide\n",
      "  self.explained_variance_ratio_ = exp_var / full_var\n",
      "/home/mw957/project/conda_envs/r_env/lib/python3.7/site-packages/sklearn/decomposition/_truncated_svd.py:194: RuntimeWarning: invalid value encountered in true_divide\n",
      "  self.explained_variance_ratio_ = exp_var / full_var\n",
      "/home/mw957/project/conda_envs/r_env/lib/python3.7/site-packages/sklearn/decomposition/_truncated_svd.py:194: RuntimeWarning: divide by zero encountered in true_divide\n",
      "  self.explained_variance_ratio_ = exp_var / full_var\n",
      "/home/mw957/project/conda_envs/r_env/lib/python3.7/site-packages/sklearn/decomposition/_truncated_svd.py:194: RuntimeWarning: divide by zero encountered in true_divide\n",
      "  self.explained_variance_ratio_ = exp_var / full_var\n",
      "/home/mw957/project/conda_envs/r_env/lib/python3.7/site-packages/sklearn/decomposition/_truncated_svd.py:194: RuntimeWarning: divide by zero encountered in true_divide\n",
      "  self.explained_variance_ratio_ = exp_var / full_var\n",
      "/home/mw957/project/conda_envs/r_env/lib/python3.7/site-packages/sklearn/decomposition/_truncated_svd.py:194: RuntimeWarning: divide by zero encountered in true_divide\n",
      "  self.explained_variance_ratio_ = exp_var / full_var\n",
      "/home/mw957/project/conda_envs/r_env/lib/python3.7/site-packages/sklearn/decomposition/_truncated_svd.py:194: RuntimeWarning: divide by zero encountered in true_divide\n",
      "  self.explained_variance_ratio_ = exp_var / full_var\n",
      "/home/mw957/project/conda_envs/r_env/lib/python3.7/site-packages/sklearn/decomposition/_truncated_svd.py:194: RuntimeWarning: divide by zero encountered in true_divide\n",
      "  self.explained_variance_ratio_ = exp_var / full_var\n",
      "/home/mw957/project/conda_envs/r_env/lib/python3.7/site-packages/sklearn/decomposition/_truncated_svd.py:194: RuntimeWarning: divide by zero encountered in true_divide\n",
      "  self.explained_variance_ratio_ = exp_var / full_var\n",
      "/home/mw957/project/conda_envs/r_env/lib/python3.7/site-packages/sklearn/decomposition/_truncated_svd.py:194: RuntimeWarning: divide by zero encountered in true_divide\n",
      "  self.explained_variance_ratio_ = exp_var / full_var\n",
      "/home/mw957/project/conda_envs/r_env/lib/python3.7/site-packages/sklearn/decomposition/_truncated_svd.py:194: RuntimeWarning: divide by zero encountered in true_divide\n",
      "  self.explained_variance_ratio_ = exp_var / full_var\n",
      "/home/mw957/project/conda_envs/r_env/lib/python3.7/site-packages/sklearn/decomposition/_truncated_svd.py:194: RuntimeWarning: divide by zero encountered in true_divide\n",
      "  self.explained_variance_ratio_ = exp_var / full_var\n",
      "/home/mw957/project/conda_envs/r_env/lib/python3.7/site-packages/sklearn/decomposition/_truncated_svd.py:194: RuntimeWarning: divide by zero encountered in true_divide\n",
      "  self.explained_variance_ratio_ = exp_var / full_var\n",
      "/home/mw957/project/conda_envs/r_env/lib/python3.7/site-packages/sklearn/decomposition/_truncated_svd.py:194: RuntimeWarning: divide by zero encountered in true_divide\n",
      "  self.explained_variance_ratio_ = exp_var / full_var\n",
      "/home/mw957/project/conda_envs/r_env/lib/python3.7/site-packages/sklearn/decomposition/_truncated_svd.py:194: RuntimeWarning: divide by zero encountered in true_divide\n",
      "  self.explained_variance_ratio_ = exp_var / full_var\n",
      "/home/mw957/project/conda_envs/r_env/lib/python3.7/site-packages/sklearn/decomposition/_truncated_svd.py:194: RuntimeWarning: divide by zero encountered in true_divide\n",
      "  self.explained_variance_ratio_ = exp_var / full_var\n",
      "/home/mw957/project/conda_envs/r_env/lib/python3.7/site-packages/sklearn/decomposition/_truncated_svd.py:194: RuntimeWarning: divide by zero encountered in true_divide\n",
      "  self.explained_variance_ratio_ = exp_var / full_var\n",
      "/home/mw957/project/conda_envs/r_env/lib/python3.7/site-packages/sklearn/decomposition/_truncated_svd.py:194: RuntimeWarning: divide by zero encountered in true_divide\n",
      "  self.explained_variance_ratio_ = exp_var / full_var\n",
      "/home/mw957/project/conda_envs/r_env/lib/python3.7/site-packages/sklearn/decomposition/_truncated_svd.py:194: RuntimeWarning: divide by zero encountered in true_divide\n",
      "  self.explained_variance_ratio_ = exp_var / full_var\n",
      "/home/mw957/project/conda_envs/r_env/lib/python3.7/site-packages/sklearn/decomposition/_truncated_svd.py:194: RuntimeWarning: divide by zero encountered in true_divide\n",
      "  self.explained_variance_ratio_ = exp_var / full_var\n",
      "/home/mw957/project/conda_envs/r_env/lib/python3.7/site-packages/sklearn/decomposition/_truncated_svd.py:194: RuntimeWarning: divide by zero encountered in true_divide\n",
      "  self.explained_variance_ratio_ = exp_var / full_var\n",
      "/home/mw957/project/conda_envs/r_env/lib/python3.7/site-packages/sklearn/decomposition/_truncated_svd.py:194: RuntimeWarning: invalid value encountered in true_divide\n",
      "  self.explained_variance_ratio_ = exp_var / full_var\n",
      "/home/mw957/project/conda_envs/r_env/lib/python3.7/site-packages/sklearn/decomposition/_truncated_svd.py:194: RuntimeWarning: divide by zero encountered in true_divide\n",
      "  self.explained_variance_ratio_ = exp_var / full_var\n",
      "/home/mw957/project/conda_envs/r_env/lib/python3.7/site-packages/sklearn/decomposition/_truncated_svd.py:194: RuntimeWarning: invalid value encountered in true_divide\n",
      "  self.explained_variance_ratio_ = exp_var / full_var\n",
      "/home/mw957/project/conda_envs/r_env/lib/python3.7/site-packages/sklearn/decomposition/_truncated_svd.py:194: RuntimeWarning: divide by zero encountered in true_divide\n",
      "  self.explained_variance_ratio_ = exp_var / full_var\n",
      "/home/mw957/project/conda_envs/r_env/lib/python3.7/site-packages/sklearn/decomposition/_truncated_svd.py:194: RuntimeWarning: invalid value encountered in true_divide\n",
      "  self.explained_variance_ratio_ = exp_var / full_var\n",
      "/home/mw957/project/conda_envs/r_env/lib/python3.7/site-packages/sklearn/decomposition/_truncated_svd.py:194: RuntimeWarning: divide by zero encountered in true_divide\n",
      "  self.explained_variance_ratio_ = exp_var / full_var\n",
      "/home/mw957/project/conda_envs/r_env/lib/python3.7/site-packages/sklearn/decomposition/_truncated_svd.py:194: RuntimeWarning: divide by zero encountered in true_divide\n",
      "  self.explained_variance_ratio_ = exp_var / full_var\n",
      "/home/mw957/project/conda_envs/r_env/lib/python3.7/site-packages/sklearn/decomposition/_truncated_svd.py:194: RuntimeWarning: divide by zero encountered in true_divide\n",
      "  self.explained_variance_ratio_ = exp_var / full_var\n",
      "/home/mw957/project/conda_envs/r_env/lib/python3.7/site-packages/sklearn/decomposition/_truncated_svd.py:194: RuntimeWarning: divide by zero encountered in true_divide\n",
      "  self.explained_variance_ratio_ = exp_var / full_var\n",
      "/home/mw957/project/conda_envs/r_env/lib/python3.7/site-packages/sklearn/decomposition/_truncated_svd.py:194: RuntimeWarning: divide by zero encountered in true_divide\n",
      "  self.explained_variance_ratio_ = exp_var / full_var\n",
      "/home/mw957/project/conda_envs/r_env/lib/python3.7/site-packages/sklearn/decomposition/_truncated_svd.py:194: RuntimeWarning: divide by zero encountered in true_divide\n",
      "  self.explained_variance_ratio_ = exp_var / full_var\n",
      "/home/mw957/project/conda_envs/r_env/lib/python3.7/site-packages/sklearn/decomposition/_truncated_svd.py:194: RuntimeWarning: divide by zero encountered in true_divide\n",
      "  self.explained_variance_ratio_ = exp_var / full_var\n",
      "/home/mw957/project/conda_envs/r_env/lib/python3.7/site-packages/sklearn/decomposition/_truncated_svd.py:194: RuntimeWarning: divide by zero encountered in true_divide\n",
      "  self.explained_variance_ratio_ = exp_var / full_var\n",
      "/home/mw957/project/conda_envs/r_env/lib/python3.7/site-packages/sklearn/decomposition/_truncated_svd.py:194: RuntimeWarning: divide by zero encountered in true_divide\n",
      "  self.explained_variance_ratio_ = exp_var / full_var\n",
      "/home/mw957/project/conda_envs/r_env/lib/python3.7/site-packages/sklearn/decomposition/_truncated_svd.py:194: RuntimeWarning: divide by zero encountered in true_divide\n",
      "  self.explained_variance_ratio_ = exp_var / full_var\n",
      "/home/mw957/project/conda_envs/r_env/lib/python3.7/site-packages/sklearn/decomposition/_truncated_svd.py:194: RuntimeWarning: divide by zero encountered in true_divide\n",
      "  self.explained_variance_ratio_ = exp_var / full_var\n",
      "/home/mw957/project/conda_envs/r_env/lib/python3.7/site-packages/sklearn/decomposition/_truncated_svd.py:194: RuntimeWarning: divide by zero encountered in true_divide\n",
      "  self.explained_variance_ratio_ = exp_var / full_var\n",
      "/home/mw957/project/conda_envs/r_env/lib/python3.7/site-packages/sklearn/decomposition/_truncated_svd.py:194: RuntimeWarning: divide by zero encountered in true_divide\n",
      "  self.explained_variance_ratio_ = exp_var / full_var\n",
      "/home/mw957/project/conda_envs/r_env/lib/python3.7/site-packages/sklearn/decomposition/_truncated_svd.py:194: RuntimeWarning: divide by zero encountered in true_divide\n",
      "  self.explained_variance_ratio_ = exp_var / full_var\n",
      "/home/mw957/project/conda_envs/r_env/lib/python3.7/site-packages/sklearn/decomposition/_truncated_svd.py:194: RuntimeWarning: divide by zero encountered in true_divide\n",
      "  self.explained_variance_ratio_ = exp_var / full_var\n",
      "/home/mw957/project/conda_envs/r_env/lib/python3.7/site-packages/sklearn/decomposition/_truncated_svd.py:194: RuntimeWarning: divide by zero encountered in true_divide\n",
      "  self.explained_variance_ratio_ = exp_var / full_var\n",
      "/home/mw957/project/conda_envs/r_env/lib/python3.7/site-packages/sklearn/decomposition/_truncated_svd.py:194: RuntimeWarning: divide by zero encountered in true_divide\n",
      "  self.explained_variance_ratio_ = exp_var / full_var\n",
      "/home/mw957/project/conda_envs/r_env/lib/python3.7/site-packages/sklearn/decomposition/_truncated_svd.py:194: RuntimeWarning: divide by zero encountered in true_divide\n",
      "  self.explained_variance_ratio_ = exp_var / full_var\n",
      "/home/mw957/project/conda_envs/r_env/lib/python3.7/site-packages/sklearn/decomposition/_truncated_svd.py:194: RuntimeWarning: divide by zero encountered in true_divide\n",
      "  self.explained_variance_ratio_ = exp_var / full_var\n",
      "/home/mw957/project/conda_envs/r_env/lib/python3.7/site-packages/sklearn/decomposition/_truncated_svd.py:194: RuntimeWarning: invalid value encountered in true_divide\n",
      "  self.explained_variance_ratio_ = exp_var / full_var\n",
      "/home/mw957/project/conda_envs/r_env/lib/python3.7/site-packages/sklearn/decomposition/_truncated_svd.py:194: RuntimeWarning: divide by zero encountered in true_divide\n",
      "  self.explained_variance_ratio_ = exp_var / full_var\n",
      "/home/mw957/project/conda_envs/r_env/lib/python3.7/site-packages/sklearn/decomposition/_truncated_svd.py:194: RuntimeWarning: invalid value encountered in true_divide\n",
      "  self.explained_variance_ratio_ = exp_var / full_var\n",
      "/home/mw957/project/conda_envs/r_env/lib/python3.7/site-packages/sklearn/decomposition/_truncated_svd.py:194: RuntimeWarning: divide by zero encountered in true_divide\n",
      "  self.explained_variance_ratio_ = exp_var / full_var\n",
      "/home/mw957/project/conda_envs/r_env/lib/python3.7/site-packages/sklearn/decomposition/_truncated_svd.py:194: RuntimeWarning: invalid value encountered in true_divide\n",
      "  self.explained_variance_ratio_ = exp_var / full_var\n",
      "/home/mw957/project/conda_envs/r_env/lib/python3.7/site-packages/sklearn/decomposition/_truncated_svd.py:194: RuntimeWarning: divide by zero encountered in true_divide\n",
      "  self.explained_variance_ratio_ = exp_var / full_var\n",
      "/home/mw957/project/conda_envs/r_env/lib/python3.7/site-packages/sklearn/decomposition/_truncated_svd.py:194: RuntimeWarning: divide by zero encountered in true_divide\n",
      "  self.explained_variance_ratio_ = exp_var / full_var\n",
      "/home/mw957/project/conda_envs/r_env/lib/python3.7/site-packages/sklearn/decomposition/_truncated_svd.py:194: RuntimeWarning: divide by zero encountered in true_divide\n",
      "  self.explained_variance_ratio_ = exp_var / full_var\n",
      "/home/mw957/project/conda_envs/r_env/lib/python3.7/site-packages/sklearn/decomposition/_truncated_svd.py:194: RuntimeWarning: divide by zero encountered in true_divide\n",
      "  self.explained_variance_ratio_ = exp_var / full_var\n",
      "/home/mw957/project/conda_envs/r_env/lib/python3.7/site-packages/sklearn/decomposition/_truncated_svd.py:194: RuntimeWarning: divide by zero encountered in true_divide\n",
      "  self.explained_variance_ratio_ = exp_var / full_var\n",
      "/home/mw957/project/conda_envs/r_env/lib/python3.7/site-packages/sklearn/decomposition/_truncated_svd.py:194: RuntimeWarning: divide by zero encountered in true_divide\n",
      "  self.explained_variance_ratio_ = exp_var / full_var\n",
      "/home/mw957/project/conda_envs/r_env/lib/python3.7/site-packages/sklearn/decomposition/_truncated_svd.py:194: RuntimeWarning: divide by zero encountered in true_divide\n",
      "  self.explained_variance_ratio_ = exp_var / full_var\n",
      "/home/mw957/project/conda_envs/r_env/lib/python3.7/site-packages/sklearn/decomposition/_truncated_svd.py:194: RuntimeWarning: divide by zero encountered in true_divide\n",
      "  self.explained_variance_ratio_ = exp_var / full_var\n",
      "/home/mw957/project/conda_envs/r_env/lib/python3.7/site-packages/sklearn/decomposition/_truncated_svd.py:194: RuntimeWarning: divide by zero encountered in true_divide\n",
      "  self.explained_variance_ratio_ = exp_var / full_var\n"
     ]
    },
    {
     "name": "stdout",
     "output_type": "stream",
     "text": [
      "--- 275.51211047172546 seconds ---\n"
     ]
    }
   ],
   "source": [
    "# 2. Spectral deep with NJ as the sub method with a threshold of 128\n",
    "spectral_method = reconstruct_tree.SpectralTreeReconstruction(reconstruct_tree.NeighborJoining,\n",
    "                                                              HKY_similarity_matrix_ATCG)\n",
    "import time\n",
    "start_time = time.time()\n",
    "tree_rec = spectral_method.deep_spectral_tree_reonstruction(np.array(ch_list), HKY_similarity_matrix_ATCG, \n",
    "                                                            taxon_namespace = H3N2_tree.taxon_namespace, \n",
    "                                                            threshhold = 128)\n",
    "print(\"--- %s seconds ---\" % (time.time() - start_time))"
   ]
  },
  {
   "cell_type": "code",
   "execution_count": 74,
   "metadata": {},
   "outputs": [
    {
     "name": "stdout",
     "output_type": "stream",
     "text": [
      "Spectral deep (128): \n",
      "RF =  1116\n",
      "F1% =  50.53191489361703\n",
      "\n"
     ]
    }
   ],
   "source": [
    "RF,F1 = reconstruct_tree.compare_trees(tree_rec, H3N2_tree)\n",
    "print(\"Spectral deep (128): \")\n",
    "print(\"RF = \", RF)\n",
    "print(\"F1% = \", F1)\n",
    "print(\"\")"
   ]
  },
  {
   "cell_type": "code",
   "execution_count": 69,
   "metadata": {},
   "outputs": [
    {
     "ename": "TypeError",
     "evalue": "list indices must be integers or slices, not numpy.str_",
     "output_type": "error",
     "traceback": [
      "\u001b[0;31m---------------------------------------------------------------------------\u001b[0m",
      "\u001b[0;31mTypeError\u001b[0m                                 Traceback (most recent call last)",
      "\u001b[0;32m<ipython-input-69-04b145f0b51e>\u001b[0m in \u001b[0;36m<module>\u001b[0;34m\u001b[0m\n\u001b[1;32m      3\u001b[0m \u001b[0;32mimport\u001b[0m \u001b[0mtime\u001b[0m\u001b[0;34m\u001b[0m\u001b[0;34m\u001b[0m\u001b[0m\n\u001b[1;32m      4\u001b[0m \u001b[0mstart_time\u001b[0m \u001b[0;34m=\u001b[0m \u001b[0mtime\u001b[0m\u001b[0;34m.\u001b[0m\u001b[0mtime\u001b[0m\u001b[0;34m(\u001b[0m\u001b[0;34m)\u001b[0m\u001b[0;34m\u001b[0m\u001b[0;34m\u001b[0m\u001b[0m\n\u001b[0;32m----> 5\u001b[0;31m \u001b[0mraxml_HKY_tree\u001b[0m \u001b[0;34m=\u001b[0m \u001b[0mraxml_HKY\u001b[0m\u001b[0;34m(\u001b[0m\u001b[0mnp\u001b[0m\u001b[0;34m.\u001b[0m\u001b[0marray\u001b[0m\u001b[0;34m(\u001b[0m\u001b[0mch_list\u001b[0m\u001b[0;34m)\u001b[0m\u001b[0;34m,\u001b[0m \u001b[0mraxml_args\u001b[0m\u001b[0;34m=\u001b[0m\u001b[0;34m\"-T 2 --HKY85 -c 1\"\u001b[0m\u001b[0;34m)\u001b[0m\u001b[0;34m\u001b[0m\u001b[0;34m\u001b[0m\u001b[0m\n\u001b[0m\u001b[1;32m      6\u001b[0m \u001b[0mprint\u001b[0m\u001b[0;34m(\u001b[0m\u001b[0;34m\"--- %s seconds ---\"\u001b[0m \u001b[0;34m%\u001b[0m \u001b[0;34m(\u001b[0m\u001b[0mtime\u001b[0m\u001b[0;34m.\u001b[0m\u001b[0mtime\u001b[0m\u001b[0;34m(\u001b[0m\u001b[0;34m)\u001b[0m \u001b[0;34m-\u001b[0m \u001b[0mstart_time\u001b[0m\u001b[0;34m)\u001b[0m\u001b[0;34m)\u001b[0m\u001b[0;34m\u001b[0m\u001b[0;34m\u001b[0m\u001b[0m\n\u001b[1;32m      7\u001b[0m \u001b[0;34m\u001b[0m\u001b[0m\n",
      "\u001b[0;32m/gpfs/ysm/project/kleinstein/mw957/repos/spec_tree/../spectral-tree-inference/spectraltree/reconstruct_tree.py\u001b[0m in \u001b[0;36m__call__\u001b[0;34m(self, sequences, taxon_namespace, raxml_args)\u001b[0m\n\u001b[1;32m    625\u001b[0m     \u001b[0;32mdef\u001b[0m \u001b[0m__call__\u001b[0m\u001b[0;34m(\u001b[0m\u001b[0mself\u001b[0m\u001b[0;34m,\u001b[0m \u001b[0msequences\u001b[0m\u001b[0;34m,\u001b[0m \u001b[0mtaxon_namespace\u001b[0m\u001b[0;34m=\u001b[0m\u001b[0;32mNone\u001b[0m\u001b[0;34m,\u001b[0m \u001b[0mraxml_args\u001b[0m \u001b[0;34m=\u001b[0m \u001b[0;34m\"-T 2 --JC69 -c 1\"\u001b[0m\u001b[0;34m)\u001b[0m\u001b[0;34m:\u001b[0m\u001b[0;34m\u001b[0m\u001b[0;34m\u001b[0m\u001b[0m\n\u001b[1;32m    626\u001b[0m         \u001b[0;32mif\u001b[0m \u001b[0;32mnot\u001b[0m \u001b[0misinstance\u001b[0m\u001b[0;34m(\u001b[0m\u001b[0msequences\u001b[0m\u001b[0;34m,\u001b[0m \u001b[0mdendropy\u001b[0m\u001b[0;34m.\u001b[0m\u001b[0mDnaCharacterMatrix\u001b[0m\u001b[0;34m)\u001b[0m\u001b[0;34m:\u001b[0m\u001b[0;34m\u001b[0m\u001b[0;34m\u001b[0m\u001b[0m\n\u001b[0;32m--> 627\u001b[0;31m             \u001b[0mdata\u001b[0m \u001b[0;34m=\u001b[0m \u001b[0mFastCharacterMatrix\u001b[0m\u001b[0;34m(\u001b[0m\u001b[0msequences\u001b[0m\u001b[0;34m,\u001b[0m \u001b[0mtaxon_namespace\u001b[0m\u001b[0;34m=\u001b[0m\u001b[0mtaxon_namespace\u001b[0m\u001b[0;34m)\u001b[0m\u001b[0;34m.\u001b[0m\u001b[0mto_dendropy\u001b[0m\u001b[0;34m(\u001b[0m\u001b[0;34m)\u001b[0m\u001b[0;34m\u001b[0m\u001b[0;34m\u001b[0m\u001b[0m\n\u001b[0m\u001b[1;32m    628\u001b[0m         \u001b[0;32melse\u001b[0m\u001b[0;34m:\u001b[0m\u001b[0;34m\u001b[0m\u001b[0;34m\u001b[0m\u001b[0m\n\u001b[1;32m    629\u001b[0m             \u001b[0mdata\u001b[0m \u001b[0;34m=\u001b[0m \u001b[0msequences\u001b[0m\u001b[0;34m\u001b[0m\u001b[0;34m\u001b[0m\u001b[0m\n",
      "\u001b[0;32m/gpfs/ysm/project/kleinstein/mw957/repos/spec_tree/../spectral-tree-inference/spectraltree/character_matrix.py\u001b[0m in \u001b[0;36mto_dendropy\u001b[0;34m(self, alphabet)\u001b[0m\n\u001b[1;32m     80\u001b[0m         \u001b[0mchar_matrix\u001b[0m\u001b[0;34m.\u001b[0m\u001b[0mtaxon_namespace\u001b[0m \u001b[0;34m=\u001b[0m \u001b[0mself\u001b[0m\u001b[0;34m.\u001b[0m\u001b[0mtaxon_namespace\u001b[0m\u001b[0;34m\u001b[0m\u001b[0;34m\u001b[0m\u001b[0m\n\u001b[1;32m     81\u001b[0m         \u001b[0;32mfor\u001b[0m \u001b[0mtaxon\u001b[0m\u001b[0;34m,\u001b[0m \u001b[0msequence\u001b[0m \u001b[0;32min\u001b[0m \u001b[0mself\u001b[0m\u001b[0;34m.\u001b[0m\u001b[0mitems\u001b[0m\u001b[0;34m(\u001b[0m\u001b[0;34m)\u001b[0m\u001b[0;34m:\u001b[0m\u001b[0;34m\u001b[0m\u001b[0;34m\u001b[0m\u001b[0m\n\u001b[0;32m---> 82\u001b[0;31m             \u001b[0mchar_matrix\u001b[0m\u001b[0;34m.\u001b[0m\u001b[0mnew_sequence\u001b[0m\u001b[0;34m(\u001b[0m\u001b[0mtaxon\u001b[0m\u001b[0;34m,\u001b[0m \u001b[0;34m[\u001b[0m\u001b[0malphabet\u001b[0m\u001b[0;34m[\u001b[0m\u001b[0mv\u001b[0m\u001b[0;34m]\u001b[0m \u001b[0;32mfor\u001b[0m \u001b[0mv\u001b[0m \u001b[0;32min\u001b[0m \u001b[0msequence\u001b[0m\u001b[0;34m]\u001b[0m \u001b[0;32mif\u001b[0m \u001b[0malphabet\u001b[0m \u001b[0;32melse\u001b[0m \u001b[0;34m[\u001b[0m\u001b[0mstr\u001b[0m\u001b[0;34m(\u001b[0m\u001b[0mx\u001b[0m\u001b[0;34m)\u001b[0m \u001b[0;32mfor\u001b[0m \u001b[0mx\u001b[0m \u001b[0;32min\u001b[0m \u001b[0msequence\u001b[0m\u001b[0;34m]\u001b[0m\u001b[0;34m)\u001b[0m\u001b[0;34m\u001b[0m\u001b[0;34m\u001b[0m\u001b[0m\n\u001b[0m\u001b[1;32m     83\u001b[0m \u001b[0;34m\u001b[0m\u001b[0m\n\u001b[1;32m     84\u001b[0m         \u001b[0;32mreturn\u001b[0m \u001b[0mchar_matrix\u001b[0m\u001b[0;34m\u001b[0m\u001b[0;34m\u001b[0m\u001b[0m\n",
      "\u001b[0;32m/gpfs/ysm/project/kleinstein/mw957/repos/spec_tree/../spectral-tree-inference/spectraltree/character_matrix.py\u001b[0m in \u001b[0;36m<listcomp>\u001b[0;34m(.0)\u001b[0m\n\u001b[1;32m     80\u001b[0m         \u001b[0mchar_matrix\u001b[0m\u001b[0;34m.\u001b[0m\u001b[0mtaxon_namespace\u001b[0m \u001b[0;34m=\u001b[0m \u001b[0mself\u001b[0m\u001b[0;34m.\u001b[0m\u001b[0mtaxon_namespace\u001b[0m\u001b[0;34m\u001b[0m\u001b[0;34m\u001b[0m\u001b[0m\n\u001b[1;32m     81\u001b[0m         \u001b[0;32mfor\u001b[0m \u001b[0mtaxon\u001b[0m\u001b[0;34m,\u001b[0m \u001b[0msequence\u001b[0m \u001b[0;32min\u001b[0m \u001b[0mself\u001b[0m\u001b[0;34m.\u001b[0m\u001b[0mitems\u001b[0m\u001b[0;34m(\u001b[0m\u001b[0;34m)\u001b[0m\u001b[0;34m:\u001b[0m\u001b[0;34m\u001b[0m\u001b[0;34m\u001b[0m\u001b[0m\n\u001b[0;32m---> 82\u001b[0;31m             \u001b[0mchar_matrix\u001b[0m\u001b[0;34m.\u001b[0m\u001b[0mnew_sequence\u001b[0m\u001b[0;34m(\u001b[0m\u001b[0mtaxon\u001b[0m\u001b[0;34m,\u001b[0m \u001b[0;34m[\u001b[0m\u001b[0malphabet\u001b[0m\u001b[0;34m[\u001b[0m\u001b[0mv\u001b[0m\u001b[0;34m]\u001b[0m \u001b[0;32mfor\u001b[0m \u001b[0mv\u001b[0m \u001b[0;32min\u001b[0m \u001b[0msequence\u001b[0m\u001b[0;34m]\u001b[0m \u001b[0;32mif\u001b[0m \u001b[0malphabet\u001b[0m \u001b[0;32melse\u001b[0m \u001b[0;34m[\u001b[0m\u001b[0mstr\u001b[0m\u001b[0;34m(\u001b[0m\u001b[0mx\u001b[0m\u001b[0;34m)\u001b[0m \u001b[0;32mfor\u001b[0m \u001b[0mx\u001b[0m \u001b[0;32min\u001b[0m \u001b[0msequence\u001b[0m\u001b[0;34m]\u001b[0m\u001b[0;34m)\u001b[0m\u001b[0;34m\u001b[0m\u001b[0;34m\u001b[0m\u001b[0m\n\u001b[0m\u001b[1;32m     83\u001b[0m \u001b[0;34m\u001b[0m\u001b[0m\n\u001b[1;32m     84\u001b[0m         \u001b[0;32mreturn\u001b[0m \u001b[0mchar_matrix\u001b[0m\u001b[0;34m\u001b[0m\u001b[0;34m\u001b[0m\u001b[0m\n",
      "\u001b[0;31mTypeError\u001b[0m: list indices must be integers or slices, not numpy.str_"
     ]
    }
   ],
   "source": [
    "# 3. RaXML\n",
    "raxml_HKY = reconstruct_tree.RAxML()\n",
    "import time\n",
    "start_time = time.time()\n",
    "raxml_HKY_tree = raxml_HKY(np.array(ch_list), raxml_args=\"-T 2 --HKY85 -c 1\")\n",
    "print(\"--- %s seconds ---\" % (time.time() - start_time))\n",
    "\n",
    "RF,F1 = reconstruct_tree.compare_trees(raxml_HKY_tree, H3N2_tree)\n",
    "print(\"\")\n",
    "print(\"RaXML: \")\n",
    "print(\"RF = \",RF)\n",
    "print(\"F1% = \",F1)\n",
    "print(\"\")"
   ]
  },
  {
   "cell_type": "code",
   "execution_count": null,
   "metadata": {},
   "outputs": [],
   "source": []
  }
 ],
 "metadata": {
  "kernelspec": {
   "display_name": "Python 3",
   "language": "python",
   "name": "python3"
  },
  "language_info": {
   "codemirror_mode": {
    "name": "ipython",
    "version": 3
   },
   "file_extension": ".py",
   "mimetype": "text/x-python",
   "name": "python",
   "nbconvert_exporter": "python",
   "pygments_lexer": "ipython3",
   "version": "3.7.6"
  }
 },
 "nbformat": 4,
 "nbformat_minor": 4
}
