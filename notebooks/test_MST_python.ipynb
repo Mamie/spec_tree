{
 "cells": [
  {
   "cell_type": "code",
   "execution_count": 1,
   "metadata": {},
   "outputs": [],
   "source": [
    "import numpy as np\n",
    "import pandas as pd\n",
    "import matplotlib.pyplot as plt\n",
    "import scipy.stats\n",
    "from scipy.sparse import csr_matrix\n",
    "from scipy.sparse.csgraph import minimum_spanning_tree\n",
    "import scprep"
   ]
  },
  {
   "cell_type": "code",
   "execution_count": 19,
   "metadata": {},
   "outputs": [],
   "source": [
    "data = pd.read_csv(\"~/scratch60/single_trajectory.csv\")\n",
    "sling_pseudotime =  pd.read_csv(\"~/scratch60/single_trajectory_sling_pseudotime.csv\").values.flatten()\n",
    "actual_time = range(300)"
   ]
  },
  {
   "cell_type": "code",
   "execution_count": 3,
   "metadata": {},
   "outputs": [
    {
     "data": {
      "text/html": [
       "<div>\n",
       "<style scoped>\n",
       "    .dataframe tbody tr th:only-of-type {\n",
       "        vertical-align: middle;\n",
       "    }\n",
       "\n",
       "    .dataframe tbody tr th {\n",
       "        vertical-align: top;\n",
       "    }\n",
       "\n",
       "    .dataframe thead th {\n",
       "        text-align: right;\n",
       "    }\n",
       "</style>\n",
       "<table border=\"1\" class=\"dataframe\">\n",
       "  <thead>\n",
       "    <tr style=\"text-align: right;\">\n",
       "      <th></th>\n",
       "      <th>c1</th>\n",
       "      <th>c2</th>\n",
       "      <th>c3</th>\n",
       "      <th>c4</th>\n",
       "      <th>c5</th>\n",
       "      <th>c6</th>\n",
       "      <th>c7</th>\n",
       "      <th>c8</th>\n",
       "      <th>c9</th>\n",
       "      <th>c10</th>\n",
       "      <th>...</th>\n",
       "      <th>c291</th>\n",
       "      <th>c292</th>\n",
       "      <th>c293</th>\n",
       "      <th>c294</th>\n",
       "      <th>c295</th>\n",
       "      <th>c296</th>\n",
       "      <th>c297</th>\n",
       "      <th>c298</th>\n",
       "      <th>c299</th>\n",
       "      <th>c300</th>\n",
       "    </tr>\n",
       "  </thead>\n",
       "  <tbody>\n",
       "    <tr>\n",
       "      <th>0</th>\n",
       "      <td>0.0</td>\n",
       "      <td>1.0</td>\n",
       "      <td>0.0</td>\n",
       "      <td>1.0</td>\n",
       "      <td>0.0</td>\n",
       "      <td>2.5</td>\n",
       "      <td>0.0</td>\n",
       "      <td>1.0</td>\n",
       "      <td>0.0</td>\n",
       "      <td>2</td>\n",
       "      <td>...</td>\n",
       "      <td>0.0</td>\n",
       "      <td>0.0</td>\n",
       "      <td>0</td>\n",
       "      <td>2.0</td>\n",
       "      <td>0.0</td>\n",
       "      <td>2</td>\n",
       "      <td>0.0</td>\n",
       "      <td>0.0</td>\n",
       "      <td>0</td>\n",
       "      <td>0.0</td>\n",
       "    </tr>\n",
       "    <tr>\n",
       "      <th>1</th>\n",
       "      <td>1.0</td>\n",
       "      <td>4.0</td>\n",
       "      <td>1.0</td>\n",
       "      <td>3.0</td>\n",
       "      <td>4.0</td>\n",
       "      <td>2.5</td>\n",
       "      <td>5.0</td>\n",
       "      <td>1.0</td>\n",
       "      <td>3.0</td>\n",
       "      <td>3</td>\n",
       "      <td>...</td>\n",
       "      <td>4.0</td>\n",
       "      <td>4.0</td>\n",
       "      <td>5</td>\n",
       "      <td>1.0</td>\n",
       "      <td>4.0</td>\n",
       "      <td>0</td>\n",
       "      <td>3.0</td>\n",
       "      <td>3.0</td>\n",
       "      <td>1</td>\n",
       "      <td>2.0</td>\n",
       "    </tr>\n",
       "    <tr>\n",
       "      <th>2</th>\n",
       "      <td>5.0</td>\n",
       "      <td>6.0</td>\n",
       "      <td>14.0</td>\n",
       "      <td>7.0</td>\n",
       "      <td>11.0</td>\n",
       "      <td>9.0</td>\n",
       "      <td>7.0</td>\n",
       "      <td>8.0</td>\n",
       "      <td>3.0</td>\n",
       "      <td>10</td>\n",
       "      <td>...</td>\n",
       "      <td>5.0</td>\n",
       "      <td>8.0</td>\n",
       "      <td>9</td>\n",
       "      <td>6.0</td>\n",
       "      <td>11.0</td>\n",
       "      <td>10</td>\n",
       "      <td>4.0</td>\n",
       "      <td>6.0</td>\n",
       "      <td>9</td>\n",
       "      <td>9.0</td>\n",
       "    </tr>\n",
       "    <tr>\n",
       "      <th>3</th>\n",
       "      <td>12.5</td>\n",
       "      <td>11.0</td>\n",
       "      <td>16.0</td>\n",
       "      <td>13.0</td>\n",
       "      <td>10.0</td>\n",
       "      <td>10.0</td>\n",
       "      <td>18.0</td>\n",
       "      <td>16.0</td>\n",
       "      <td>15.0</td>\n",
       "      <td>18</td>\n",
       "      <td>...</td>\n",
       "      <td>6.0</td>\n",
       "      <td>12.0</td>\n",
       "      <td>14</td>\n",
       "      <td>14.0</td>\n",
       "      <td>17.0</td>\n",
       "      <td>9</td>\n",
       "      <td>14.5</td>\n",
       "      <td>8.0</td>\n",
       "      <td>25</td>\n",
       "      <td>16.0</td>\n",
       "    </tr>\n",
       "    <tr>\n",
       "      <th>4</th>\n",
       "      <td>20.0</td>\n",
       "      <td>17.0</td>\n",
       "      <td>12.0</td>\n",
       "      <td>14.0</td>\n",
       "      <td>16.0</td>\n",
       "      <td>15.0</td>\n",
       "      <td>18.0</td>\n",
       "      <td>12.5</td>\n",
       "      <td>23.0</td>\n",
       "      <td>15</td>\n",
       "      <td>...</td>\n",
       "      <td>19.0</td>\n",
       "      <td>14.5</td>\n",
       "      <td>19</td>\n",
       "      <td>19.5</td>\n",
       "      <td>25.5</td>\n",
       "      <td>15</td>\n",
       "      <td>19.0</td>\n",
       "      <td>21.0</td>\n",
       "      <td>23</td>\n",
       "      <td>18.0</td>\n",
       "    </tr>\n",
       "  </tbody>\n",
       "</table>\n",
       "<p>5 rows × 300 columns</p>\n",
       "</div>"
      ],
      "text/plain": [
       "     c1    c2    c3    c4    c5    c6    c7    c8    c9  c10  ...  c291  c292  \\\n",
       "0   0.0   1.0   0.0   1.0   0.0   2.5   0.0   1.0   0.0    2  ...   0.0   0.0   \n",
       "1   1.0   4.0   1.0   3.0   4.0   2.5   5.0   1.0   3.0    3  ...   4.0   4.0   \n",
       "2   5.0   6.0  14.0   7.0  11.0   9.0   7.0   8.0   3.0   10  ...   5.0   8.0   \n",
       "3  12.5  11.0  16.0  13.0  10.0  10.0  18.0  16.0  15.0   18  ...   6.0  12.0   \n",
       "4  20.0  17.0  12.0  14.0  16.0  15.0  18.0  12.5  23.0   15  ...  19.0  14.5   \n",
       "\n",
       "   c293  c294  c295  c296  c297  c298  c299  c300  \n",
       "0     0   2.0   0.0     2   0.0   0.0     0   0.0  \n",
       "1     5   1.0   4.0     0   3.0   3.0     1   2.0  \n",
       "2     9   6.0  11.0    10   4.0   6.0     9   9.0  \n",
       "3    14  14.0  17.0     9  14.5   8.0    25  16.0  \n",
       "4    19  19.5  25.5    15  19.0  21.0    23  18.0  \n",
       "\n",
       "[5 rows x 300 columns]"
      ]
     },
     "execution_count": 3,
     "metadata": {},
     "output_type": "execute_result"
    }
   ],
   "source": [
    "data.head()"
   ]
  },
  {
   "cell_type": "code",
   "execution_count": 7,
   "metadata": {},
   "outputs": [],
   "source": [
    "# pairwise distance\n",
    "def compute_distances(X):\n",
    "    '''\n",
    "    Constructs a distance matrix from data set, assumes Euclidean distance\n",
    "\n",
    "    Inputs:\n",
    "        X       a numpy array of size n x p holding the data set (n observations, p features)\n",
    "\n",
    "    Outputs:\n",
    "        D       a numpy array of size n x n containing the euclidean distances between points\n",
    "\n",
    "    '''\n",
    "    \n",
    "    # return distance matrix\n",
    "    D = np.linalg.norm(X[:,:, np.newaxis] - X[:,:, np.newaxis].T, axis = 1)\n",
    "    \n",
    "    return D\n",
    "\n",
    "\n",
    "def compute_affinity_matrix(D, kernel_type, sigma=None, k=None):\n",
    "    '''\n",
    "    Construct an affinity matrix from a distance matrix via gaussian kernel.\n",
    "\n",
    "    Inputs:\n",
    "        D               a numpy array of size n x n containing the distances between points\n",
    "        kernel_type     a string, either \"gaussian\" or \"adaptive\".\n",
    "                            If kernel_type = \"gaussian\", then sigma must be a positive number\n",
    "                            If kernel_type = \"adaptive\", then k must be a positive integer\n",
    "        sigma           the non-adaptive gaussian kernel parameter\n",
    "        k               the adaptive kernel parameter\n",
    "\n",
    "    Outputs:\n",
    "        W       a numpy array of size n x n that is the affinity matrix\n",
    "\n",
    "    '''\n",
    "\n",
    "    # return the affinity matrix\n",
    "    if kernel_type == \"gaussian\":\n",
    "        if sigma is None:\n",
    "            raise ValueError('sigma must be provided for gaussian kernel.')\n",
    "        elif ((type(sigma) is not int) and (type(sigma) is not float)) or sigma <= 0:\n",
    "            raise ValueError('sigma must be a positive number.')\n",
    "            \n",
    "        W = np.exp(- D ** 2 / (2 * sigma ** 2)) \n",
    "        \n",
    "    elif kernel_type == \"adaptive\":\n",
    "        if k is None:\n",
    "            raise ValueError('k must be provided for adaptive gaussian kernel.')\n",
    "        elif (type(k) is not int) or k <= 0:\n",
    "            raise ValueError('k must be a positive integer.')\n",
    "        # compute sigma \n",
    "        D_copy = D.copy()\n",
    "        D_copy = D + np.diag(np.repeat(float(\"inf\"), D.shape[0]))\n",
    "        nn = D_copy.argsort(axis = 1)\n",
    "\n",
    "        kth_idx = nn[:,k-1]\n",
    "        kth_dist = D[range(D.shape[0]), kth_idx]\n",
    "        s_i = np.tile(kth_dist[:,np.newaxis], (1, D.shape[0]))\n",
    "        W = 1 / 2 * (np.exp(- D ** 2 / (s_i**2)) + np.exp(- D ** 2 / (s_i.transpose()**2)))\n",
    "\n",
    "    else:\n",
    "        raise ValueError('kernel_type must be either \"gaussian\" or \"adaptive\".')\n",
    "        \n",
    "    return W"
   ]
  },
  {
   "cell_type": "code",
   "execution_count": 8,
   "metadata": {},
   "outputs": [],
   "source": [
    "euc_dist = compute_distances(data.values.T)\n",
    "affinity = compute_affinity_matrix(euc_dist, kernel_type = \"adaptive\", k = 15)\n",
    "W = affinity - np.eye(300)\n",
    "\n",
    "row_sum = np.sum(W, axis = 1)\n",
    "D_inv = np.diag(1/row_sum)\n",
    "Ms = D_inv @ W\n",
    "\n",
    "# eigendecomposition of Ms\n",
    "lmbda, v = np.linalg.eig(Ms)"
   ]
  },
  {
   "cell_type": "code",
   "execution_count": 12,
   "metadata": {},
   "outputs": [
    {
     "data": {
      "text/plain": [
       "<matplotlib.legend.Legend at 0x2b3c21c4b850>"
      ]
     },
     "execution_count": 12,
     "metadata": {},
     "output_type": "execute_result"
    },
    {
     "data": {
      "image/png": "[encoded data removed]",
      "text/plain": [
       "<Figure size 432x288 with 1 Axes>"
      ]
     },
     "metadata": {
      "needs_background": "light"
     },
     "output_type": "display_data"
    }
   ],
   "source": [
    "plt.plot(v[:,0], label = \"1\")\n",
    "plt.plot(v[:,1], label = \"2\")\n",
    "plt.plot(v[:,2], label = \"3\")\n",
    "plt.legend()"
   ]
  },
  {
   "cell_type": "code",
   "execution_count": 14,
   "metadata": {},
   "outputs": [
    {
     "data": {
      "text/plain": [
       "(-0.9936572761082583, 7.148787453085536e-285)"
      ]
     },
     "execution_count": 14,
     "metadata": {},
     "output_type": "execute_result"
    }
   ],
   "source": [
    "scipy.stats.pearsonr(actual_time, v[:,1])"
   ]
  },
  {
   "cell_type": "code",
   "execution_count": 22,
   "metadata": {},
   "outputs": [
    {
     "data": {
      "text/plain": [
       "<matplotlib.legend.Legend at 0x2b3c25517310>"
      ]
     },
     "execution_count": 22,
     "metadata": {},
     "output_type": "execute_result"
    },
    {
     "data": {
      "image/png": "[encoded data removed]",
      "text/plain": [
       "<Figure size 432x288 with 1 Axes>"
      ]
     },
     "metadata": {
      "needs_background": "light"
     },
     "output_type": "display_data"
    }
   ],
   "source": [
    "plt.plot(sling_pseudotime, label = \"slingshot\")\n",
    "plt.legend()"
   ]
  },
  {
   "cell_type": "code",
   "execution_count": 21,
   "metadata": {},
   "outputs": [
    {
     "data": {
      "text/plain": [
       "(0.9972601055539106, 0.0)"
      ]
     },
     "execution_count": 21,
     "metadata": {},
     "output_type": "execute_result"
    }
   ],
   "source": [
    "scipy.stats.pearsonr(actual_time, sling_pseudotime)"
   ]
  },
  {
   "cell_type": "markdown",
   "metadata": {},
   "source": [
    "slingshot pseudotime has better correlation with the actual time"
   ]
  },
  {
   "cell_type": "markdown",
   "metadata": {},
   "source": [
    "## MST "
   ]
  },
  {
   "cell_type": "code",
   "execution_count": 27,
   "metadata": {},
   "outputs": [],
   "source": [
    "X = csr_matrix(euc_dist)\n",
    "Tcsr = minimum_spanning_tree(X)\n",
    "\n",
    "tcsr_arr = Tcsr.toarray() + Tcsr.toarray().T\n",
    "tcsr_bool = tcsr_arr > 0\n",
    "\n",
    "row_sum = np.sum(tcsr_arr, axis = 1)\n",
    "D_inv = np.diag(1/row_sum)\n",
    "Tcsr_norm = D_inv @ tcsr_arr\n",
    "\n",
    "lmbda, v = np.linalg.eig(Tcsr_norm)\n",
    "sorted_idx = np.argsort(lmbda)[::-1]"
   ]
  },
  {
   "cell_type": "code",
   "execution_count": 29,
   "metadata": {},
   "outputs": [
    {
     "name": "stderr",
     "output_type": "stream",
     "text": [
      "/home/mw957/project/conda_envs/r_env/lib/python3.7/site-packages/numpy/core/_asarray.py:85: ComplexWarning: Casting complex values to real discards the imaginary part\n",
      "  return array(a, dtype, copy=False, order=order)\n"
     ]
    },
    {
     "data": {
      "text/plain": [
       "<matplotlib.legend.Legend at 0x2b3c25690e10>"
      ]
     },
     "execution_count": 29,
     "metadata": {},
     "output_type": "execute_result"
    },
    {
     "data": {
      "image/png": "[encoded data removed]",
      "text/plain": [
       "<Figure size 432x288 with 1 Axes>"
      ]
     },
     "metadata": {
      "needs_background": "light"
     },
     "output_type": "display_data"
    }
   ],
   "source": [
    "plt.plot(v[:,sorted_idx[0]], label = \"1\")\n",
    "plt.plot(v[:,sorted_idx[1]], label = \"2\")\n",
    "plt.legend()"
   ]
  },
  {
   "cell_type": "code",
   "execution_count": 30,
   "metadata": {},
   "outputs": [
    {
     "name": "stderr",
     "output_type": "stream",
     "text": [
      "/home/mw957/project/conda_envs/r_env/lib/python3.7/site-packages/scipy/stats/stats.py:3446: ComplexWarning: Casting complex values to real discards the imaginary part\n",
      "  prob = 2*special.btdtr(ab, ab, 0.5*(1 - abs(np.float64(r))))\n"
     ]
    },
    {
     "data": {
      "text/plain": [
       "((0.9840183184936174+0j), 2.2154973947389793e-225)"
      ]
     },
     "execution_count": 30,
     "metadata": {},
     "output_type": "execute_result"
    }
   ],
   "source": [
    "scipy.stats.pearsonr(actual_time, v[:,sorted_idx[1]])"
   ]
  },
  {
   "cell_type": "markdown",
   "metadata": {},
   "source": [
    "## MST using 1/similarity as the edge weight "
   ]
  },
  {
   "cell_type": "code",
   "execution_count": 31,
   "metadata": {},
   "outputs": [],
   "source": [
    "inv_sim = 1/affinity\n",
    "X = csr_matrix(inv_sim)\n",
    "Tcsr = minimum_spanning_tree(X)\n",
    "\n",
    "tcsr_arr = Tcsr.toarray() + Tcsr.toarray().T\n",
    "tcsr_bool = tcsr_arr > 0\n",
    "\n",
    "row_sum = np.sum(tcsr_arr, axis = 1)\n",
    "D_inv = np.diag(1/row_sum)\n",
    "Tcsr_norm = D_inv @ tcsr_arr\n",
    "\n",
    "lmbda, v = np.linalg.eig(Tcsr_norm)\n",
    "sorted_idx = np.argsort(lmbda)[::-1]"
   ]
  },
  {
   "cell_type": "code",
   "execution_count": 32,
   "metadata": {},
   "outputs": [
    {
     "name": "stderr",
     "output_type": "stream",
     "text": [
      "/home/mw957/project/conda_envs/r_env/lib/python3.7/site-packages/numpy/core/_asarray.py:85: ComplexWarning: Casting complex values to real discards the imaginary part\n",
      "  return array(a, dtype, copy=False, order=order)\n"
     ]
    },
    {
     "data": {
      "text/plain": [
       "<matplotlib.legend.Legend at 0x2b3c2574eb10>"
      ]
     },
     "execution_count": 32,
     "metadata": {},
     "output_type": "execute_result"
    },
    {
     "data": {
      "image/png": "[encoded data removed]",
      "text/plain": [
       "<Figure size 432x288 with 1 Axes>"
      ]
     },
     "metadata": {
      "needs_background": "light"
     },
     "output_type": "display_data"
    }
   ],
   "source": [
    "plt.plot(v[:,sorted_idx[0]], label = \"1\")\n",
    "plt.plot(v[:,sorted_idx[1]], label = \"2\")\n",
    "plt.legend()"
   ]
  },
  {
   "cell_type": "code",
   "execution_count": 33,
   "metadata": {},
   "outputs": [
    {
     "name": "stderr",
     "output_type": "stream",
     "text": [
      "/home/mw957/project/conda_envs/r_env/lib/python3.7/site-packages/scipy/stats/stats.py:3446: ComplexWarning: Casting complex values to real discards the imaginary part\n",
      "  prob = 2*special.btdtr(ab, ab, 0.5*(1 - abs(np.float64(r))))\n"
     ]
    },
    {
     "data": {
      "text/plain": [
       "((0.984636946611821+0j), 6.468135489299919e-228)"
      ]
     },
     "execution_count": 33,
     "metadata": {},
     "output_type": "execute_result"
    }
   ],
   "source": [
    "scipy.stats.pearsonr(actual_time, v[:,sorted_idx[1]])"
   ]
  },
  {
   "cell_type": "markdown",
   "metadata": {},
   "source": [
    "- 2nd eigenvector on MST has lower correlation with actual time compared with using the full graph. \n",
    "- higher correlation with actual time when using 1/similarity compared with Euclidean distance."
   ]
  },
  {
   "cell_type": "markdown",
   "metadata": {},
   "source": [
    "## Simulate single trajectory"
   ]
  },
  {
   "cell_type": "code",
   "execution_count": 10,
   "metadata": {},
   "outputs": [],
   "source": [
    "import numpy as np\n",
    "import matplotlib.pyplot as plt"
   ]
  },
  {
   "cell_type": "code",
   "execution_count": 6,
   "metadata": {},
   "outputs": [],
   "source": [
    "x_early_deact = np.exp(np.arctan((np.arange(300, 0, -1) - 200)/50))\n",
    "x_late_deact = np.exp(np.arctan((np.arange(300, 0, -1) - 100)/50))\n",
    "x_early_act = np.exp(np.arctan((np.arange(1, 301) - 100)/50))\n",
    "x_late_act = np.exp(np.arctan((np.arange(1, 301) - 200)/50))\n",
    "x_transient = np.exp(np.arctan( np.hstack((np.arange(1, 101)/33, np.repeat(3,100), np.arange(100, 0, -1)/33))))"
   ]
  },
  {
   "cell_type": "code",
   "execution_count": 7,
   "metadata": {},
   "outputs": [
    {
     "data": {
      "text/plain": [
       "[<matplotlib.lines.Line2D at 0x2ad054808690>]"
      ]
     },
     "execution_count": 7,
     "metadata": {},
     "output_type": "execute_result"
    },
    {
     "data": {
      "image/png": "[encoded data removed]",
      "text/plain": [
       "<Figure size 432x288 with 1 Axes>"
      ]
     },
     "metadata": {
      "needs_background": "light"
     },
     "output_type": "display_data"
    }
   ],
   "source": [
    "plt.plot(x_early_deact)\n",
    "plt.plot(x_late_deact)\n",
    "plt.plot(x_early_act)\n",
    "plt.plot(x_late_act)\n",
    "plt.plot(x_transient)"
   ]
  },
  {
   "cell_type": "code",
   "execution_count": 9,
   "metadata": {},
   "outputs": [],
   "source": [
    "x_nonDE = np.repeat(np.array([0.1, 0.5, 1, 2, 3])[np.newaxis,], 300, axis = 0).T\n",
    "\n",
    "means = np.vstack(\n",
    " (np.repeat(x_nonDE,100, axis = 0), # 500 non DE\n",
    "  np.repeat(x_early_deact[np.newaxis,], 50, axis = 0), \n",
    "  np.repeat(x_late_deact[np.newaxis,], 50, axis = 0),\n",
    "  np.repeat(x_early_act[np.newaxis,], 50, axis = 0), \n",
    "  np.repeat(x_late_act[np.newaxis,], 50, axis = 0),\n",
    "  np.repeat(x_transient[np.newaxis,], 50, axis = 0)\n",
    " )\n",
    ") # cells x gene\n",
    "\n",
    "row_sum = np.apply_along_axis(sum, arr = means, axis = 1)\n",
    "D_inv = np.diag(1/row_sum)\n",
    "means_norm = D_inv @ means\n",
    "\n",
    "mu = 7500\n",
    "size = 4\n",
    "p = size/(size + mu)\n",
    "n = mu * p / (1 - p)\n",
    "\n",
    "total_counts = np.random.negative_binomial(n = n, p = p, size = 750)\n",
    "\n",
    "for i in range(1):\n",
    "    total_c = total_counts[i]\n",
    "    prob_vec = means_norm[i,:]\n",
    "    gene_count = np.random.multinomial(n = total_c, pvals = prob_vec)"
   ]
  },
  {
   "cell_type": "code",
   "execution_count": 2,
   "metadata": {},
   "outputs": [
    {
     "name": "stderr",
     "output_type": "stream",
     "text": [
      "R[write to console]: Getting parameters...\n",
      "R[write to console]: Creating simulation object...\n",
      "R[write to console]: Simulating library sizes...\n",
      "R[write to console]: Simulating gene means...\n",
      "R[write to console]: Simulating path endpoints...\n",
      "R[write to console]: Simulating path steps...\n",
      "R[write to console]: Simulating BCV...\n",
      "R[write to console]: Simulating counts...\n",
      "R[write to console]: Simulating dropout (if needed)...\n",
      "R[write to console]: Done!\n"
     ]
    }
   ],
   "source": [
    "n_paths = 3\n",
    "cells_per_path = 1000\n",
    "\n",
    "# Splatter returns a `dict` objbect that contains a bunch of useful information\n",
    "results = scprep.run.SplatSimulate(\n",
    "                        method='paths', \n",
    "                        batch_cells=cells_per_path * n_paths, \n",
    "                        group_prob=np.tile(1/n_paths, n_paths), \n",
    "                        n_genes=5000,\n",
    "                        de_down_prob=0.5,\n",
    "                        path_from=[0,0,0],\n",
    "                        mean_shape=1,\n",
    "                        seed=0)"
   ]
  },
  {
   "cell_type": "code",
   "execution_count": 3,
   "metadata": {},
   "outputs": [],
   "source": [
    "# Put counts data in DataFrame\n",
    "data = pd.DataFrame(results['counts'])\n",
    "\n",
    "# Put metadata in a DataFrame\n",
    "metadata = pd.DataFrame([results['step'], results['group']], index=['step', 'group']).transpose()\n",
    "metadata = metadata.astype({'step': int}) # These are strings by default, but we want ints\n",
    "\n",
    "# Adjusting the 'step' vector to monotonically increase\n",
    "p1_mask = metadata['group'] == 1\n",
    "metadata.loc[p1_mask, 'step'] = 100 - metadata.loc[p1_mask, 'step']\n",
    "p23_mask = np.isin(metadata['group'], [2,3])\n",
    "metadata.loc[p23_mask, 'step'] = 100 + metadata.loc[p23_mask, 'step']\n",
    "\n",
    "# Change DataFrame index names to be a little nicer\n",
    "new_index = pd.Index(['cell_{}'.format(i) for i in range(metadata.shape[0])])\n",
    "data.index = new_index\n",
    "metadata.index = new_index\n",
    "\n",
    "# Library-size normalize and sqrt transform\n",
    "data = scprep.normalize.library_size_normalize(data)\n",
    "data = scprep.transform.sqrt(data)"
   ]
  },
  {
   "cell_type": "code",
   "execution_count": null,
   "metadata": {},
   "outputs": [],
   "source": []
  }
 ],
 "metadata": {
  "kernelspec": {
   "display_name": "Python 3",
   "language": "python",
   "name": "python3"
  },
  "language_info": {
   "codemirror_mode": {
    "name": "ipython",
    "version": 3
   },
   "file_extension": ".py",
   "mimetype": "text/x-python",
   "name": "python",
   "nbconvert_exporter": "python",
   "pygments_lexer": "ipython3",
   "version": "3.7.6"
  }
 },
 "nbformat": 4,
 "nbformat_minor": 4
}
