{
 "cells": [
  {
   "cell_type": "code",
   "execution_count": 2,
   "metadata": {},
   "outputs": [],
   "source": [
    "# randomly simulate a binary tree of size 5\n",
    "\n",
    "import sys, os\n",
    "\n",
    "sys.path.append(\"/gpfs/ysm/project/kleinstein/mw957/repos/spectral-tree-inference/spectraltree\")\n",
    "\n",
    "import generation\n",
    "import reconstruct_tree\n",
    "import time\n",
    "import utils\n",
    "import pandas as pd\n",
    "\n",
    "n = 5\n",
    "tree = utils.unrooted_birth_death_tree(n)"
   ]
  },
  {
   "cell_type": "code",
   "execution_count": 25,
   "metadata": {},
   "outputs": [],
   "source": [
    "import dendropy\n",
    "import numpy as np\n",
    "import matplotlib.pyplot as plt"
   ]
  },
  {
   "cell_type": "code",
   "execution_count": 71,
   "metadata": {},
   "outputs": [
    {
     "name": "stdout",
     "output_type": "stream",
     "text": [
      "                                                  /------------------------- T4\n",
      "/-------------------------------------------------+                            \n",
      "|                                                 \\------------------------- T1\n",
      "+                                                                              \n",
      "|                                                 /------------------------- T3\n",
      "|                        /------------------------+                            \n",
      "\\------------------------+                        \\------------------------- T5\n",
      "                         |                                                     \n",
      "                         \\-------------------------------------------------- T2\n",
      "                                                                               \n",
      "                                                                               \n"
     ]
    }
   ],
   "source": [
    "tree.print_plot()"
   ]
  },
  {
   "cell_type": "code",
   "execution_count": 79,
   "metadata": {},
   "outputs": [],
   "source": [
    "# let's simulate some sequences\n",
    "m = 10\n",
    "seqs, metadata = generation.simulate_sequences(m, tree_model=tree, seq_model=generation.Jukes_Cantor(), mutation_rate=0.1, alphabet=\"DNA\")\n",
    "\n",
    "char_mat = utils.array2charmatrix(seqs, metadata)\n",
    "\n",
    "ch_list = list()\n",
    "for t in char_mat.taxon_namespace:\n",
    "    ch_list.append([x.symbol for x in char_mat[t]])\n",
    "ch_arr = np.array(ch_list)"
   ]
  },
  {
   "cell_type": "code",
   "execution_count": 82,
   "metadata": {},
   "outputs": [
    {
     "data": {
      "text/plain": [
       "([<matplotlib.axis.XTick at 0x2afb0062e5d0>,\n",
       "  <matplotlib.axis.XTick at 0x2afb0062e690>,\n",
       "  <matplotlib.axis.XTick at 0x2afb007e97d0>,\n",
       "  <matplotlib.axis.XTick at 0x2afb0019f910>,\n",
       "  <matplotlib.axis.XTick at 0x2afb0019fe50>],\n",
       " <a list of 5 Text major ticklabel objects>)"
      ]
     },
     "execution_count": 82,
     "metadata": {},
     "output_type": "execute_result"
    },
    {
     "data": {
      "image/png": "[encoded data removed]",
      "text/plain": [
       "<Figure size 432x288 with 1 Axes>"
      ]
     },
     "metadata": {
      "needs_background": "light"
     },
     "output_type": "display_data"
    }
   ],
   "source": [
    "HKY_sim = reconstruct_tree.HKY_similarity_matrix(seqs, metadata)\n",
    "\n",
    "# compute the second eigenvector of the similarity matrix and plot it\n",
    "w, v = np.linalg.eigh(HKY_sim)\n",
    "\n",
    "plt.plot(v[:,-2], \".\", markersize = 20)\n",
    "plt.xticks([0, 1, 2, 3, 4])"
   ]
  },
  {
   "cell_type": "code",
   "execution_count": 91,
   "metadata": {},
   "outputs": [
    {
     "data": {
      "text/plain": [
       "\"['T4', 'T1', 'T3', 'T5', 'T2']\""
      ]
     },
     "execution_count": 91,
     "metadata": {},
     "output_type": "execute_result"
    }
   ],
   "source": [
    "str(metadata)"
   ]
  },
  {
   "cell_type": "code",
   "execution_count": 83,
   "metadata": {},
   "outputs": [
    {
     "data": {
      "text/html": [
       "<div>\n",
       "<style scoped>\n",
       "    .dataframe tbody tr th:only-of-type {\n",
       "        vertical-align: middle;\n",
       "    }\n",
       "\n",
       "    .dataframe tbody tr th {\n",
       "        vertical-align: top;\n",
       "    }\n",
       "\n",
       "    .dataframe thead th {\n",
       "        text-align: right;\n",
       "    }\n",
       "</style>\n",
       "<table border=\"1\" class=\"dataframe\">\n",
       "  <thead>\n",
       "    <tr style=\"text-align: right;\">\n",
       "      <th></th>\n",
       "      <th>0</th>\n",
       "      <th>1</th>\n",
       "      <th>2</th>\n",
       "      <th>3</th>\n",
       "      <th>4</th>\n",
       "      <th>5</th>\n",
       "      <th>6</th>\n",
       "      <th>7</th>\n",
       "      <th>8</th>\n",
       "      <th>9</th>\n",
       "    </tr>\n",
       "  </thead>\n",
       "  <tbody>\n",
       "    <tr>\n",
       "      <th>0</th>\n",
       "      <td>C</td>\n",
       "      <td>T</td>\n",
       "      <td>G</td>\n",
       "      <td>T</td>\n",
       "      <td>T</td>\n",
       "      <td>G</td>\n",
       "      <td>T</td>\n",
       "      <td>C</td>\n",
       "      <td>T</td>\n",
       "      <td>A</td>\n",
       "    </tr>\n",
       "    <tr>\n",
       "      <th>1</th>\n",
       "      <td>A</td>\n",
       "      <td>T</td>\n",
       "      <td>G</td>\n",
       "      <td>T</td>\n",
       "      <td>T</td>\n",
       "      <td>C</td>\n",
       "      <td>T</td>\n",
       "      <td>A</td>\n",
       "      <td>C</td>\n",
       "      <td>A</td>\n",
       "    </tr>\n",
       "    <tr>\n",
       "      <th>2</th>\n",
       "      <td>C</td>\n",
       "      <td>T</td>\n",
       "      <td>G</td>\n",
       "      <td>T</td>\n",
       "      <td>T</td>\n",
       "      <td>C</td>\n",
       "      <td>T</td>\n",
       "      <td>A</td>\n",
       "      <td>C</td>\n",
       "      <td>A</td>\n",
       "    </tr>\n",
       "    <tr>\n",
       "      <th>3</th>\n",
       "      <td>C</td>\n",
       "      <td>T</td>\n",
       "      <td>G</td>\n",
       "      <td>T</td>\n",
       "      <td>G</td>\n",
       "      <td>G</td>\n",
       "      <td>C</td>\n",
       "      <td>T</td>\n",
       "      <td>T</td>\n",
       "      <td>A</td>\n",
       "    </tr>\n",
       "    <tr>\n",
       "      <th>4</th>\n",
       "      <td>C</td>\n",
       "      <td>T</td>\n",
       "      <td>G</td>\n",
       "      <td>T</td>\n",
       "      <td>T</td>\n",
       "      <td>C</td>\n",
       "      <td>T</td>\n",
       "      <td>A</td>\n",
       "      <td>C</td>\n",
       "      <td>A</td>\n",
       "    </tr>\n",
       "  </tbody>\n",
       "</table>\n",
       "</div>"
      ],
      "text/plain": [
       "   0  1  2  3  4  5  6  7  8  9\n",
       "0  C  T  G  T  T  G  T  C  T  A\n",
       "1  A  T  G  T  T  C  T  A  C  A\n",
       "2  C  T  G  T  T  C  T  A  C  A\n",
       "3  C  T  G  T  G  G  C  T  T  A\n",
       "4  C  T  G  T  T  C  T  A  C  A"
      ]
     },
     "execution_count": 83,
     "metadata": {},
     "output_type": "execute_result"
    }
   ],
   "source": [
    "pd.DataFrame(ch_arr)"
   ]
  },
  {
   "cell_type": "code",
   "execution_count": 84,
   "metadata": {},
   "outputs": [
    {
     "data": {
      "text/plain": [
       "array([[1.        , 0.11890707, 0.01800234, 0.01800234, 0.        ],\n",
       "       [0.11890707, 1.        , 0.20462554, 0.20462554, 0.08725854],\n",
       "       [0.01800234, 0.20462554, 1.        , 1.        , 0.64455316],\n",
       "       [0.01800234, 0.20462554, 1.        , 1.        , 0.64455316],\n",
       "       [0.        , 0.08725854, 0.64455316, 0.64455316, 1.        ]])"
      ]
     },
     "execution_count": 84,
     "metadata": {},
     "output_type": "execute_result"
    }
   ],
   "source": [
    "HKY_sim"
   ]
  },
  {
   "cell_type": "code",
   "execution_count": 86,
   "metadata": {},
   "outputs": [
    {
     "name": "stdout",
     "output_type": "stream",
     "text": [
      "253428.0 KB\n",
      "partition\n",
      "L1 size:  3\n",
      "L2 size:  2\n",
      "253428.0 KB\n",
      "--- 0.0003039836883544922 seconds ---\n",
      "253428.0 KB\n",
      "--- 0.0003268718719482422 seconds ---\n",
      "253428.0 KB\n",
      "len(bipartitions1) 5\n",
      "one\n",
      "one - merging:  1  out of:  3\n",
      "len(bipartitions2) 3\n",
      "one\n",
      "one - merging:  1  out of:  2\n"
     ]
    }
   ],
   "source": [
    "spectral_method = reconstruct_tree.SpectralTreeReconstruction(reconstruct_tree.NeighborJoining, reconstruct_tree.JC_similarity_matrix)\n",
    "        \n",
    "tree_rec = spectral_method.deep_spectral_tree_reconstruction(seqs, reconstruct_tree.JC_similarity_matrix, \n",
    "                                                            taxa_metadata = metadata,\n",
    "                                                            threshhold = 3, min_split = 2, verbose = True)"
   ]
  },
  {
   "cell_type": "code",
   "execution_count": 87,
   "metadata": {},
   "outputs": [
    {
     "name": "stdout",
     "output_type": "stream",
     "text": [
      "                         /-------------------------------------------------- T2\n",
      "/------------------------+                                                     \n",
      "|                        |                        /------------------------- T3\n",
      "|                        \\------------------------+                            \n",
      "+                                                 \\------------------------- T5\n",
      "|                                                                              \n",
      "|                                                 /------------------------- T4\n",
      "\\-------------------------------------------------+                            \n",
      "                                                  \\------------------------- T1\n",
      "                                                                               \n",
      "                                                                               \n"
     ]
    }
   ],
   "source": [
    "tree_rec.print_plot()"
   ]
  }
 ],
 "metadata": {
  "kernelspec": {
   "display_name": "Python 3",
   "language": "python",
   "name": "python3"
  },
  "language_info": {
   "codemirror_mode": {
    "name": "ipython",
    "version": 3
   },
   "file_extension": ".py",
   "mimetype": "text/x-python",
   "name": "python",
   "nbconvert_exporter": "python",
   "pygments_lexer": "ipython3",
   "version": "3.7.6"
  }
 },
 "nbformat": 4,
 "nbformat_minor": 4
}
